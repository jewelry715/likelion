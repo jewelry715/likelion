{
 "cells": [
  {
   "cell_type": "code",
   "execution_count": 1,
   "metadata": {},
   "outputs": [
    {
     "name": "stdout",
     "output_type": "stream",
     "text": [
      "\n"
     ]
    }
   ],
   "source": [
    "import sys\n",
    "input_data=sys.stdin.readline().rstrip()\n",
    "print(input_data)"
   ]
  },
  {
   "cell_type": "code",
   "execution_count": 2,
   "metadata": {},
   "outputs": [
    {
     "name": "stdout",
     "output_type": "stream",
     "text": [
      "3\n",
      "15\n",
      "27\n",
      "12\n",
      "27 15 12 "
     ]
    }
   ],
   "source": [
    "n=int(input())\n",
    "array=[]\n",
    "for i in range(n):\n",
    "    array.append(int(input()))\n",
    "array=sorted(array,reverse=True)\n",
    "for i in array:\n",
    "    print(i,end=' ')"
   ]
  },
  {
   "cell_type": "code",
   "execution_count": 3,
   "metadata": {},
   "outputs": [
    {
     "name": "stdout",
     "output_type": "stream",
     "text": [
      "3\n",
      "김남준 24\n",
      "김석진 23\n",
      "민윤가 26\n",
      "김석진 김남준 민윤가 "
     ]
    }
   ],
   "source": [
    "n=int(input())\n",
    "array=[]\n",
    "for i in range(n):\n",
    "    input_data=input().split()\n",
    "    array.append((input_data[0],int(input_data[1])))\n",
    "array=sorted(array,key=lambda student:student[1])\n",
    "for student in array:\n",
    "    print(student[0],end=' ')"
   ]
  },
  {
   "cell_type": "code",
   "execution_count": 2,
   "metadata": {},
   "outputs": [],
   "source": [
    "def binary_search(array,target,start,end):\n",
    "    while start<=end:\n",
    "        mid=(start+end)//2\n",
    "        if array[mid]==target:\n",
    "            return mid\n",
    "        elif array[mid]>target:\n",
    "            end=mid-1\n",
    "        else:\n",
    "            start=mid+1\n",
    "    return None"
   ]
  },
  {
   "cell_type": "code",
   "execution_count": 3,
   "metadata": {},
   "outputs": [
    {
     "name": "stdout",
     "output_type": "stream",
     "text": [
      "5\n",
      "8 3 7 9 2\n",
      "3\n",
      "5 7 9\n",
      "no yes yes "
     ]
    }
   ],
   "source": [
    "n=int(input())\n",
    "array=list(map(int,input().split()))\n",
    "array.sort()\n",
    "m=int(input())\n",
    "x=list(map(int,input().split()))\n",
    "for i in x:\n",
    "    result=binary_search(array,i,0,n-1)\n",
    "    if result!=None:\n",
    "        print('yes',end=' ')\n",
    "    else:\n",
    "        print('no', end = ' ')"
   ]
  },
  {
   "cell_type": "code",
   "execution_count": 1,
   "metadata": {},
   "outputs": [
    {
     "name": "stdout",
     "output_type": "stream",
     "text": [
      "5\n",
      "8 3 7 9 2\n",
      "3\n",
      "5 7 9\n",
      "no yes yes "
     ]
    }
   ],
   "source": [
    "n = int(input())\n",
    "array = [0] * 1000001\n",
    "\n",
    "for i in input().split():\n",
    "    array[int(i)] = 1\n",
    "\n",
    "m = int(input())\n",
    "x = list(map(int, input().split()))\n",
    "\n",
    "for i in x:\n",
    "    if array[i] == 1:\n",
    "        print('yes', end = ' ')\n",
    "    else:\n",
    "        print('no', end = ' ')"
   ]
  },
  {
   "cell_type": "code",
   "execution_count": 7,
   "metadata": {},
   "outputs": [
    {
     "name": "stdout",
     "output_type": "stream",
     "text": [
      "4 6\n",
      "19 15 10 17\n",
      "15\n"
     ]
    }
   ],
   "source": [
    "n,m=list(map(int,input().split(' ')))\n",
    "array=list(map(int,input().split()))\n",
    "start=0\n",
    "end=max(array)\n",
    "result=0\n",
    "while(start<=end):\n",
    "    total=0\n",
    "    mid=(start+end)//2\n",
    "    for x in array:\n",
    "        if x>mid:\n",
    "            total+=x-mid\n",
    "    if total<m:\n",
    "        end=mid-1\n",
    "    else:\n",
    "        result=mid\n",
    "        start=mid+1\n",
    "print(result)"
   ]
  },
  {
   "cell_type": "code",
   "execution_count": 6,
   "metadata": {},
   "outputs": [
    {
     "name": "stdout",
     "output_type": "stream",
     "text": [
      "[5, 7, 8, 9]\n"
     ]
    }
   ],
   "source": [
    "array=[7,5,9,8]\n",
    "for i in range(1,len(array)):#첫번째를 제외한 나머지 순차적 수행\n",
    "    for j in range(i,0,-1):#i에서 1씩 감소\n",
    "        if array[j]<array[j-1]:#두번째 인덱스기준, 앞으로 비교하며 반복 수행\n",
    "            array[j],array[j-1]=array[j-1],array[j]#첫번째는 두번째, 두번째는 첫번째로\n",
    "        else:#자기보다 작으면 멈춘다\n",
    "            break\n",
    "print(array)"
   ]
  },
  {
   "cell_type": "code",
   "execution_count": 7,
   "metadata": {},
   "outputs": [
    {
     "name": "stdout",
     "output_type": "stream",
     "text": [
      "[5, 7, 9]\n"
     ]
    }
   ],
   "source": [
    "array=[7,5,9]\n",
    "for i in range(len(array)):#문제의 수만큼 반복\n",
    "    min_index=i #첫번째부터 min_index라 가정\n",
    "    for j in range(i+1,len(array)):#첫번째 원소를 제외하고 반복 수행\n",
    "        if array[min_index]>array[j]:\n",
    "            min_index=j\n",
    "    array[i],array[min_index]=array[min_index],array[i]\n",
    "print(array)"
   ]
  },
  {
   "cell_type": "code",
   "execution_count": null,
   "metadata": {},
   "outputs": [],
   "source": []
  }
 ],
 "metadata": {
  "kernelspec": {
   "display_name": "Python 3",
   "language": "python",
   "name": "python3"
  },
  "language_info": {
   "codemirror_mode": {
    "name": "ipython",
    "version": 3
   },
   "file_extension": ".py",
   "mimetype": "text/x-python",
   "name": "python",
   "nbconvert_exporter": "python",
   "pygments_lexer": "ipython3",
   "version": "3.7.3"
  }
 },
 "nbformat": 4,
 "nbformat_minor": 2
}
