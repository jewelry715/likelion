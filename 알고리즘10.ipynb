{
 "cells": [
  {
   "cell_type": "code",
   "execution_count": 1,
   "metadata": {},
   "outputs": [
    {
     "name": "stdout",
     "output_type": "stream",
     "text": [
      "3\n",
      "15\n",
      "27\n",
      "12\n",
      "27 15 12 "
     ]
    }
   ],
   "source": [
    "n=int(input())\n",
    "array=[]\n",
    "for i in range(n):\n",
    "    array.append(int(input()))\n",
    "array=sorted(array,reverse=True)\n",
    "for i in array:\n",
    "    print(i,end=' ')"
   ]
  },
  {
   "cell_type": "code",
   "execution_count": 2,
   "metadata": {},
   "outputs": [
    {
     "name": "stdout",
     "output_type": "stream",
     "text": [
      "2\n",
      "김태형 95\n",
      "전정국 100\n",
      "김태형 전정국 "
     ]
    }
   ],
   "source": [
    "n=int(input())\n",
    "array=[]\n",
    "for i in range(n):\n",
    "    input_data=input().split()\n",
    "    array.append((input_data[0],int(input_data[1])))\n",
    "array=sorted(array,key=lambda student:student[1])\n",
    "for student in array:\n",
    "    print(student[0],end=' ')"
   ]
  },
  {
   "cell_type": "code",
   "execution_count": 3,
   "metadata": {},
   "outputs": [
    {
     "name": "stdout",
     "output_type": "stream",
     "text": [
      "생성할 원소 개수를 입력한 다음 한칸 띄고 찾을 문자열 입력\n"
     ]
    }
   ],
   "source": [
    "def sequential_search(n,target,array):\n",
    "    for i in range(n):\n",
    "        if array[i]==target:\n",
    "            return i+1\n",
    "print('생성할 원소 개수를 입력한 다음 한칸 띄고 찾을 문자열 입력')"
   ]
  },
  {
   "cell_type": "code",
   "execution_count": 4,
   "metadata": {},
   "outputs": [
    {
     "name": "stdout",
     "output_type": "stream",
     "text": [
      "7 김태형\n",
      "앞서 적은 원소개수만큼 보기 문자열을 입력하세요 구분은 띄어쓰기 한 칸으로 합니다\n",
      "김남준 김석진 민윤기 정호석 박지민 김태형 전정국\n"
     ]
    }
   ],
   "source": [
    "input_data=input().split()\n",
    "n=int(input_data[0])\n",
    "target=input_data[1]\n",
    "print('앞서 적은 원소개수만큼 보기 문자열을 입력하세요 구분은 띄어쓰기 한 칸으로 합니다')\n",
    "array=input().split()"
   ]
  },
  {
   "cell_type": "code",
   "execution_count": 5,
   "metadata": {},
   "outputs": [
    {
     "name": "stdout",
     "output_type": "stream",
     "text": [
      "6\n"
     ]
    }
   ],
   "source": [
    "print(sequential_search(n, target, array))"
   ]
  },
  {
   "cell_type": "code",
   "execution_count": 1,
   "metadata": {},
   "outputs": [
    {
     "name": "stdout",
     "output_type": "stream",
     "text": [
      "10 7\n",
      "1 3 5 7 9 11 13 15 17 19\n",
      "4\n"
     ]
    }
   ],
   "source": [
    "def binary_search(array,target,start,end):\n",
    "    if start>end:\n",
    "        return None\n",
    "    mid=(start+end)//2\n",
    "    if array[mid]==target:\n",
    "        return mid\n",
    "    elif array[mid]>target:\n",
    "        return binary_search(array,target,start,mid-1)\n",
    "    else:\n",
    "        return binary_search(array,target,mid+1,end)\n",
    "n, target = list(map(int, input().split()))\n",
    "array = list(map(int, input().split()))\n",
    "result=binary_search(array,target,0,n-1)\n",
    "if result==None:\n",
    "    print('원소가 존재하지 않습니다')\n",
    "else:\n",
    "    print(result+1)"
   ]
  }
 ],
 "metadata": {
  "kernelspec": {
   "display_name": "Python 3",
   "language": "python",
   "name": "python3"
  },
  "language_info": {
   "codemirror_mode": {
    "name": "ipython",
    "version": 3
   },
   "file_extension": ".py",
   "mimetype": "text/x-python",
   "name": "python",
   "nbconvert_exporter": "python",
   "pygments_lexer": "ipython3",
   "version": "3.7.3"
  }
 },
 "nbformat": 4,
 "nbformat_minor": 2
}
