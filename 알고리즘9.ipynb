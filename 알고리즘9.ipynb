{
 "cells": [
  {
   "cell_type": "code",
   "execution_count": 1,
   "metadata": {},
   "outputs": [
    {
     "name": "stdout",
     "output_type": "stream",
     "text": [
      "[5, 7, 9]\n"
     ]
    }
   ],
   "source": [
    "array=[7,5,9]\n",
    "for i in range(len(array)):\n",
    "    min_index=i\n",
    "    for j in range(i+1,len(array)):\n",
    "        if array[min_index]>array[j]:\n",
    "            min_index=j\n",
    "    array[i],array[min_index]=array[min_index],array[i]\n",
    "print(array)"
   ]
  },
  {
   "cell_type": "code",
   "execution_count": 2,
   "metadata": {},
   "outputs": [
    {
     "name": "stdout",
     "output_type": "stream",
     "text": [
      "[5, 7, 8, 9]\n"
     ]
    }
   ],
   "source": [
    "array=[7,5,9,8]\n",
    "for i in range(1,len(array)):\n",
    "    for j in range(i,0,-1):\n",
    "        if array[j]<array[j-1]:\n",
    "            array[j],array[j-1]=array[j-1],array[j]\n",
    "        else:\n",
    "            break\n",
    "print(array)"
   ]
  },
  {
   "cell_type": "code",
   "execution_count": 3,
   "metadata": {},
   "outputs": [
    {
     "name": "stdout",
     "output_type": "stream",
     "text": [
      "3\n",
      "15\n"
     ]
    }
   ],
   "source": [
    "n=map(int,input())\n",
    "sorted_=list(map(int,input().split()))"
   ]
  },
  {
   "cell_type": "code",
   "execution_count": 4,
   "metadata": {},
   "outputs": [
    {
     "name": "stdout",
     "output_type": "stream",
     "text": [
      "[0, 1, 2, 3, 4, 5, 6, 7, 8, 9]\n"
     ]
    }
   ],
   "source": [
    "array=[5,7,9,0,3,1,6,2,4,8]\n",
    "def quick_sort(array):\n",
    "    if len(array)<=1:\n",
    "        return array\n",
    "    pivot=array[0]\n",
    "    tail=array[1:]\n",
    "    left_side=[x for x in tail if x<=pivot]\n",
    "    right_side=[x for x in tail if x>pivot]\n",
    "    return quick_sort(left_side)+[pivot]+quick_sort(right_side)\n",
    "print(quick_sort(array))"
   ]
  },
  {
   "cell_type": "code",
   "execution_count": null,
   "metadata": {},
   "outputs": [],
   "source": [
    "def quick_sort(array,start,end):\n",
    "    if start>=end:\n",
    "        return\n",
    "    pivot=start\n",
    "    left=start+1\n",
    "    right=end\n",
    "    while left<=right:\n",
    "        while left<=end and array[left]<=array[pivot]:\n",
    "            while right>start and array[right]>=array[pivot]:\n",
    "                right-=1\n",
    "            if left>right:\n",
    "                array[right],array[pivot]=array[pivot],array[right]\n",
    "            else:\n",
    "                array[left],array[right]=array[right],array[left]\n",
    "    quick_sort(array,start,right-1)\n",
    "    quick_sort(array,right+1,end)\n",
    "quick_sort(array,0,len(array)-1)\n",
    "print(array)"
   ]
  },
  {
   "cell_type": "code",
   "execution_count": null,
   "metadata": {},
   "outputs": [],
   "source": [
    "array = [7, 5, 9, 0, 3, 1, 6, 2, 9, 1, 4, 8, 0, 5, 2]\n",
    "count=[0]*(max(array)+1)\n",
    "for i in range(len(array)):\n",
    "    count[array[i]]+=1\n",
    "for i in range(len(count)):\n",
    "    for j in range(count[i]):\n",
    "        print(i,end=' ')"
   ]
  },
  {
   "cell_type": "code",
   "execution_count": null,
   "metadata": {},
   "outputs": [],
   "source": []
  }
 ],
 "metadata": {
  "kernelspec": {
   "display_name": "Python 3",
   "language": "python",
   "name": "python3"
  },
  "language_info": {
   "codemirror_mode": {
    "name": "ipython",
    "version": 3
   },
   "file_extension": ".py",
   "mimetype": "text/x-python",
   "name": "python",
   "nbconvert_exporter": "python",
   "pygments_lexer": "ipython3",
   "version": "3.7.3"
  }
 },
 "nbformat": 4,
 "nbformat_minor": 2
}
