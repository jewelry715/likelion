{
 "cells": [
  {
   "cell_type": "code",
   "execution_count": 1,
   "metadata": {},
   "outputs": [],
   "source": [
    "import numpy as np"
   ]
  },
  {
   "cell_type": "code",
   "execution_count": 2,
   "metadata": {},
   "outputs": [],
   "source": [
    "def im2col(image,flt_h,flt_w,out_h,out_w):\n",
    "    img_h,img_w=image.shape\n",
    "    cols=np.zeros((flt_h*flt_w,out_h*out_w))\n",
    "    for h in range(out_h):\n",
    "        h_lim=h+flt_h\n",
    "        for w in range(out_w):\n",
    "            w_lim=w+flt_w\n",
    "            cols[:,h*out_w+w]=image[h:h_lim,w:w_lim].reshape(-1)\n",
    "            print(cols)\n",
    "    cols=cols.reshape(flt_h*flt_w,out_h,out_w)\n",
    "    return cols"
   ]
  },
  {
   "cell_type": "code",
   "execution_count": 3,
   "metadata": {},
   "outputs": [
    {
     "name": "stdout",
     "output_type": "stream",
     "text": [
      "[[1. 0. 0. 0. 0. 0. 0. 0. 0.]\n",
      " [2. 0. 0. 0. 0. 0. 0. 0. 0.]\n",
      " [5. 0. 0. 0. 0. 0. 0. 0. 0.]\n",
      " [6. 0. 0. 0. 0. 0. 0. 0. 0.]]\n",
      "[[1. 2. 0. 0. 0. 0. 0. 0. 0.]\n",
      " [2. 3. 0. 0. 0. 0. 0. 0. 0.]\n",
      " [5. 6. 0. 0. 0. 0. 0. 0. 0.]\n",
      " [6. 7. 0. 0. 0. 0. 0. 0. 0.]]\n",
      "[[1. 2. 3. 0. 0. 0. 0. 0. 0.]\n",
      " [2. 3. 4. 0. 0. 0. 0. 0. 0.]\n",
      " [5. 6. 7. 0. 0. 0. 0. 0. 0.]\n",
      " [6. 7. 8. 0. 0. 0. 0. 0. 0.]]\n",
      "[[ 1.  2.  3.  5.  0.  0.  0.  0.  0.]\n",
      " [ 2.  3.  4.  6.  0.  0.  0.  0.  0.]\n",
      " [ 5.  6.  7.  9.  0.  0.  0.  0.  0.]\n",
      " [ 6.  7.  8. 10.  0.  0.  0.  0.  0.]]\n",
      "[[ 1.  2.  3.  5.  6.  0.  0.  0.  0.]\n",
      " [ 2.  3.  4.  6.  7.  0.  0.  0.  0.]\n",
      " [ 5.  6.  7.  9. 10.  0.  0.  0.  0.]\n",
      " [ 6.  7.  8. 10. 11.  0.  0.  0.  0.]]\n",
      "[[ 1.  2.  3.  5.  6.  7.  0.  0.  0.]\n",
      " [ 2.  3.  4.  6.  7.  8.  0.  0.  0.]\n",
      " [ 5.  6.  7.  9. 10. 11.  0.  0.  0.]\n",
      " [ 6.  7.  8. 10. 11. 12.  0.  0.  0.]]\n",
      "[[ 1.  2.  3.  5.  6.  7.  9.  0.  0.]\n",
      " [ 2.  3.  4.  6.  7.  8. 10.  0.  0.]\n",
      " [ 5.  6.  7.  9. 10. 11. 13.  0.  0.]\n",
      " [ 6.  7.  8. 10. 11. 12. 14.  0.  0.]]\n",
      "[[ 1.  2.  3.  5.  6.  7.  9. 10.  0.]\n",
      " [ 2.  3.  4.  6.  7.  8. 10. 11.  0.]\n",
      " [ 5.  6.  7.  9. 10. 11. 13. 14.  0.]\n",
      " [ 6.  7.  8. 10. 11. 12. 14. 15.  0.]]\n",
      "[[ 1.  2.  3.  5.  6.  7.  9. 10. 11.]\n",
      " [ 2.  3.  4.  6.  7.  8. 10. 11. 12.]\n",
      " [ 5.  6.  7.  9. 10. 11. 13. 14. 15.]\n",
      " [ 6.  7.  8. 10. 11. 12. 14. 15. 16.]]\n",
      "[[[ 1.  2.  3.]\n",
      "  [ 5.  6.  7.]\n",
      "  [ 9. 10. 11.]]\n",
      "\n",
      " [[ 2.  3.  4.]\n",
      "  [ 6.  7.  8.]\n",
      "  [10. 11. 12.]]\n",
      "\n",
      " [[ 5.  6.  7.]\n",
      "  [ 9. 10. 11.]\n",
      "  [13. 14. 15.]]\n",
      "\n",
      " [[ 6.  7.  8.]\n",
      "  [10. 11. 12.]\n",
      "  [14. 15. 16.]]]\n"
     ]
    }
   ],
   "source": [
    "img=np.array([[1,2,3,4],[5,6,7,8],\n",
    "             [9,10,11,12],[13,14,15,16]])\n",
    "cols=im2col(img,2,2,3,3)\n",
    "print(cols)"
   ]
  },
  {
   "cell_type": "code",
   "execution_count": 4,
   "metadata": {},
   "outputs": [],
   "source": [
    "#배치사이즈가 2 이상이고 여러개의 채널을 가지고 있을 경우'\n",
    "def im2col(images,flt_h,flt_w,out_h,out_w,stride,pad):\n",
    "    n_bt,n_ch,img_h,img_w=images.shape\n",
    "    #1행에 패딩을 적용, 배열이미지에는 채널마다 이미지가 있지만 적용x\n",
    "    #상하좌우에만 0을 삽입\n",
    "    img_pad=np.pad(images,[(0,0),(0,0),(pad,pad),(pad,pad)],'constant')\n",
    "    cols=np.zeros((n_bt,n_ch,flt_h,flt_w,out_h,out_w))\n",
    "    for h in range(flt_h):\n",
    "        h_lim=h+out_h*stride\n",
    "        for w in range(flt_w):\n",
    "            w_lim=w+out_w*stride\n",
    "            cols[:,:,h,w,:,:]=img_pad[:,:,h:h_lim:stride,w:w_lim:stride]\n",
    "    cols=cols.transpose(1,2,3,0,4,5).reshape(\n",
    "    n_ch*flt_h*flt_w,n_bt*out_h*out_w)\n",
    "    return cols"
   ]
  },
  {
   "cell_type": "code",
   "execution_count": 5,
   "metadata": {},
   "outputs": [
    {
     "name": "stdout",
     "output_type": "stream",
     "text": [
      "패딩 적용 전 \n",
      " [[[[ 1  2  3  4]\n",
      "   [ 5  6  7  8]\n",
      "   [ 9 10 11 12]\n",
      "   [13 14 15 16]]]]\n",
      "패딩 적용 후 \n",
      " [[[[ 0  0  0  0  0  0]\n",
      "   [ 0  1  2  3  4  0]\n",
      "   [ 0  5  6  7  8  0]\n",
      "   [ 0  9 10 11 12  0]\n",
      "   [ 0 13 14 15 16  0]\n",
      "   [ 0  0  0  0  0  0]]]]\n"
     ]
    }
   ],
   "source": [
    "import numpy as np\n",
    "img = np.array([[[[1,2,3,4],\n",
    "[5,6,7,8],\n",
    "[9,10,11,12],\n",
    "[13,14,15,16]]]])\n",
    "print(\"패딩 적용 전 \\n\",img)\n",
    "pad = 1\n",
    "# 배치, 채널은 패딩을 적용하지 말고, 상하좌우에만 0을 삽입.\n",
    "# constant로 두고 별도의 pad값을 주지 않으면 0을 삽입.\n",
    "img_pad = np.pad(img, [(0,0),(0,0), (pad, pad), (pad, pad)], 'constant')\n",
    "print(\"패딩 적용 후 \\n\", img_pad)"
   ]
  },
  {
   "cell_type": "code",
   "execution_count": 6,
   "metadata": {},
   "outputs": [
    {
     "data": {
      "text/plain": [
       "[(0, 0), (0, 0), (1, 1), (1, 1)]"
      ]
     },
     "execution_count": 6,
     "metadata": {},
     "output_type": "execute_result"
    }
   ],
   "source": [
    "[(0,0),(0,0), (pad, pad), (pad, pad)]"
   ]
  },
  {
   "cell_type": "code",
   "execution_count": 7,
   "metadata": {},
   "outputs": [],
   "source": [
    "?np.pad"
   ]
  },
  {
   "cell_type": "code",
   "execution_count": 8,
   "metadata": {},
   "outputs": [
    {
     "name": "stdout",
     "output_type": "stream",
     "text": [
      "[[ 1.  2.  3.  5.  6.  7.  9. 10. 11.]\n",
      " [ 2.  3.  4.  6.  7.  8. 10. 11. 12.]\n",
      " [ 5.  6.  7.  9. 10. 11. 13. 14. 15.]\n",
      " [ 6.  7.  8. 10. 11. 12. 14. 15. 16.]]\n"
     ]
    }
   ],
   "source": [
    "cols=im2col(img,2,2,3,3,1,0)\n",
    "print(cols)"
   ]
  },
  {
   "cell_type": "code",
   "execution_count": 9,
   "metadata": {},
   "outputs": [],
   "source": [
    "def col2im(cols,img_shape,flt_h,flt_w,out_h,out_w,stride,pad):\n",
    "    n_bt,n_ch,img_h,img_w=img_shape\n",
    "    cols=cols.reshape(n_ch,flt_h,flt_w,n_bt,out_h,out_w).transpose(3,0,1,2,4,5)\n",
    "    images=np.zeros((n_bt,n_ch,img_h+2*pad+stride-1,img_w+2*pad+stride-1))\n",
    "    for h in range(flt_h):\n",
    "        h_lim=h+stride*out_h\n",
    "        for w in range(flt_w):\n",
    "            w_lim=w+stride*out_w\n",
    "            images[:,:,h:h_lim:stride,w:w_lim:stride]+=cols[:,:,h,w,:,:]\n",
    "            #print(images)\n",
    "    return images[:,:,pad:img_h+pad,pad:img_w+pad]"
   ]
  },
  {
   "cell_type": "code",
   "execution_count": 10,
   "metadata": {},
   "outputs": [
    {
     "name": "stdout",
     "output_type": "stream",
     "text": [
      "[[[[1. 2. 1.]\n",
      "   [2. 4. 2.]\n",
      "   [1. 2. 1.]]]]\n"
     ]
    }
   ],
   "source": [
    "cols=np.ones((4,4))\n",
    "img_shape=(1,1,3,3)\n",
    "images=col2im(cols,img_shape,2,2,2,2,1,0)\n",
    "print(images)"
   ]
  },
  {
   "cell_type": "code",
   "execution_count": 11,
   "metadata": {},
   "outputs": [
    {
     "data": {
      "text/plain": [
       "array([[1., 1., 1., 1.],\n",
       "       [1., 1., 1., 1.],\n",
       "       [1., 1., 1., 1.],\n",
       "       [1., 1., 1., 1.]])"
      ]
     },
     "execution_count": 11,
     "metadata": {},
     "output_type": "execute_result"
    }
   ],
   "source": [
    "cols"
   ]
  },
  {
   "cell_type": "code",
   "execution_count": 12,
   "metadata": {},
   "outputs": [],
   "source": [
    "class ConvLayer:\n",
    "    def __init__(self,x_ch,x_h,x_w,n_flt,flt_h,flt_w,stride,pad):\n",
    "        self.params=(x_ch,x_h,x_w,n_flt,flt_h,flt_w,stride,pad)\n",
    "        self.w=wb_width*np.random.randn(n_flt,x_ch,flt_h,flt_w)\n",
    "        self.b=wb_width*np.random.randn(1,n_flt)\n",
    "        self.y_ch=n_flt #출력 채널수\n",
    "        self.y_h=(x_h-flt_h+2*pad)//stride+1#출력 높이\n",
    "        self.y_w=(x_w-flt_w+2*pad)//stride+1#출력 너비\n",
    "        #Adagrad\n",
    "        self.h_w=np.zeros((n_flt,x_ch,flt_h,flt_w))+1e-8\n",
    "        self.h_b=np.zeros((1,n_flt))+1e-8\n",
    "    def forward(self,x):\n",
    "        n_bt=x.shape[0]\n",
    "        x_ch,x_h,x_w,n_flt,flt_h,flt_w,stride,pad=self.params\n",
    "        y_ch,y_h,y_w=self.y_ch,self.y_h,self.y_w\n",
    "        self.cols=im2col(x, flt_h, flt_w, y_h, y_w, stride, pad)\n",
    "        self.w_col=self.w.reshape(n_flt,x_ch*flt_h*flt_w)\n",
    "        u=np.dot(self.w_col,self.cols).T+self.b\n",
    "        self.u=u.reshape(n_bt,y_h,y_w,y_ch).transpose(0,3,1,2)\n",
    "        self.y=np.where(self.u<=0,0,self.u)\n",
    "    def backward(self,grad_y):\n",
    "        n_bt=grad_y.shape[0]\n",
    "        x_ch, x_h, x_w, n_flt, flt_h, flt_w, stride, pad = self.params\n",
    "        y_ch, y_h, y_w = self.y_ch, self.y_h, self.y_w\n",
    "        delta=grad_y*np.where(self.u<=0,0,1)\n",
    "        delta=delta.transpose(0,2,3,1).reshape(n_bt*y_h*y_w,y_ch)\n",
    "        grad_w=np.dot(self.cols,delta)\n",
    "        self.grad_w=grad_w.T.reshape(n_flt,x_ch,flt_h,flt_w)\n",
    "        self.grad_b=np.sum(delta,axis=0)\n",
    "        grad_cols=np.dot(delta,self.w_col)\n",
    "        x_shape=(n_bt,x_ch,x_h,x_w)\n",
    "        self.grad_x=col2im(grad_cols.T,x_shape,flt_h,flt_w,y_h,y_w,stride,pad)\n",
    "    def update(self,eta):\n",
    "        self.h_w+=self.grad_w*self.grad_w\n",
    "        self.w-=eta/np.sqrt(self.h_w)*self.grad_w\n",
    "        self.h_b+=self.grad_b*self.grad_b\n",
    "        self.b-=eta/np.sqrt(self.h_b)*self.grad_b"
   ]
  },
  {
   "cell_type": "code",
   "execution_count": 36,
   "metadata": {},
   "outputs": [],
   "source": [
    "class PoolingLayer:\n",
    "    def __init__(self,x_ch,x_h,x_w,pool,pad):\n",
    "        self.params=(x_ch,x_h,x_w,pool,pad)\n",
    "        self.y_ch=x_ch\n",
    "        self.y_h = x_h//pool if x_h%pool==0 else x_h//pool+1 # 출력 높이\n",
    "        self.y_w = x_w//pool if x_w%pool==0 else x_w//pool+1 # 출력 너비\n",
    "    def forward(self,x):\n",
    "        n_bt=x.shape[0]\n",
    "        x_ch,x_h,x_w,pool,pad=self.params\n",
    "        y_ch,y_h,y_w=self.y_ch,self.y_h,self.y_w\n",
    "        cols=im2col(x,pool,pool,y_h,y_w,pool,pad)\n",
    "        cols=cols.T.reshape(n_bt*y_h*y_w*x_ch,pool*pool)\n",
    "        y=np.max(cols,axis=1)\n",
    "        self.y=y.reshape(n_bt,y_h,y_w,x_ch).transpose(0,3,1,2)\n",
    "        self.max_index = np.argmax(cols, axis=1)\n",
    "    def backward(self,grad_y):\n",
    "        n_bt=grad_y.shape[0]\n",
    "        x_ch,x_h,x_w,pool,pad=self.params\n",
    "        y_ch,y_h,y_w=self.y_ch,self.y_h,self.y_w\n",
    "        grad_y=grad_y.transpose(0,2,3,1)\n",
    "        grad_cols=np.zeros((pool*pool,grad_y.size))\n",
    "        grad_cols[self.max_index.reshape(-1),\n",
    "                 np.arange(grad_y.size)]=grad_y.reshape(-1)\n",
    "        grad_cols=grad_cols.reshape(pool,pool,n_bt,y_h,y_w,y_ch)\n",
    "        grad_cols = grad_cols.transpose(5,0,1,2,3,4)\n",
    "        grad_cols = grad_cols.reshape(y_ch*pool*pool, n_bt*y_h*y_w)\n",
    "        x_shape = (n_bt, x_ch, x_h, x_w)\n",
    "        self.grad_x = col2im(grad_cols, x_shape, pool, pool, y_h, y_w, pool, pad)"
   ]
  },
  {
   "cell_type": "code",
   "execution_count": 14,
   "metadata": {},
   "outputs": [],
   "source": [
    "class BaseLayer:\n",
    "    def __init__(self,n_upper,n):\n",
    "        self.w=wb_width*np.random.randn(n_upper,n)\n",
    "        self.b=wb_width*np.random.randn(n)\n",
    "        self.h_w=np.zeros((n_upper,n))+1e-8\n",
    "        self.h_b=np.zeros(n)+1e-8\n",
    "    def update(self,eta):\n",
    "        self.h_w+=self.grad_w*self.grad_w\n",
    "        self.w-=eta/np.sqrt(self.h_w)*self.grad_w\n",
    "        self.h_b += self.grad_b * self.grad_b\n",
    "        self.b -= eta / np.sqrt(self.h_b) * self.grad_b"
   ]
  },
  {
   "cell_type": "code",
   "execution_count": 15,
   "metadata": {},
   "outputs": [],
   "source": [
    "class MiddleLayer(BaseLayer):\n",
    "    def forward(self,x):\n",
    "        self.x=x\n",
    "        self.u=np.dot(x,self.w)+self.b\n",
    "        self.y=np.where(self.u<=0,0,1)\n",
    "    def backward(self,grad_y):\n",
    "        delta=grad_y*np.where(self.u<=0,0,1)\n",
    "        self.grad_w=np.dot(self.x.T,delta)\n",
    "        self.grad_b=np.sum(delta,axis=0)\n",
    "        self.grad_x=np.dot(delta,self.w.T)"
   ]
  },
  {
   "cell_type": "code",
   "execution_count": 31,
   "metadata": {},
   "outputs": [],
   "source": [
    "class OutputLayer(BaseLayer):\n",
    "    def forward(self,x):\n",
    "        self.x=x\n",
    "        u=np.dot(x,self.w)+self.b\n",
    "        self.y=np.exp(u)/np.sum(np.exp(u),axis=1).reshape(-1,1)\n",
    "    def backward(self,t):\n",
    "        delta=self.y-t\n",
    "        self.grad_w=np.dot(self.x.T,delta)\n",
    "        self.grad_b=np.sum(delta,axis=0)\n",
    "        self.grad_x=np.dot(delta,self.w.T)"
   ]
  },
  {
   "cell_type": "code",
   "execution_count": 17,
   "metadata": {},
   "outputs": [
    {
     "name": "stdout",
     "output_type": "stream",
     "text": [
      "(1797, 64)\n"
     ]
    },
    {
     "data": {
      "image/png": "[encoded data removed]",
      "text/plain": [
       "<Figure size 432x288 with 1 Axes>"
      ]
     },
     "metadata": {
      "needs_background": "light"
     },
     "output_type": "display_data"
    }
   ],
   "source": [
    "import matplotlib.pyplot as plt\n",
    "from sklearn import datasets\n",
    "digits = datasets.load_digits()\n",
    "print(digits.data.shape)\n",
    "plt.imshow(digits.data[0].reshape(8,8), cmap = 'gray')\n",
    "plt.show()"
   ]
  },
  {
   "cell_type": "code",
   "execution_count": 18,
   "metadata": {},
   "outputs": [
    {
     "name": "stdout",
     "output_type": "stream",
     "text": [
      "(1797,)\n",
      "[0 1 2 3 4 5 6 7 8 9 0 1 2 3 4 5 6 7 8 9 0 1 2 3 4 5 6 7 8 9 0 9 5 5 6 5 0\n",
      " 9 8 9 8 4 1 7 7 3 5 1 0 0]\n"
     ]
    }
   ],
   "source": [
    "print(digits.target.shape)\n",
    "print(digits.target[:50])"
   ]
  },
  {
   "cell_type": "code",
   "execution_count": 19,
   "metadata": {},
   "outputs": [],
   "source": [
    "digits_data=datasets.load_digits()\n",
    "input_data=digits_data.data\n",
    "correct=digits_data.target\n",
    "n_data=len(correct)"
   ]
  },
  {
   "cell_type": "code",
   "execution_count": 20,
   "metadata": {},
   "outputs": [
    {
     "name": "stdout",
     "output_type": "stream",
     "text": [
      "1797\n",
      "[0 1 2 3 4 5 6 7 8 9 0 1 2 3 4 5 6 7 8 9 0 1 2 3 4 5 6 7 8]\n"
     ]
    }
   ],
   "source": [
    "print(n_data)\n",
    "print(correct[:29])"
   ]
  },
  {
   "cell_type": "code",
   "execution_count": 21,
   "metadata": {},
   "outputs": [],
   "source": [
    "ave_input=np.average(input_data)\n",
    "std_input=np.std(input_data)\n",
    "input_data=(input_data-ave_input)/std_input"
   ]
  },
  {
   "cell_type": "code",
   "execution_count": 22,
   "metadata": {},
   "outputs": [
    {
     "name": "stdout",
     "output_type": "stream",
     "text": [
      "[[1. 0. 0. 0. 0. 0. 0. 0. 0. 0.]\n",
      " [0. 1. 0. 0. 0. 0. 0. 0. 0. 0.]\n",
      " [0. 0. 1. 0. 0. 0. 0. 0. 0. 0.]\n",
      " [0. 0. 0. 1. 0. 0. 0. 0. 0. 0.]\n",
      " [0. 0. 0. 0. 1. 0. 0. 0. 0. 0.]\n",
      " [0. 0. 0. 0. 0. 1. 0. 0. 0. 0.]\n",
      " [0. 0. 0. 0. 0. 0. 1. 0. 0. 0.]\n",
      " [0. 0. 0. 0. 0. 0. 0. 1. 0. 0.]\n",
      " [0. 0. 0. 0. 0. 0. 0. 0. 1. 0.]\n",
      " [0. 0. 0. 0. 0. 0. 0. 0. 0. 1.]]\n"
     ]
    }
   ],
   "source": [
    "correct_data=np.zeros((n_data,10))\n",
    "for i in range(n_data):\n",
    "    correct_data[i,correct[i]]=1.0\n",
    "print(correct_data[:10])"
   ]
  },
  {
   "cell_type": "code",
   "execution_count": 23,
   "metadata": {},
   "outputs": [
    {
     "name": "stdout",
     "output_type": "stream",
     "text": [
      "[   0    1    2 ... 1794 1795 1796]\n"
     ]
    }
   ],
   "source": [
    "index=np.arange(n_data)\n",
    "print(index)"
   ]
  },
  {
   "cell_type": "code",
   "execution_count": 24,
   "metadata": {},
   "outputs": [],
   "source": [
    "index_train=index[index%3!=0]\n",
    "index_test=index[index%3==0]\n",
    "input_train = input_data[index_train, :] # 훈련 데이터 입력\n",
    "correct_train = correct_data[index_train, :] # 훈련 데이터 정답\n",
    "input_test = input_data[index_test, :] # 테스트 데이터 입력\n",
    "correct_test = correct_data[index_test, :]"
   ]
  },
  {
   "cell_type": "code",
   "execution_count": 25,
   "metadata": {},
   "outputs": [],
   "source": [
    "n_train = input_train.shape[0] # 훈련데이터 샘플 수\n",
    "n_test = input_test.shape[0] # 테스트 데이터 샘플 수"
   ]
  },
  {
   "cell_type": "code",
   "execution_count": 26,
   "metadata": {},
   "outputs": [],
   "source": [
    "img_h=8;img_w=8;img_ch=1\n",
    "wb_width=0.1\n",
    "eta=0.01\n",
    "epoch=50\n",
    "batch_size=8\n",
    "interval=10\n",
    "n_sample=200"
   ]
  },
  {
   "cell_type": "code",
   "execution_count": 37,
   "metadata": {},
   "outputs": [],
   "source": [
    "cl_1 = ConvLayer(img_ch, img_h, img_w, 10, 3, 3, 1, 1)\n",
    "pl_1 = PoolingLayer(cl_1.y_ch, cl_1.y_h, cl_1.y_w, 2, 0)\n",
    "n_fc_in = pl_1.y_ch * pl_1.y_h * pl_1.y_w\n",
    "ml_1 = MiddleLayer(n_fc_in, 100)\n",
    "ol_1 = OutputLayer(100, 10)"
   ]
  },
  {
   "cell_type": "code",
   "execution_count": 38,
   "metadata": {},
   "outputs": [],
   "source": [
    "def forward_propagation(x):\n",
    "    n_bt=x.shape[0]\n",
    "    images=x.reshape(n_bt,img_ch,img_h,img_w)\n",
    "    cl_1.forward(images)\n",
    "    pl_1.forward(cl_1.y)\n",
    "    fc_input=pl_1.y.reshape(n_bt,-1)\n",
    "    ml_1.forward(fc_input)\n",
    "    ol_1.forward(ml_1.y)\n",
    "def backpropagation(t):\n",
    "    n_bt=t.shape[0]\n",
    "    ol_1.backward(t)\n",
    "    ml_1.backward(ol_1.grad_x)\n",
    "    grad_img=ml_1.grad_x.reshape(n_bt,pl_1.y_ch,\n",
    "                    pl_1.y_h,pl_1.y_w)\n",
    "    pl_1.backward(grad_img)\n",
    "    cl_1.backward(pl_1.grad_x)\n",
    "def uppdate_wb():\n",
    "    cl_1.update(eta)\n",
    "    ml_1.update(eta)\n",
    "    ol_1.update(eta)\n",
    "def get_error(t,batch_size):\n",
    "    return -np.sum(t*np.log(ol_1.y+1e-7))/batch_size\n",
    "def forward_sample(inp,correct,n_sample):\n",
    "    index_rand=np.arange(len(correct))\n",
    "    np.random.shuffle(index_rand)\n",
    "    index_rand=index_rand[:n_sample]\n",
    "    x=inp[index_rand,:]\n",
    "    t=correct[index_rand,:]\n",
    "    forward_propagation(x)\n",
    "    return x,t"
   ]
  },
  {
   "cell_type": "code",
   "execution_count": 39,
   "metadata": {},
   "outputs": [],
   "source": [
    "train_error_x = []\n",
    "train_error_y = []\n",
    "test_error_x = []\n",
    "test_error_y = []"
   ]
  },
  {
   "cell_type": "code",
   "execution_count": 40,
   "metadata": {
    "scrolled": true
   },
   "outputs": [
    {
     "name": "stdout",
     "output_type": "stream",
     "text": [
      "Epoch:0/50 Error_train:2.639657438455062 Error_test:2.6168930744700107\n",
      "Epoch:10/50 Error_train:1.847797235526557 Error_test:1.8331511173914885\n",
      "Epoch:20/50 Error_train:1.7351251273078288 Error_test:1.7708185055451127\n",
      "Epoch:30/50 Error_train:1.7216579556791691 Error_test:1.7125832551999725\n",
      "Epoch:40/50 Error_train:1.738908269851342 Error_test:1.7155304738497394\n"
     ]
    }
   ],
   "source": [
    "n_batch=n_train//batch_size\n",
    "for i in range(epoch):\n",
    "    x,t=forward_sample(input_train,correct_train,n_sample)\n",
    "    error_train=get_error(t,n_sample)\n",
    "    x,t=forward_sample(input_test,correct_test,n_sample)\n",
    "    error_test=get_error(t,n_sample)\n",
    "    train_error_x.append(i)\n",
    "    train_error_y.append(error_train)\n",
    "    test_error_x.append(i)\n",
    "    test_error_y.append(error_test)\n",
    "    if i%interval == 0:\n",
    "        print(\"Epoch:\" + str(i) + \"/\" + str(epoch),\n",
    "        \"Error_train:\" + str(error_train),\n",
    "        \"Error_test:\" + str(error_test))\n",
    "    index_rand = np.arange(n_train)\n",
    "    np.random.shuffle(index_rand)\n",
    "    for j in range(n_batch):\n",
    "        mb_index = index_rand[j*batch_size : (j+1)*batch_size]\n",
    "        x = input_train[mb_index, :]\n",
    "        t = correct_train[mb_index, :]\n",
    "        forward_propagation(x)\n",
    "        backpropagation(t)\n",
    "        uppdate_wb()"
   ]
  },
  {
   "cell_type": "code",
   "execution_count": 41,
   "metadata": {},
   "outputs": [
    {
     "data": {
      "image/png": "[encoded data removed]",
      "text/plain": [
       "<Figure size 432x288 with 1 Axes>"
      ]
     },
     "metadata": {
      "needs_background": "light"
     },
     "output_type": "display_data"
    },
    {
     "name": "stdout",
     "output_type": "stream",
     "text": [
      "Accuracy Train: 48.9983305509182% Accuracy Test: 53.255425709515855%\n"
     ]
    }
   ],
   "source": [
    "plt.plot(train_error_x, train_error_y, label=\"Train\")\n",
    "plt.plot(test_error_x, test_error_y, label=\"Test\")\n",
    "plt.legend()\n",
    "plt.xlabel(\"Epochs\")\n",
    "plt.ylabel(\"Error\")\n",
    "plt.show()\n",
    "# -- 정답률 측정 --\n",
    "x, t = forward_sample(input_train, correct_train, n_train)\n",
    "count_train = np.sum(np.argmax(ol_1.y, axis=1) == np.argmax(t, axis=1))\n",
    "x, t = forward_sample(input_test, correct_test, n_test)\n",
    "count_test = np.sum(np.argmax(ol_1.y, axis=1) == np.argmax(t, axis=1))\n",
    "print(\"Accuracy Train:\", str(count_train/n_train*100) + \"%\",\n",
    "\"Accuracy Test:\", str(count_test/n_test*100) + \"%\")"
   ]
  },
  {
   "cell_type": "code",
   "execution_count": 42,
   "metadata": {},
   "outputs": [
    {
     "name": "stdout",
     "output_type": "stream",
     "text": [
      "[[0.21085764 0.08386069 0.10051804 0.09578472 0.0605543  0.09885047\n",
      "  0.04859705 0.06581625 0.10915647 0.12600438]\n",
      " [0.08645593 0.11755066 0.11099559 0.19659734 0.04584268 0.13840601\n",
      "  0.04960621 0.06128606 0.09528635 0.09797317]\n",
      " [0.08160743 0.12473305 0.09102926 0.08583695 0.05856226 0.08079901\n",
      "  0.27636402 0.04866634 0.09465604 0.05774564]\n",
      " [0.10936438 0.10338081 0.10397249 0.11085611 0.07835075 0.11644953\n",
      "  0.0667897  0.08062442 0.11598596 0.11422585]\n",
      " [0.10936438 0.10338081 0.10397249 0.11085611 0.07835075 0.11644953\n",
      "  0.0667897  0.08062442 0.11598596 0.11422585]]\n",
      "[[1. 0. 0. 0. 0. 0. 0. 0. 0. 0.]\n",
      " [0. 0. 0. 1. 0. 0. 0. 0. 0. 0.]\n",
      " [0. 0. 0. 0. 0. 0. 1. 0. 0. 0.]\n",
      " [0. 0. 0. 0. 0. 0. 0. 0. 0. 1.]\n",
      " [0. 0. 1. 0. 0. 0. 0. 0. 0. 0.]]\n"
     ]
    }
   ],
   "source": [
    "samples = input_test[:5]\n",
    "forward_propagation(samples)\n",
    "print(ol_1.y)\n",
    "print(correct_test[:5])"
   ]
  },
  {
   "cell_type": "code",
   "execution_count": null,
   "metadata": {},
   "outputs": [],
   "source": []
  }
 ],
 "metadata": {
  "kernelspec": {
   "display_name": "Python 3",
   "language": "python",
   "name": "python3"
  },
  "language_info": {
   "codemirror_mode": {
    "name": "ipython",
    "version": 3
   },
   "file_extension": ".py",
   "mimetype": "text/x-python",
   "name": "python",
   "nbconvert_exporter": "python",
   "pygments_lexer": "ipython3",
   "version": "3.7.3"
  }
 },
 "nbformat": 4,
 "nbformat_minor": 2
}
