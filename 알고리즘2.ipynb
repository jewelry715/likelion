{
 "cells": [
  {
   "cell_type": "code",
   "execution_count": 1,
   "metadata": {},
   "outputs": [],
   "source": [
    "def greedy_test(n):\n",
    "    count=0\n",
    "    money=[500,100,50,10]\n",
    "    for i in money:\n",
    "        while True:\n",
    "            n=n-i\n",
    "            print('현재 금액 : ',n)\n",
    "            count+=1\n",
    "            print('1회 완료')\n",
    "            if n<i:\n",
    "                break\n",
    "    print(count)"
   ]
  },
  {
   "cell_type": "code",
   "execution_count": 2,
   "metadata": {},
   "outputs": [
    {
     "name": "stdout",
     "output_type": "stream",
     "text": [
      "현재 금액 :  760\n",
      "1회 완료\n",
      "현재 금액 :  260\n",
      "1회 완료\n",
      "현재 금액 :  160\n",
      "1회 완료\n",
      "현재 금액 :  60\n",
      "1회 완료\n",
      "현재 금액 :  10\n",
      "1회 완료\n",
      "현재 금액 :  0\n",
      "1회 완료\n",
      "6\n"
     ]
    }
   ],
   "source": [
    "greedy_test(1260)"
   ]
  },
  {
   "cell_type": "code",
   "execution_count": 3,
   "metadata": {},
   "outputs": [],
   "source": [
    "#n=1000\n",
    "def greedy_test(n):\n",
    "    count=0\n",
    "    coin_types=[500,100,50,10]\n",
    "    for i in coin_types:\n",
    "        #나머지 % 몫 //\n",
    "        count+=n//i #count는 현재 0+2\n",
    "        n%=i\n",
    "    print(count)"
   ]
  },
  {
   "cell_type": "code",
   "execution_count": 4,
   "metadata": {},
   "outputs": [
    {
     "name": "stdout",
     "output_type": "stream",
     "text": [
      "2\n"
     ]
    }
   ],
   "source": [
    "greedy_test(1000)"
   ]
  },
  {
   "cell_type": "code",
   "execution_count": 5,
   "metadata": {},
   "outputs": [
    {
     "name": "stdout",
     "output_type": "stream",
     "text": [
      "평균값 :4.0\n"
     ]
    }
   ],
   "source": [
    "def average(lists):\n",
    "    if len(lists)==0:\n",
    "        return 0\n",
    "    return sum(lists)/len(lists)\n",
    "list=[5,3,4]\n",
    "print('평균값 :{}'.format(average(list)))"
   ]
  },
  {
   "cell_type": "code",
   "execution_count": 6,
   "metadata": {},
   "outputs": [
    {
     "name": "stdout",
     "output_type": "stream",
     "text": [
      "결과 : Odd\n",
      "결과 : Even\n"
     ]
    }
   ],
   "source": [
    "def evenorodd(num):\n",
    "    if num%2==0:\n",
    "        return 'Even'\n",
    "    else:\n",
    "        return 'Odd'\n",
    "print(\"결과 : \" + evenorodd(3))\n",
    "print(\"결과 : \" + evenorodd(2))"
   ]
  },
  {
   "cell_type": "markdown",
   "metadata": {},
   "source": [
    "### 클래스 상속"
   ]
  },
  {
   "cell_type": "code",
   "execution_count": 7,
   "metadata": {},
   "outputs": [],
   "source": [
    "class Unit:\n",
    "    def __init__(self,name,hp):\n",
    "        self.name=name\n",
    "        self.hp=hp\n",
    "\n",
    "class AttackUnit(Unit):\n",
    "    def __init__(self,name,hp,damage):\n",
    "        Unit.__init__(self,name,hp)\n",
    "        self.damage=damage\n",
    "    def attack(self,location):\n",
    "        print(\"{0} : {1} 방향으로 상대방 챔피언을 공격합니다.[공격력 : {2}]\"\\\n",
    "             .format(self.name,location,self.damage))\n",
    "    def damaged(self,damage):\n",
    "        print(\"{0} : {1} 데미지를 입었습니다.\".format(self.name, damage))\n",
    "        self.hp -= damage # 메서드에 입력된 데미지를 적용하여 기존 hp에서 감소\n",
    "        print(\"{0} : 현재 체력은 {1} 입니다.\".format(self.name, self.hp))\n",
    "        if self.hp <= 0: # 조건문을 통해 체력이 0 이하로 떨어지면 ‘처치’ 이벤트 발생\n",
    "            print(\"{0} : 처치당하였습니다.\".format(self.name))"
   ]
  },
  {
   "cell_type": "code",
   "execution_count": 8,
   "metadata": {},
   "outputs": [
    {
     "name": "stdout",
     "output_type": "stream",
     "text": [
      "카이사 : 중앙 방향으로 상대방 챔피언을 공격합니다.[공격력 : 55]\n"
     ]
    }
   ],
   "source": [
    "kaisa=AttackUnit(\"카이사\",450,55)\n",
    "kaisa.attack('중앙')"
   ]
  },
  {
   "cell_type": "code",
   "execution_count": 9,
   "metadata": {},
   "outputs": [
    {
     "name": "stdout",
     "output_type": "stream",
     "text": [
      "카이사 : 255 데미지를 입었습니다.\n",
      "카이사 : 현재 체력은 195 입니다.\n",
      "카이사 : 255 데미지를 입었습니다.\n",
      "카이사 : 현재 체력은 -60 입니다.\n",
      "카이사 : 처치당하였습니다.\n"
     ]
    }
   ],
   "source": [
    "kaisa.damaged(255)\n",
    "kaisa.damaged(255)"
   ]
  },
  {
   "cell_type": "code",
   "execution_count": 10,
   "metadata": {},
   "outputs": [],
   "source": [
    "class Jungle:\n",
    "    def __init__(self,dash_speed):\n",
    "        self.dash_speed=dash_speed\n",
    "    def dash(self,name,location):\n",
    "        print(\"{0} : {1} 방향으로 회피를 합니다. [속도 {2}]\".\\\n",
    "             format(name,location,self.dash_speed))"
   ]
  },
  {
   "cell_type": "code",
   "execution_count": 13,
   "metadata": {},
   "outputs": [
    {
     "name": "stdout",
     "output_type": "stream",
     "text": [
      "레드 : 공격받은 방향 반대 방향으로 회피를 합니다. [속도 10]\n"
     ]
    }
   ],
   "source": [
    "class JungleAttackUnit(AttackUnit,Jungle):\n",
    "    def __init__(self,name,hp,damage,dash_speed):\n",
    "        AttackUnit.__init__(self,name,hp,damage)\n",
    "        Jungle.__init__(self,dash_speed) #초기화시킴\n",
    "        \n",
    "red = JungleAttackUnit(\"레드\", 1200, 50, 10)\n",
    "red.dash(red.name, \"공격받은 방향 반대\" )"
   ]
  },
  {
   "cell_type": "code",
   "execution_count": 14,
   "metadata": {},
   "outputs": [
    {
     "name": "stdout",
     "output_type": "stream",
     "text": [
      "From:\tlikelion@gmail.com\n",
      "To:\t1@gmail.com\n",
      "Subject:Welcome! \n",
      "Contents\n",
      "This is contents\n",
      "--------------------\n",
      "From:\tlikelion@gmail.com\n",
      "To:\t2@gmail.com\n",
      "Subject:Welcome! \n",
      "Contents\n",
      "This is contents\n",
      "--------------------\n",
      "From:\tlikelion@gmail.com\n",
      "To:\t3@gmail.com\n",
      "Subject:Welcome! \n",
      "Contents\n",
      "This is contents\n",
      "--------------------\n"
     ]
    }
   ],
   "source": [
    "class Email:\n",
    "    sender=\"\"\n",
    "    def send_mail(self,recv,subject,contents):\n",
    "        print(\"From:\\t\"+self.sender)\n",
    "        print(\"To:\\t\"+recv)\n",
    "        print(\"Subject:\"+subject)\n",
    "        print(\"Contents\")\n",
    "        print(contents)\n",
    "        print(\"-\"*20)\n",
    "e=Email()\n",
    "e.sender=\"likelion@gmail.com\"\n",
    "recv_list = ['1@gmail.com', '2@gmail.com', '3@gmail.com']\n",
    "for recv in recv_list:\n",
    "    e.send_mail(recv,\"Welcome! \",\"This is contents\")"
   ]
  },
  {
   "cell_type": "code",
   "execution_count": 15,
   "metadata": {},
   "outputs": [
    {
     "data": {
      "text/plain": [
       "'C:\\\\Users\\\\zzang\\\\Downloads\\\\멋사'"
      ]
     },
     "execution_count": 15,
     "metadata": {},
     "output_type": "execute_result"
    }
   ],
   "source": [
    "import os\n",
    "os.getcwd()"
   ]
  },
  {
   "cell_type": "code",
   "execution_count": 19,
   "metadata": {},
   "outputs": [
    {
     "name": "stdout",
     "output_type": "stream",
     "text": [
      "1\n",
      "1\n",
      "2\n",
      "3\n",
      "5\n",
      "8\n",
      "13\n",
      "21\n"
     ]
    }
   ],
   "source": [
    "def fibonazzi(n):\n",
    "    #0,1,0+1,1+1,1+2,2+3,3+5,...\n",
    "    if n<=1:\n",
    "        return 1\n",
    "    else:\n",
    "        return (fibonazzi(n-2)+fibonazzi(n-1))\n",
    "for i in range(8):\n",
    "    print(fibonazzi(i))"
   ]
  },
  {
   "cell_type": "code",
   "execution_count": 18,
   "metadata": {},
   "outputs": [
    {
     "name": "stdout",
     "output_type": "stream",
     "text": [
      "2\n",
      "4\n",
      "8\n",
      "16\n",
      "32\n",
      "64\n",
      "128\n",
      "256\n"
     ]
    }
   ],
   "source": [
    "fibonzzi(8)"
   ]
  },
  {
   "cell_type": "code",
   "execution_count": 23,
   "metadata": {
    "collapsed": true
   },
   "outputs": [
    {
     "name": "stdout",
     "output_type": "stream",
     "text": [
      "1 Spade A\n",
      "2 Spade 2\n",
      "3 Spade 3\n",
      "4 Spade 4\n",
      "5 Spade 5\n",
      "6 Spade 6\n",
      "7 Spade 7\n",
      "8 Spade 8\n",
      "9 Spade 9\n",
      "10 Spade 10\n",
      "11 Spade J\n",
      "12 Spade Q\n",
      "13 Spade K\n",
      "14 Heart A\n",
      "15 Heart 2\n",
      "16 Heart 3\n",
      "17 Heart 4\n",
      "18 Heart 5\n",
      "19 Heart 6\n",
      "20 Heart 7\n",
      "21 Heart 8\n",
      "22 Heart 9\n",
      "23 Heart 10\n",
      "24 Heart J\n",
      "25 Heart Q\n",
      "26 Heart K\n",
      "27 Diamond A\n",
      "28 Diamond 2\n",
      "29 Diamond 3\n",
      "30 Diamond 4\n",
      "31 Diamond 5\n",
      "32 Diamond 6\n",
      "33 Diamond 7\n",
      "34 Diamond 8\n",
      "35 Diamond 9\n",
      "36 Diamond 10\n",
      "37 Diamond J\n",
      "38 Diamond Q\n",
      "39 Clover K\n",
      "40 Clover A\n",
      "41 Clover 2\n",
      "42 Clover 3\n",
      "43 Clover 4\n",
      "44 Clover 5\n",
      "45 Clover 6\n",
      "46 Clover 7\n",
      "47 Clover 8\n",
      "48 Clover 9\n",
      "49 Clover 10\n",
      "50 Clover J\n",
      "51 Clover Q\n",
      "52 Clover K\n"
     ]
    }
   ],
   "source": [
    "for i in range(1,53):\n",
    "    if i in range(1,14):\n",
    "        if i==1:\n",
    "            print(i ,'Spade','A')\n",
    "        elif i==11:\n",
    "            print(i ,'Spade','J')\n",
    "        elif i==12:\n",
    "            print(i ,'Spade','Q')\n",
    "        elif i==13:\n",
    "            print(i ,'Spade','K')\n",
    "        else:\n",
    "            print(i ,'Spade', i )\n",
    "    elif i in range(14,27):\n",
    "        if i%13==1:\n",
    "            print(i ,'Heart','A')\n",
    "        elif i%13==11:\n",
    "            print(i ,'Heart','J')\n",
    "        elif i%13==12:\n",
    "            print(i ,'Heart','Q')\n",
    "        elif i%13==0:\n",
    "            print(i ,'Heart','K')            \n",
    "        else:\n",
    "            print(i ,'Heart',i%13)\n",
    "    elif i in range(27,39):\n",
    "        if i%13==1:\n",
    "            print(i ,'Diamond','A')\n",
    "        elif i%13==11:\n",
    "            print(i ,'Diamond','J')\n",
    "        elif i%13==12:\n",
    "            print(i ,'Diamond','Q')\n",
    "        elif i%13==0:\n",
    "            print(i ,'Diamond','K')            \n",
    "        else:\n",
    "            print(i ,'Diamond',i%13)      \n",
    "    else:\n",
    "        if i%13==1:\n",
    "            print(i ,'Clover','A')\n",
    "        elif i%13==11:\n",
    "            print(i ,'Clover','J')\n",
    "        elif i%13==12:\n",
    "            print(i ,'Clover','Q')\n",
    "        elif i%13==0:\n",
    "            print(i ,'Clover','K')            \n",
    "        else:\n",
    "            print(i ,'Clover',i%13)        "
   ]
  },
  {
   "cell_type": "code",
   "execution_count": 47,
   "metadata": {},
   "outputs": [
    {
     "name": "stdout",
     "output_type": "stream",
     "text": [
      "1 Spade A\n",
      "2 Spade 2\n",
      "3 Spade 3\n",
      "4 Spade 4\n",
      "5 Spade 5\n",
      "6 Spade 6\n",
      "7 Spade 7\n",
      "8 Spade 8\n",
      "9 Spade 9\n",
      "10 Spade 10\n",
      "11 Spade J\n",
      "12 Spade Q\n",
      "13 Spade K\n",
      "14 Heart A\n",
      "15 Heart 2\n",
      "16 Heart 3\n",
      "17 Heart 4\n",
      "18 Heart 5\n",
      "19 Heart 6\n",
      "20 Heart 7\n",
      "21 Heart 8\n",
      "22 Heart 9\n",
      "23 Heart 10\n",
      "24 Heart J\n",
      "25 Heart Q\n",
      "26 Heart K\n",
      "27 Diamond A\n",
      "28 Diamond 2\n",
      "29 Diamond 3\n",
      "30 Diamond 4\n",
      "31 Diamond 5\n",
      "32 Diamond 6\n",
      "33 Diamond 7\n",
      "34 Diamond 8\n",
      "35 Diamond 9\n",
      "36 Diamond 10\n",
      "37 Diamond J\n",
      "38 Diamond Q\n",
      "39 Diamond K\n",
      "40 Clover A\n",
      "41 Clover 2\n",
      "42 Clover 3\n",
      "43 Clover 4\n",
      "44 Clover 5\n",
      "45 Clover 6\n",
      "46 Clover 7\n",
      "47 Clover 8\n",
      "48 Clover 9\n",
      "49 Clover 10\n",
      "50 Clover J\n",
      "51 Clover Q\n",
      "52 Clover K\n"
     ]
    }
   ],
   "source": [
    "j=['Spade','Heart','Diamond','Clover']\n",
    "for i in range(1,53):\n",
    "    if i%13==1:\n",
    "        print(i,j[i//13],'A')\n",
    "    elif i%13==11:\n",
    "        print(i,j[i//13],'J')\n",
    "    elif i%13==12:\n",
    "        print(i,j[i//13],'Q')\n",
    "    elif i%13==0:\n",
    "        print(i,j[(i//13)-1],'K')\n",
    "    else:\n",
    "        print(i,j[i//13],i%13) "
   ]
  },
  {
   "cell_type": "code",
   "execution_count": null,
   "metadata": {},
   "outputs": [],
   "source": []
  }
 ],
 "metadata": {
  "kernelspec": {
   "display_name": "Python 3",
   "language": "python",
   "name": "python3"
  },
  "language_info": {
   "codemirror_mode": {
    "name": "ipython",
    "version": 3
   },
   "file_extension": ".py",
   "mimetype": "text/x-python",
   "name": "python",
   "nbconvert_exporter": "python",
   "pygments_lexer": "ipython3",
   "version": "3.7.3"
  }
 },
 "nbformat": 4,
 "nbformat_minor": 2
}
