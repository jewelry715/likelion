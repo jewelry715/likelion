{
  "nbformat": 4,
  "nbformat_minor": 0,
  "metadata": {
    "colab": {
      "name": "abalone.ipynb",
      "provenance": [],
      "collapsed_sections": [],
      "mount_file_id": "1-aqXLZnRld-oe8KXdStliYLkVgWKNJo-",
      "authorship_tag": "ABX9TyMvN0TKuKLfyTrX8XtiWr00",
      "include_colab_link": true
    },
    "kernelspec": {
      "name": "python3",
      "display_name": "Python 3"
    },
    "language_info": {
      "name": "python"
    }
  },
  "cells": [
    {
      "cell_type": "markdown",
      "metadata": {
        "id": "view-in-github",
        "colab_type": "text"
      },
      "source": [
        "<a href=\"https://colab.research.google.com/github/jewelry715/likelion/blob/main/abalone.ipynb\" target=\"_parent\"><img src=\"https://colab.research.google.com/assets/colab-badge.svg\" alt=\"Open In Colab\"/></a>"
      ]
    },
    {
      "cell_type": "code",
      "metadata": {
        "id": "FyQA5PnNEMd_"
      },
      "source": [
        "import numpy as np #---1\n",
        "import csv #---2 \n",
        "np.random.seed(1541) #---3"
      ],
      "execution_count": null,
      "outputs": []
    },
    {
      "cell_type": "code",
      "metadata": {
        "id": "EeaNQ3D_E2Bq"
      },
      "source": [
        "RND_MEAN = 0\n",
        "RND_STD = 0.0030\n",
        "learning_rate = 0.001\n",
        "#클린코딩->코드를 어떻게하면 깔끔하고 예쁘게 작성?"
      ],
      "execution_count": null,
      "outputs": []
    },
    {
      "cell_type": "code",
      "metadata": {
        "id": "tkSeCRB9E91o"
      },
      "source": [
        "#메인함수 구축 과정\n",
        "def main_exec(epoch_count=10,mb_size=10,report=1,train_rate=0.7): #몇번 학습?,미니배치 사이즈,몇번 출력?학습데이터 비율\n",
        "  load_dataset() #데이터 불러오기\n",
        "  init_model() #파라미터 초기화\n",
        "  train_and_test(epoch_count, mb_size, report, train_rate) #학습과 테스트를 관장하는 기능능"
      ],
      "execution_count": null,
      "outputs": []
    },
    {
      "cell_type": "code",
      "metadata": {
        "colab": {
          "base_uri": "https://localhost:8080/"
        },
        "id": "IJjo5KLGHqnD",
        "outputId": "f4b77bf8-5d1c-4eac-be0d-04612cb59150"
      },
      "source": [
        "def load_dataset():\n",
        "  with open('/content/drive/MyDrive/abalone.csv') as csvfile:\n",
        "    csvreader=csv.reader(csvfile)\n",
        "    next(csvreader,None)#건너 뛰어야할 변수 이름,첫번째 오는 값을 쓰지 않겠다\n",
        "    rows=[]\n",
        "    for row in csvreader:\n",
        "      rows.append(row)\n",
        "\n",
        "  #전역변수\n",
        "  global data,input_cnt,output_cnt\n",
        "  input_cnt,output_cnt=10,1\n",
        "  #버퍼 \n",
        "  data=np.zeros([len(rows),input_cnt+output_cnt])#독립변수의 크기,종속변수의 크기\n",
        "  # print(data)\n",
        "  # print(data.shape)\n",
        "  #원핫벡터 처리\n",
        "  for n,row in enumerate(rows):\n",
        "    if row[0]=='I':data[n,0]=1\n",
        "    if row[0]=='M':data[n,1]=1\n",
        "    if row[0]=='F':data[n,2]=1\n",
        "    data[n,3:]=row[1:]\n",
        "  print(data)\n",
        "load_dataset()"
      ],
      "execution_count": null,
      "outputs": [
        {
          "output_type": "stream",
          "text": [
            "[[ 0.      1.      0.     ...  0.101   0.15   15.    ]\n",
            " [ 0.      1.      0.     ...  0.0485  0.07    7.    ]\n",
            " [ 0.      0.      1.     ...  0.1415  0.21    9.    ]\n",
            " ...\n",
            " [ 0.      1.      0.     ...  0.2875  0.308   9.    ]\n",
            " [ 0.      0.      1.     ...  0.261   0.296  10.    ]\n",
            " [ 0.      1.      0.     ...  0.3765  0.495  12.    ]]\n"
          ],
          "name": "stdout"
        }
      ]
    },
    {
      "cell_type": "code",
      "metadata": {
        "colab": {
          "base_uri": "https://localhost:8080/"
        },
        "id": "9-2MiH4xbqVk",
        "outputId": "ca8e99eb-9b76-47d5-d43f-fbeefcb7a749"
      },
      "source": [
        "with open('/content/drive/MyDrive/abalone.csv') as csvfile:\n",
        "  csvreader=csv.reader(csvfile)\n",
        "  next(csvreader,None)#건너 뛰어야할 변수 이름\n",
        "  rows=[]\n",
        "  for row in csvreader:\n",
        "    rows.append(row)\n",
        "print(rows[0:2])"
      ],
      "execution_count": null,
      "outputs": [
        {
          "output_type": "stream",
          "text": [
            "[['M', '0.455', '0.365', '0.095', '0.514', '0.2245', '0.101', '0.15', '15'], ['M', '0.35', '0.265', '0.09', '0.2255', '0.0995', '0.0485', '0.07', '7']]\n"
          ],
          "name": "stdout"
        }
      ]
    },
    {
      "cell_type": "code",
      "metadata": {
        "colab": {
          "base_uri": "https://localhost:8080/"
        },
        "id": "hNCnBaZree0P",
        "outputId": "780ff3a5-775c-42b3-8ddd-4eef5b7facd7"
      },
      "source": [
        "def init_model():\n",
        "  global weight,bias,input_cnt,output_cnt\n",
        "  weight=np.random.normal(RND_MEAN,RND_STD,[input_cnt,output_cnt])\n",
        "  bias=np.zeros([output_cnt])\n",
        "  print(weight)\n",
        "  print(bias)\n",
        "init_model()"
      ],
      "execution_count": null,
      "outputs": [
        {
          "output_type": "stream",
          "text": [
            "[[-0.00213145]\n",
            " [-0.00229987]\n",
            " [ 0.00650987]\n",
            " [ 0.00321815]\n",
            " [ 0.00353119]\n",
            " [ 0.00382796]\n",
            " [-0.00220395]\n",
            " [-0.00287452]\n",
            " [ 0.00041733]\n",
            " [ 0.00046872]]\n",
            "[0.]\n"
          ],
          "name": "stdout"
        }
      ]
    },
    {
      "cell_type": "code",
      "metadata": {
        "colab": {
          "base_uri": "https://localhost:8080/"
        },
        "id": "-XJPcQD0oUKp",
        "outputId": "c9cfe4b3-2e4c-410a-d881-ddff138c66fd"
      },
      "source": [
        "print('총 데이터의 수(행):',data.shape[0])\n",
        "mb_size=100\n",
        "step_count=int(data.shape[0]*0.7)//mb_size\n",
        "print('데이터의 70%의 미니배치 스텝 수:',step_count)#학습데이터를 기준삼아서 70%만 사용"
      ],
      "execution_count": null,
      "outputs": [
        {
          "output_type": "stream",
          "text": [
            "총 데이터의 수(행): 4177\n",
            "데이터의 70%의 미니배치 스텝 수: 29\n"
          ],
          "name": "stdout"
        }
      ]
    },
    {
      "cell_type": "code",
      "metadata": {
        "id": "aLobO0_pju99"
      },
      "source": [
        "#세번째 기능 구축하기-학습과 테스트를 관장하는 기능/학습에 대한 결과 표시세번째 기능 구축하기-학습과 테스트를 관장하는 기능/학습에 대한 결과 표시\n",
        "def train_and_test(epoch_count,mb_size,report,train_rate):\n",
        "  step_count=arrange_data(mb_size,train_rate)#반환하는 값은 미니배치가 몇 덩어리로 쪼개지는지?\n",
        "  test_x,test_y=get_test_data()\n",
        "  #2중 반복문?미니배치를 단위로 돌리고 있음->1100에폭\n",
        "  for epoch in range(epoch_count):#에폭 첫번째 반복문\n",
        "    losses,accs=[],[] #전체 미니배치(1epoch)의 결과인 손실과 정확도를 받는 리스트 정의\n",
        "    for n in range(step_count):#1번의 에폭이 돌아가는 동안 미니배치 스텝카운트 반복 수행\n",
        "      train_x,train_y= get_train_data(mb_size,n)#미니배치사이즈,스텝이 개별값을 받아 학습데이터의 독립,종속변수 변환\n",
        "      loss,acc=run_train(train_x,train_y)\n",
        "      losses.append(loss)\n",
        "      accs.append(acc)\n",
        "\n",
        "    if report>0 and (epoch+1)%report==0: #report 주기에 따른 테스트 결과 출력\n",
        "      acc=run_test(test_x,test_y)\n",
        "      print('Epoch {} : train-loss = {:5.3f},accuracy={:5.3f}/Test = {:5.3f}'.\\\n",
        "            format(epoch+1,np.mean(losses),np.mean(accs),acc))#5자리 확보하되 세자리수까지만만\n",
        "  final_acc=run_test(test_x,test_y)#최종 테스트 결과 별도 출력\n",
        "  print(\"\\n 최종 테스트 결과 : final accuracy = {:5.3f}\".format(final_acc))"
      ],
      "execution_count": null,
      "outputs": []
    },
    {
      "cell_type": "code",
      "metadata": {
        "id": "5hkl6LTMoYVq"
      },
      "source": [
        "def arrange_data(mb_size,train_rate): #데이터를 섞어주는 기능->미니배치 출력\n",
        "  global data,shuffle_map,test_begin_index #다른 함수에서 활용할 수 있게 함\n",
        "  #데이터를 무작위 셔플\n",
        "  shuffle_map=np.arange(data.shape[0])\n",
        "  np.random.shuffle(shuffle_map)\n",
        "  #미니배치 스텝 카운트 출력\n",
        "  step_count=int(data.shape[0]*train_rate)//mb_size\n",
        "  #경계선을 탐색하는 코드\n",
        "  test_begin_index=step_count*mb_size\n",
        "  return step_count"
      ],
      "execution_count": null,
      "outputs": []
    },
    {
      "cell_type": "code",
      "metadata": {
        "id": "5Y693DQOCo8I"
      },
      "source": [
        "def get_train_data(mb_size,n):\n",
        "  global data,shuffle_map,test_begin_index,output_cnt\n",
        "  if n==0:\n",
        "    np.random.shuffle(shuffle_map[:test_begin_index])\n",
        "  train_data=data[shuffle_map[mb_size*n:mb_size*(n+1)]]\n",
        "  return train_data[:,:-output_cnt],train_data[:,-output_cnt:]"
      ],
      "execution_count": null,
      "outputs": []
    },
    {
      "cell_type": "code",
      "metadata": {
        "id": "OCqL6wamFcDy"
      },
      "source": [
        "def get_test_data(): #테스트 데이터 분할 과정 기능 구축(변수 구분 포함ef get_test_data(): #테스트 데이터 분할 과정 기능 구축(변수 구분 포함)\n",
        "  global data,shuffle_map,test_begin_index,output_cnt\n",
        "  test_data=data[shuffle_map[test_begin_index:]]\n",
        "  return test_data[:,:-output_cnt],test_data[:,-output_cnt:]"
      ],
      "execution_count": null,
      "outputs": []
    },
    {
      "cell_type": "code",
      "metadata": {
        "id": "ze1Je153M5iQ"
      },
      "source": [
        "def run_train(x,y):\n",
        "  output,aux_nn=forward_neuralnet(x)\n",
        "  loss,aux_pp=forward_postproc(output,y)\n",
        "  accuracy=eval_accuracy(output,y) #여기까지 순전파+평가 과정\n",
        "  g_loss=1.0\n",
        "  g_output=backprop_postproc(g_loss,aux_pp)\n",
        "  backprop_neuralnet(g_output,aux_nn) #기울기를 가지고 가중치,바이어스 경신\n",
        "  return loss,accuracy"
      ],
      "execution_count": null,
      "outputs": []
    },
    {
      "cell_type": "code",
      "metadata": {
        "id": "s0AAOLH4NorX"
      },
      "source": [
        "def run_test(x,y):\n",
        "  output,_=forward_neuralnet(x) #_:필요없는 것을 리턴\n",
        "  accuracy=eval_accuracy(output,y)\n",
        "  return accuracy"
      ],
      "execution_count": null,
      "outputs": []
    },
    {
      "cell_type": "code",
      "metadata": {
        "id": "Z0uXbP-5N6pU"
      },
      "source": [
        "#신경망의 순전파 연산 과정\n",
        "def forward_neuralnet(x):\n",
        "  global weight,bias\n",
        "  output=np.matmul(x,weight)+bias\n",
        "  #두번째 반환값인 x는 aux_nn으로 반환처리되며,역전파를 수행할 때 사용할 예정\n",
        "  return output,x"
      ],
      "execution_count": null,
      "outputs": []
    },
    {
      "cell_type": "code",
      "metadata": {
        "id": "dspjDyD2P4vt"
      },
      "source": [
        "#신경망의 순전파에 따른 mse 도출 과정\n",
        "def forward_postproc(output,y):\n",
        "  #편차->제곱->평균(손실)\n",
        "  diff=output-y\n",
        "  square=np.square(diff)\n",
        "  loss=np.mean(square)\n",
        "  return loss,diff #손실,편차 반환->편차는 역전파를 수행하는 데 있어 필요하기 때문(aux_pp)"
      ],
      "execution_count": null,
      "outputs": []
    },
    {
      "cell_type": "code",
      "metadata": {
        "id": "c-8L0kaws3Zz"
      },
      "source": [
        "def backprop_neuralnet(g_output,x):\n",
        "  global weight,bias\n",
        "  g_output_w=x.transpose()\n",
        "  g_w=np.matmul(g_output_w,g_output)\n",
        "  g_b=np.sum(g_output,axis=0)\n",
        "  weight-=learning_rate*g_w\n",
        "  bias-=learning_rate*g_b"
      ],
      "execution_count": null,
      "outputs": []
    },
    {
      "cell_type": "code",
      "metadata": {
        "id": "OmBkw5sfkf9E"
      },
      "source": [
        "def backprop_postproc(g_loss,diff):\n",
        "  shape=diff.shape\n",
        "  # print(shape) (10,1)\n",
        "  g_loss=1.0\n",
        "  g_loss_square=np.ones(shape)/np.prod(shape)\n",
        "  g_square_diff=2*diff #편차 기울기로 구함\n",
        "  g_diff_output=1\n",
        "  #여기까지가 부분 기울기\n",
        "  g_square=g_loss_square*g_loss\n",
        "  g_diff=g_square_diff*g_square\n",
        "  g_output=g_diff_output*g_diff #최종값ef backprop_postproc(diff):\n",
        "  return g_output"
      ],
      "execution_count": null,
      "outputs": []
    },
    {
      "cell_type": "code",
      "metadata": {
        "id": "r1v_-VsTkZ-l"
      },
      "source": [
        "def eval_accuracy(output,y):\n",
        "  mdiff=np.mean(np.abs((output-y)/y))\n",
        "  return 1-mdiff"
      ],
      "execution_count": null,
      "outputs": []
    },
    {
      "cell_type": "code",
      "metadata": {
        "colab": {
          "base_uri": "https://localhost:8080/"
        },
        "id": "CfibQae-2LnH",
        "outputId": "f8b4cdc1-5dd7-4225-e410-ea13d4046c5c"
      },
      "source": [
        "#main_exec()"
      ],
      "execution_count": null,
      "outputs": [
        {
          "output_type": "stream",
          "text": [
            "[[ 0.      1.      0.     ...  0.101   0.15   15.    ]\n",
            " [ 0.      1.      0.     ...  0.0485  0.07    7.    ]\n",
            " [ 0.      0.      1.     ...  0.1415  0.21    9.    ]\n",
            " ...\n",
            " [ 0.      1.      0.     ...  0.2875  0.308   9.    ]\n",
            " [ 0.      0.      1.     ...  0.261   0.296  10.    ]\n",
            " [ 0.      1.      0.     ...  0.3765  0.495  12.    ]]\n",
            "[[-0.00259186]\n",
            " [ 0.00237584]\n",
            " [-0.00144708]\n",
            " [ 0.00177559]\n",
            " [-0.00235898]\n",
            " [ 0.00079248]\n",
            " [-0.00214648]\n",
            " [-0.00022529]\n",
            " [-0.00325013]\n",
            " [ 0.00022441]]\n",
            "[0.]\n",
            "Epoch 1 : train-loss = 36.805,accuracy=0.524/Test = 0.792\n",
            "Epoch 2 : train-loss = 8.642,accuracy=0.820/Test = 0.814\n",
            "Epoch 3 : train-loss = 7.582,accuracy=0.815/Test = 0.810\n",
            "Epoch 4 : train-loss = 7.452,accuracy=0.813/Test = 0.807\n",
            "Epoch 5 : train-loss = 7.363,accuracy=0.813/Test = 0.806\n",
            "Epoch 6 : train-loss = 7.292,accuracy=0.811/Test = 0.806\n",
            "Epoch 7 : train-loss = 7.231,accuracy=0.812/Test = 0.804\n",
            "Epoch 8 : train-loss = 7.180,accuracy=0.811/Test = 0.804\n",
            "Epoch 9 : train-loss = 7.132,accuracy=0.811/Test = 0.806\n",
            "Epoch 10 : train-loss = 7.090,accuracy=0.813/Test = 0.804\n",
            "\n",
            " 최종 테스트 결과 : final accuracy = 0.804\n"
          ],
          "name": "stdout"
        }
      ]
    },
    {
      "cell_type": "code",
      "metadata": {
        "id": "hxCzlpXp16u-"
      },
      "source": [
        "#learning_rate=0.01"
      ],
      "execution_count": null,
      "outputs": []
    },
    {
      "cell_type": "code",
      "metadata": {
        "colab": {
          "base_uri": "https://localhost:8080/"
        },
        "id": "tNkLlt1J1cER",
        "outputId": "b37b9eb3-5f46-459f-db73-aa91e3788cdc"
      },
      "source": [
        "#main_exec(epoch_count=1000,mb_size=100,report=10,train_rate=0.7)"
      ],
      "execution_count": null,
      "outputs": [
        {
          "output_type": "stream",
          "text": [
            "[[ 0.      1.      0.     ...  0.101   0.15   15.    ]\n",
            " [ 0.      1.      0.     ...  0.0485  0.07    7.    ]\n",
            " [ 0.      0.      1.     ...  0.1415  0.21    9.    ]\n",
            " ...\n",
            " [ 0.      1.      0.     ...  0.2875  0.308   9.    ]\n",
            " [ 0.      0.      1.     ...  0.261   0.296  10.    ]\n",
            " [ 0.      1.      0.     ...  0.3765  0.495  12.    ]]\n",
            "[[-0.00079189]\n",
            " [-0.00184453]\n",
            " [ 0.0023149 ]\n",
            " [-0.00331474]\n",
            " [ 0.00306099]\n",
            " [ 0.00332318]\n",
            " [ 0.00043965]\n",
            " [ 0.00557458]\n",
            " [-0.00138164]\n",
            " [ 0.00190839]]\n",
            "[0.]\n",
            "Epoch 10 : train-loss = 7.066,accuracy=0.810/Test = 0.813\n",
            "Epoch 20 : train-loss = 6.811,accuracy=0.809/Test = 0.815\n",
            "Epoch 30 : train-loss = 6.678,accuracy=0.810/Test = 0.813\n",
            "Epoch 40 : train-loss = 6.591,accuracy=0.810/Test = 0.815\n",
            "Epoch 50 : train-loss = 6.513,accuracy=0.811/Test = 0.814\n",
            "Epoch 60 : train-loss = 6.445,accuracy=0.811/Test = 0.817\n",
            "Epoch 70 : train-loss = 6.380,accuracy=0.813/Test = 0.815\n",
            "Epoch 80 : train-loss = 6.321,accuracy=0.814/Test = 0.817\n",
            "Epoch 90 : train-loss = 6.260,accuracy=0.814/Test = 0.819\n",
            "Epoch 100 : train-loss = 6.204,accuracy=0.816/Test = 0.819\n",
            "Epoch 110 : train-loss = 6.149,accuracy=0.817/Test = 0.819\n",
            "Epoch 120 : train-loss = 6.098,accuracy=0.816/Test = 0.822\n",
            "Epoch 130 : train-loss = 6.050,accuracy=0.818/Test = 0.820\n",
            "Epoch 140 : train-loss = 6.003,accuracy=0.818/Test = 0.822\n",
            "Epoch 150 : train-loss = 5.958,accuracy=0.819/Test = 0.823\n",
            "Epoch 160 : train-loss = 5.914,accuracy=0.820/Test = 0.823\n",
            "Epoch 170 : train-loss = 5.871,accuracy=0.819/Test = 0.826\n",
            "Epoch 180 : train-loss = 5.833,accuracy=0.821/Test = 0.826\n",
            "Epoch 190 : train-loss = 5.794,accuracy=0.822/Test = 0.826\n",
            "Epoch 200 : train-loss = 5.755,accuracy=0.822/Test = 0.828\n",
            "Epoch 210 : train-loss = 5.722,accuracy=0.823/Test = 0.828\n",
            "Epoch 220 : train-loss = 5.690,accuracy=0.823/Test = 0.828\n",
            "Epoch 230 : train-loss = 5.659,accuracy=0.824/Test = 0.828\n",
            "Epoch 240 : train-loss = 5.626,accuracy=0.825/Test = 0.829\n",
            "Epoch 250 : train-loss = 5.595,accuracy=0.825/Test = 0.832\n",
            "Epoch 260 : train-loss = 5.566,accuracy=0.825/Test = 0.832\n",
            "Epoch 270 : train-loss = 5.540,accuracy=0.826/Test = 0.831\n",
            "Epoch 280 : train-loss = 5.512,accuracy=0.827/Test = 0.831\n",
            "Epoch 290 : train-loss = 5.487,accuracy=0.827/Test = 0.832\n",
            "Epoch 300 : train-loss = 5.465,accuracy=0.828/Test = 0.832\n",
            "Epoch 310 : train-loss = 5.442,accuracy=0.827/Test = 0.834\n",
            "Epoch 320 : train-loss = 5.420,accuracy=0.829/Test = 0.833\n",
            "Epoch 330 : train-loss = 5.399,accuracy=0.829/Test = 0.833\n",
            "Epoch 340 : train-loss = 5.378,accuracy=0.829/Test = 0.834\n",
            "Epoch 350 : train-loss = 5.360,accuracy=0.829/Test = 0.834\n",
            "Epoch 360 : train-loss = 5.340,accuracy=0.829/Test = 0.836\n",
            "Epoch 370 : train-loss = 5.321,accuracy=0.830/Test = 0.837\n",
            "Epoch 380 : train-loss = 5.305,accuracy=0.831/Test = 0.837\n",
            "Epoch 390 : train-loss = 5.291,accuracy=0.831/Test = 0.836\n",
            "Epoch 400 : train-loss = 5.273,accuracy=0.830/Test = 0.837\n",
            "Epoch 410 : train-loss = 5.259,accuracy=0.831/Test = 0.837\n",
            "Epoch 420 : train-loss = 5.242,accuracy=0.830/Test = 0.838\n",
            "Epoch 430 : train-loss = 5.229,accuracy=0.832/Test = 0.837\n",
            "Epoch 440 : train-loss = 5.215,accuracy=0.832/Test = 0.837\n",
            "Epoch 450 : train-loss = 5.205,accuracy=0.832/Test = 0.838\n",
            "Epoch 460 : train-loss = 5.190,accuracy=0.832/Test = 0.838\n",
            "Epoch 470 : train-loss = 5.182,accuracy=0.832/Test = 0.839\n",
            "Epoch 480 : train-loss = 5.168,accuracy=0.832/Test = 0.839\n",
            "Epoch 490 : train-loss = 5.157,accuracy=0.832/Test = 0.840\n",
            "Epoch 500 : train-loss = 5.148,accuracy=0.832/Test = 0.839\n",
            "Epoch 510 : train-loss = 5.137,accuracy=0.833/Test = 0.840\n",
            "Epoch 520 : train-loss = 5.127,accuracy=0.833/Test = 0.840\n",
            "Epoch 530 : train-loss = 5.118,accuracy=0.833/Test = 0.841\n",
            "Epoch 540 : train-loss = 5.109,accuracy=0.834/Test = 0.839\n",
            "Epoch 550 : train-loss = 5.101,accuracy=0.834/Test = 0.840\n",
            "Epoch 560 : train-loss = 5.094,accuracy=0.834/Test = 0.840\n",
            "Epoch 570 : train-loss = 5.085,accuracy=0.834/Test = 0.840\n",
            "Epoch 580 : train-loss = 5.077,accuracy=0.835/Test = 0.840\n",
            "Epoch 590 : train-loss = 5.072,accuracy=0.834/Test = 0.842\n",
            "Epoch 600 : train-loss = 5.065,accuracy=0.834/Test = 0.842\n",
            "Epoch 610 : train-loss = 5.057,accuracy=0.834/Test = 0.840\n",
            "Epoch 620 : train-loss = 5.050,accuracy=0.835/Test = 0.841\n",
            "Epoch 630 : train-loss = 5.045,accuracy=0.835/Test = 0.842\n",
            "Epoch 640 : train-loss = 5.038,accuracy=0.834/Test = 0.842\n",
            "Epoch 650 : train-loss = 5.033,accuracy=0.834/Test = 0.843\n",
            "Epoch 660 : train-loss = 5.027,accuracy=0.834/Test = 0.842\n",
            "Epoch 670 : train-loss = 5.024,accuracy=0.835/Test = 0.841\n",
            "Epoch 680 : train-loss = 5.017,accuracy=0.836/Test = 0.842\n",
            "Epoch 690 : train-loss = 5.013,accuracy=0.835/Test = 0.842\n",
            "Epoch 700 : train-loss = 5.007,accuracy=0.835/Test = 0.843\n",
            "Epoch 710 : train-loss = 5.004,accuracy=0.835/Test = 0.844\n",
            "Epoch 720 : train-loss = 5.000,accuracy=0.835/Test = 0.843\n",
            "Epoch 730 : train-loss = 4.995,accuracy=0.835/Test = 0.843\n",
            "Epoch 740 : train-loss = 4.991,accuracy=0.835/Test = 0.842\n",
            "Epoch 750 : train-loss = 4.987,accuracy=0.836/Test = 0.842\n",
            "Epoch 760 : train-loss = 4.985,accuracy=0.836/Test = 0.843\n",
            "Epoch 770 : train-loss = 4.980,accuracy=0.836/Test = 0.842\n",
            "Epoch 780 : train-loss = 4.976,accuracy=0.836/Test = 0.843\n",
            "Epoch 790 : train-loss = 4.974,accuracy=0.836/Test = 0.843\n",
            "Epoch 800 : train-loss = 4.972,accuracy=0.836/Test = 0.844\n",
            "Epoch 810 : train-loss = 4.967,accuracy=0.836/Test = 0.843\n",
            "Epoch 820 : train-loss = 4.965,accuracy=0.835/Test = 0.843\n",
            "Epoch 830 : train-loss = 4.963,accuracy=0.836/Test = 0.843\n",
            "Epoch 840 : train-loss = 4.959,accuracy=0.836/Test = 0.844\n",
            "Epoch 850 : train-loss = 4.955,accuracy=0.836/Test = 0.843\n",
            "Epoch 860 : train-loss = 4.952,accuracy=0.837/Test = 0.843\n",
            "Epoch 870 : train-loss = 4.952,accuracy=0.835/Test = 0.845\n",
            "Epoch 880 : train-loss = 4.949,accuracy=0.836/Test = 0.844\n",
            "Epoch 890 : train-loss = 4.946,accuracy=0.836/Test = 0.844\n",
            "Epoch 900 : train-loss = 4.945,accuracy=0.836/Test = 0.845\n",
            "Epoch 910 : train-loss = 4.942,accuracy=0.836/Test = 0.843\n",
            "Epoch 920 : train-loss = 4.943,accuracy=0.836/Test = 0.844\n",
            "Epoch 930 : train-loss = 4.939,accuracy=0.836/Test = 0.844\n",
            "Epoch 940 : train-loss = 4.938,accuracy=0.836/Test = 0.844\n",
            "Epoch 950 : train-loss = 4.936,accuracy=0.836/Test = 0.844\n",
            "Epoch 960 : train-loss = 4.933,accuracy=0.837/Test = 0.843\n",
            "Epoch 970 : train-loss = 4.932,accuracy=0.836/Test = 0.844\n",
            "Epoch 980 : train-loss = 4.930,accuracy=0.836/Test = 0.844\n",
            "Epoch 990 : train-loss = 4.928,accuracy=0.836/Test = 0.844\n",
            "Epoch 1000 : train-loss = 4.926,accuracy=0.837/Test = 0.844\n",
            "\n",
            " 최종 테스트 결과 : final accuracy = 0.844\n"
          ],
          "name": "stdout"
        }
      ]
    },
    {
      "cell_type": "code",
      "metadata": {
        "colab": {
          "base_uri": "https://localhost:8080/"
        },
        "id": "0JEPN35Y1dg4",
        "outputId": "a642b022-acfe-4f6e-e7d6-ded66e95ab98"
      },
      "source": [
        "# print(weight)\n",
        "# print(bias)"
      ],
      "execution_count": null,
      "outputs": [
        {
          "output_type": "stream",
          "text": [
            "[[  0.38374249]\n",
            " [  1.45150031]\n",
            " [  1.39463766]\n",
            " [  3.94126614]\n",
            " [  4.87029147]\n",
            " [  4.32545175]\n",
            " [  4.91104661]\n",
            " [-15.02700746]\n",
            " [ -2.64677785]\n",
            " [ 11.61808133]]\n",
            "[3.23020198]\n"
          ],
          "name": "stdout"
        }
      ]
    },
    {
      "cell_type": "code",
      "metadata": {
        "id": "w_uVc4Eh211T",
        "colab": {
          "base_uri": "https://localhost:8080/"
        },
        "outputId": "62644ee6-76c3-4a7f-cd09-dda1bb0357fc"
      },
      "source": [
        "# new_x = [0, 1, 0, 0.685,0.545, 0.18,1.42,0.674,0.392,0.5]\n",
        "# output = forward_neuralnet(new_x)\n",
        "# print(output[0] + 1.5)"
      ],
      "execution_count": null,
      "outputs": [
        {
          "output_type": "stream",
          "text": [
            "[13.93134667]\n"
          ],
          "name": "stdout"
        }
      ]
    },
    {
      "cell_type": "code",
      "metadata": {
        "id": "I1BiD5Ex3Yx-"
      },
      "source": [
        ""
      ],
      "execution_count": null,
      "outputs": []
    }
  ]
}