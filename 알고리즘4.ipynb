{
 "cells": [
  {
   "cell_type": "code",
   "execution_count": 4,
   "metadata": {},
   "outputs": [],
   "source": [
    "a=[3,1,2]\n",
    "b=[4,1,4]\n",
    "c=[2,2,2]"
   ]
  },
  {
   "cell_type": "code",
   "execution_count": 7,
   "metadata": {},
   "outputs": [
    {
     "name": "stdout",
     "output_type": "stream",
     "text": [
      "2\n"
     ]
    }
   ],
   "source": [
    "print(max((min(a),min(b),min(c))))"
   ]
  },
  {
   "cell_type": "code",
   "execution_count": 8,
   "metadata": {},
   "outputs": [
    {
     "name": "stdout",
     "output_type": "stream",
     "text": [
      "3\n"
     ]
    }
   ],
   "source": [
    "d=[7,3,1,8]\n",
    "e=[3,3,3,4]\n",
    "print(max(min(d),min(e)))"
   ]
  },
  {
   "cell_type": "code",
   "execution_count": 11,
   "metadata": {},
   "outputs": [
    {
     "name": "stdout",
     "output_type": "stream",
     "text": [
      "[3, 1, 2]\n",
      "[4, 1, 4]\n",
      "[2, 2, 2]\n",
      "2\n"
     ]
    }
   ],
   "source": [
    "mininum=[]\n",
    "for i in [a,b,c]:\n",
    "    print(i)\n",
    "    min(i)\n",
    "    mininum.append(min(i))\n",
    "print(max(mininum))"
   ]
  },
  {
   "cell_type": "code",
   "execution_count": 12,
   "metadata": {},
   "outputs": [
    {
     "name": "stdout",
     "output_type": "stream",
     "text": [
      "[7, 3, 1, 8]\n",
      "[3, 3, 3, 4]\n",
      "3\n"
     ]
    }
   ],
   "source": [
    "mininum=[]\n",
    "for i in [d,e]:\n",
    "    print(i)\n",
    "    min(i)\n",
    "    mininum.append(min(i))\n",
    "print(max(mininum))"
   ]
  },
  {
   "cell_type": "code",
   "execution_count": 17,
   "metadata": {},
   "outputs": [
    {
     "name": "stdout",
     "output_type": "stream",
     "text": [
      "3 3\n",
      "3 1 2\n",
      "4 1 4\n",
      "2 2 2\n",
      "2\n"
     ]
    }
   ],
   "source": [
    "n,m=map(int,input().split())\n",
    "result=0\n",
    "for i in range(n):\n",
    "    data=list(map(int,input().split()))\n",
    "    min_value=min(data)\n",
    "    result=max(result,min_value)\n",
    "print(result)"
   ]
  },
  {
   "cell_type": "code",
   "execution_count": 26,
   "metadata": {},
   "outputs": [
    {
     "name": "stdout",
     "output_type": "stream",
     "text": [
      "25 5\n",
      "2\n"
     ]
    }
   ],
   "source": [
    "n,k=map(int,input().split())\n",
    "result=0\n",
    "while n>=k:\n",
    "    while n%k!=0:\n",
    "        n-=1\n",
    "        result+=1\n",
    "    n//=k\n",
    "    result+=1\n",
    "while n>1:\n",
    "    n-=1\n",
    "    result+=1\n",
    "print(result)"
   ]
  },
  {
   "cell_type": "code",
   "execution_count": null,
   "metadata": {},
   "outputs": [],
   "source": []
  }
 ],
 "metadata": {
  "kernelspec": {
   "display_name": "Python 3",
   "language": "python",
   "name": "python3"
  },
  "language_info": {
   "codemirror_mode": {
    "name": "ipython",
    "version": 3
   },
   "file_extension": ".py",
   "mimetype": "text/x-python",
   "name": "python",
   "nbconvert_exporter": "python",
   "pygments_lexer": "ipython3",
   "version": "3.7.3"
  }
 },
 "nbformat": 4,
 "nbformat_minor": 2
}
