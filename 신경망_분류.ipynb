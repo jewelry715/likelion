{
  "nbformat": 4,
  "nbformat_minor": 0,
  "metadata": {
    "colab": {
      "name": "신경망-분류.ipynb",
      "provenance": [],
      "collapsed_sections": [],
      "mount_file_id": "15vbuUCsXSy6QHNos7RwoAA6pnIL-rjXl",
      "authorship_tag": "ABX9TyPRpBd+3yeDspYrPTePcMow",
      "include_colab_link": true
    },
    "kernelspec": {
      "name": "python3",
      "display_name": "Python 3"
    },
    "language_info": {
      "name": "python"
    }
  },
  "cells": [
    {
      "cell_type": "markdown",
      "metadata": {
        "id": "view-in-github",
        "colab_type": "text"
      },
      "source": [
        "<a href=\"https://colab.research.google.com/github/jewelry715/likelion/blob/main/%EC%8B%A0%EA%B2%BD%EB%A7%9D_%EB%B6%84%EB%A5%98.ipynb\" target=\"_parent\"><img src=\"https://colab.research.google.com/assets/colab-badge.svg\" alt=\"Open In Colab\"/></a>"
      ]
    },
    {
      "cell_type": "markdown",
      "metadata": {
        "id": "_WOIPi5BQqz4"
      },
      "source": [
        "## 별인지 펄서인지 확인하는 이진분류(sigmoid)"
      ]
    },
    {
      "cell_type": "code",
      "metadata": {
        "id": "hRjYWWcuowkv"
      },
      "source": [
        "import numpy as np\n",
        "import csv\n",
        "np.random.seed(1024)\n",
        "rnd_mean=0\n",
        "rnd_std=0.003\n",
        "learning_rate=0.003"
      ],
      "execution_count": null,
      "outputs": []
    },
    {
      "cell_type": "code",
      "metadata": {
        "colab": {
          "base_uri": "https://localhost:8080/"
        },
        "id": "LfahChQ0SoGZ",
        "outputId": "bc231d5f-4689-41fd-88c1-fce86d7d73a9"
      },
      "source": [
        "%run /content/drive/MyDrive/abalone.ipynb"
      ],
      "execution_count": null,
      "outputs": [
        {
          "output_type": "stream",
          "text": [
            "[[ 0.      1.      0.     ...  0.101   0.15   15.    ]\n",
            " [ 0.      1.      0.     ...  0.0485  0.07    7.    ]\n",
            " [ 0.      0.      1.     ...  0.1415  0.21    9.    ]\n",
            " ...\n",
            " [ 0.      1.      0.     ...  0.2875  0.308   9.    ]\n",
            " [ 0.      0.      1.     ...  0.261   0.296  10.    ]\n",
            " [ 0.      1.      0.     ...  0.3765  0.495  12.    ]]\n",
            "[['M', '0.455', '0.365', '0.095', '0.514', '0.2245', '0.101', '0.15', '15'], ['M', '0.35', '0.265', '0.09', '0.2255', '0.0995', '0.0485', '0.07', '7']]\n",
            "총 데이터의 수(행): 4177\n",
            "데이터의 70%의 미니배치 스텝 수: 29\n"
          ],
          "name": "stdout"
        }
      ]
    },
    {
      "cell_type": "code",
      "metadata": {
        "id": "ulvhGbfDRLAE"
      },
      "source": [
        "def binary_classification_exec(epoch_count=1,mb_size=10,report=1,train_rate=0.8):\n",
        "  binary_load_dataset()\n",
        "  init_model()\n",
        "  train_and_test(epoch_count,mb_size,report,train_rate)"
      ],
      "execution_count": null,
      "outputs": []
    },
    {
      "cell_type": "code",
      "metadata": {
        "id": "oSMtbP_IRcho"
      },
      "source": [
        "def binary_load_dataset():\n",
        "  with open('/content/drive/MyDrive/pulsar_stars.csv') as csvfile:\n",
        "    csvreader=csv.reader(csvfile)\n",
        "    next(csvreader,None)\n",
        "    rows=[]\n",
        "    for row in csvreader:\n",
        "      rows.append(row)\n",
        "\n",
        "  global data,input_cnt,output_cnt\n",
        "  input_cnt,output_cnt=8,1 #독립변수,종속변수\n",
        "  data=np.asarray(rows,dtype='float32') #배열구조로 변환"
      ],
      "execution_count": null,
      "outputs": []
    },
    {
      "cell_type": "code",
      "metadata": {
        "id": "-i6YUf1d1-h9"
      },
      "source": [
        "def init_model():\n",
        "  global weight,bias,input_cnt,output_cnt\n",
        "  weight=np.random.normal(rnd_mean,rnd_std,[input_cnt,output_cnt])\n",
        "  bias=np.random.normal(rnd_mean,rnd_std,[output_cnt])"
      ],
      "execution_count": null,
      "outputs": []
    },
    {
      "cell_type": "code",
      "metadata": {
        "id": "TiDgQ5tE2EHi"
      },
      "source": [
        "def train_and_test(epoch_count, mb_size, report, train_rate):\n",
        "  step_count = arrange_data(mb_size, train_rate)\n",
        "  test_x, test_y = get_test_data()\n",
        "  for epoch in range(epoch_count):\n",
        "    losses, accs = [], []\n",
        "    for n in range(step_count):\n",
        "      train_x, train_y = get_train_data(mb_size, n)\n",
        "      loss, acc = run_train(train_x, train_y)\n",
        "      losses.append(loss)\n",
        "      accs.append(acc)\n",
        "    if report > 0 and (epoch+1) % report == 0:\n",
        "      acc = run_test(test_x, test_y)\n",
        "      print('Epoch {}: loss={:5.3f}, accuracy={:5.3f}/{:5.3f}'. \\\n",
        "        format(epoch+1, np.mean(losses), np.mean(accs), acc))\n",
        "  final_acc = run_test(test_x, test_y)\n",
        "  print('\\nFinal Test: final accuracy = {:5.3f}'.format(final_acc))"
      ],
      "execution_count": null,
      "outputs": []
    },
    {
      "cell_type": "code",
      "metadata": {
        "id": "GRx88Mr-Un1R"
      },
      "source": [
        "def arrange_data(mb_size,train_rate):\n",
        "  global data,shuffle_map,test_begin_idx #외부에서도 쓸 것\n",
        "  shuffle_map=np.arange(data.shape[0])\n",
        "  np.random.shuffle(shuffle_map)\n",
        "  step_count=int(data.shape[0]*train_rate)//mb_size\n",
        "  test_begin_idx=step_count*mb_size\n",
        "  return step_count"
      ],
      "execution_count": null,
      "outputs": []
    },
    {
      "cell_type": "code",
      "metadata": {
        "id": "N50BUB7iUpti"
      },
      "source": [
        "def get_test_data():\n",
        "  global data,shuffle_map,test_begin_idx,output_cnt\n",
        "  test_data=data[shuffle_map[test_begin_idx:]]\n",
        "  return test_data[:,:-output_cnt],test_data[:,-output_cnt:]"
      ],
      "execution_count": null,
      "outputs": []
    },
    {
      "cell_type": "code",
      "metadata": {
        "id": "MfYZv6T0UrMj"
      },
      "source": [
        "def get_train_data(mb_size,nth):\n",
        "  global data,shuffle_map,test_begin_idx,output_cnt\n",
        "  if nth==0:\n",
        "    np.random.shuffle(shuffle_map[:test_begin_idx])\n",
        "  train_data=data[shuffle_map[mb_size*nth:mb_size*(nth+1)]]\n",
        "  return train_data[:, :-output_cnt], train_data[:, -output_cnt:]"
      ],
      "execution_count": null,
      "outputs": []
    },
    {
      "cell_type": "code",
      "metadata": {
        "id": "DB34f1PpUrOV"
      },
      "source": [
        "def run_train(x,y):\n",
        "  output,aux_nn=forward_neuralnet(x)#역전파 시 필요한 보조 지표\n",
        "  loss,aux_pp=forward_postproc(output,y)\n",
        "  accuracy=eval_accuracy(output,y)\n",
        "  #순전파 과정\n",
        "  g_loss=1.0\n",
        "  g_output=backprop_postproc(g_loss,aux_pp)\n",
        "  backprop_neuralnet(g_output,aux_nn)\n",
        "  return loss,accuracy"
      ],
      "execution_count": null,
      "outputs": []
    },
    {
      "cell_type": "code",
      "metadata": {
        "id": "abyU2Q0qUvVT"
      },
      "source": [
        "def run_test(x,y):\n",
        "  output,_=forward_neuralnet(x)\n",
        "  accuracy=eval_accuracy(output,y)\n",
        "  return accuracy"
      ],
      "execution_count": null,
      "outputs": []
    },
    {
      "cell_type": "code",
      "metadata": {
        "id": "J5W1bAcWU2KE"
      },
      "source": [
        "def backprop_neuralnet(g_output,x):\n",
        "  global weight,bias\n",
        "  g_output_w=x.transpose()\n",
        "  g_w=np.matmul(g_output_w,g_output)\n",
        "  weight-=learning_rate*g_w\n",
        "  g_b=np.sum(g_output,axis=0)\n",
        "  bias-=learning_rate*g_b"
      ],
      "execution_count": null,
      "outputs": []
    },
    {
      "cell_type": "code",
      "metadata": {
        "id": "OvVPXxPjTadA"
      },
      "source": [
        "def forward_postproc(output,y):#순전파 수행 함수\n",
        "  cee=sigmoid_cross_entropy_with_logits(y,output)#로짓값 해석,시그모이드 함수,교차엔트로피를 거쳐 계산\n",
        "  loss=np.mean(cee)#구해진 값들에 대해 평균을 낸다\n",
        "  return loss,[y,output,cee] #역전파를 수행하기 위해 리스트 반환"
      ],
      "execution_count": null,
      "outputs": []
    },
    {
      "cell_type": "code",
      "metadata": {
        "id": "pAXjbN55UWqr"
      },
      "source": [
        "def backprop_postproc(g_loss,aux):\n",
        "  y,output,cee=aux\n",
        "  g_loss=1.0\n",
        "  g_loss_entropy=1.0/np.prod(cee.shape) #교차 엔트로피를 변수화함\n",
        "  g_entropy_output=sigmoid_cross_entropy_with_logits_derv(y,output) #교차 엔트로피에 대한 편미분\n",
        "  g_entropy=g_loss_entropy*g_loss\n",
        "  g_output=g_entropy_output*g_entropy #각 부분 기울기를 연쇄적으로 곱함\n",
        "  return g_output"
      ],
      "execution_count": null,
      "outputs": []
    },
    {
      "cell_type": "code",
      "metadata": {
        "id": "5b1txCb7UWpr"
      },
      "source": [
        "def sigmoid(x):\n",
        "  return np.exp(-relu(-x))/(1.0+np.exp(-np.abs(x))) #-max(x,0)->-relu(-x)\n",
        "def sigmoid_derv(x,y):\n",
        "  return y*(1-y)\n",
        "def sigmoid_cross_entropy_with_logits(z,x):\n",
        "  return relu(x)-x*z+np.log(1+np.exp(-np.abs(x)))\n",
        "def sigmoid_cross_entropy_with_logits_derv(z,x):#x에 대해 편미분(시그모이드의 편미분 과정)\n",
        "#연산과정 자체를 하나로 통합함\n",
        "  return -z+sigmoid(x)\n",
        "def relu(x):#입력값이 0보다 크면 그대로, 아니면 0으로 출력\n",
        "  return np.maximum(x,0)"
      ],
      "execution_count": null,
      "outputs": []
    },
    {
      "cell_type": "code",
      "metadata": {
        "id": "AHZ5Abn2UKVn"
      },
      "source": [
        "def eval_accuracy(output,y):\n",
        "  estimate=np.greater(output,0)#시그모이드 함수를 거친 판단\n",
        "  answer=np.greater(y,0)#실제 정답으로 주어진 판단\n",
        "  correct=np.equal(estimate,answer)#예측값과 실제가 일치할 경우ef eval_accuracy(output,y):\n",
        "  return np.mean(correct)"
      ],
      "execution_count": null,
      "outputs": []
    },
    {
      "cell_type": "code",
      "metadata": {
        "colab": {
          "base_uri": "https://localhost:8080/"
        },
        "id": "c_8OSJd_V48K",
        "outputId": "feed977b-d6ca-4afe-fcd6-676cac22dd0e"
      },
      "source": [
        "binary_classification_exec(epoch_count=10,mb_size=1,report=1,train_rate=0.8)"
      ],
      "execution_count": null,
      "outputs": [
        {
          "output_type": "stream",
          "text": [
            "Epoch 1: loss=0.610, accuracy=0.952/0.969\n",
            "Epoch 2: loss=0.613, accuracy=0.956/0.972\n",
            "Epoch 3: loss=0.601, accuracy=0.958/0.346\n",
            "Epoch 4: loss=0.633, accuracy=0.957/0.953\n",
            "Epoch 5: loss=0.670, accuracy=0.959/0.963\n",
            "Epoch 6: loss=0.560, accuracy=0.960/0.975\n",
            "Epoch 7: loss=0.590, accuracy=0.959/0.976\n",
            "Epoch 8: loss=0.587, accuracy=0.959/0.974\n",
            "Epoch 9: loss=0.582, accuracy=0.960/0.872\n",
            "Epoch 10: loss=0.538, accuracy=0.960/0.947\n",
            "\n",
            "Final Test: final accuracy = 0.947\n"
          ],
          "name": "stdout"
        }
      ]
    },
    {
      "cell_type": "markdown",
      "metadata": {
        "id": "fF0hW6OFWmC4"
      },
      "source": [
        "데이터셋의 균형이 무너져 정확도가 정확하게 보여지지 않는 상황을 타개하기 위해 신경망의 성능을 더욱 잘 보여줄 수 있는 평가지표가 필요함\n",
        "\n",
        "=>정밀도,재현율"
      ]
    },
    {
      "cell_type": "markdown",
      "metadata": {
        "id": "oVyNjHucXElw"
      },
      "source": [
        "정밀도:신경망이 참으로 예측한 것 중에 정답이 참인 비율\n",
        "- TP/(TP+FP)\n",
        "\n",
        "재현율: 거꾸로 정답이 참인 것들 중에 신경망이 참으로 예측한 비율\n",
        "- TP/(TP+FN)"
      ]
    },
    {
      "cell_type": "markdown",
      "metadata": {
        "id": "Z76OLAzPXKUu"
      },
      "source": [
        "- TP : 신경망의 추측이 '참(P)'이며, 데이터의 정답 또한 '참'(T)으로 정확하게 평가한 결과\n",
        "- TN : 신경망의 추측이 '거짓(N)'이며, 데이터의 정답은 '참'(T)으로 부정확하게 평가한 결과\n",
        "- FP : 신경망의 추측이 '참(P)'이며, 데이터의 정답은 '거짓(F)'으로 부정확하게 평가한 결과\n",
        "- FN : 신경망의 추측이 '거짓(N)'이며, 데이터의 정답 또한 '거짓(F)'으로 정확하게 평가한 결과\n"
      ]
    },
    {
      "cell_type": "markdown",
      "metadata": {
        "id": "vmTq8z8VXPuY"
      },
      "source": [
        "F1: 정밀도와 재현율의 조화평균\n",
        "\n",
        "F1=1/((1/a+a/b)/2)=2/(1/a+1/b)\n",
        "=2/(1/정밀도+1/재현율)=2/((TP+FP)/TP+(TP+FN)/TP)\n",
        "=2*TP/(2*TP+FP+FN)"
      ]
    },
    {
      "cell_type": "markdown",
      "metadata": {
        "id": "-1JgtWKFXppI"
      },
      "source": [
        "정확성=(TP+TN)/(TP+FN+TN+FP)"
      ]
    },
    {
      "cell_type": "code",
      "metadata": {
        "id": "jv8rrqrUW2u9"
      },
      "source": [
        "def binary_classification_exec(epoch_count=10, mb_size=10, report=1,train_rate = 0.8, adjust_ratio = False):\n",
        "    binary_load_dataset(adjust_ratio)\n",
        "    init_model()\n",
        "    train_and_test(epoch_count, mb_size, report, train_rate)\n",
        "  #PULSAR 데이터 증폭"
      ],
      "execution_count": null,
      "outputs": []
    },
    {
      "cell_type": "code",
      "metadata": {
        "id": "U-u31EKQWGzx"
      },
      "source": [
        "def binary_load_dataset(adjust_ratio):\n",
        "  pulsars,stars=[],[]\n",
        "  with open('/content/drive/MyDrive/pulsar_stars.csv') as csvfile:\n",
        "    csvreader=csv.reader(csvfile)\n",
        "    next(csvreader,None)\n",
        "    \n",
        "    for row in csvreader:\n",
        "      if row[8] == '1' : pulsars.append(row)\n",
        "      else:\n",
        "        stars.append(row)\n",
        "\n",
        "  global data,input_cnt,output_cnt\n",
        "  input_cnt,output_cnt=8,1 #독립변수,종속변수\n",
        "  star_cnt,pulsar_cnt=len(stars),len(pulsars)\n",
        "  if adjust_ratio: #기존 데이터버퍼보다 크기를 2배 늘려줌\n",
        "    data=np.zeros([2*star_cnt,9])\n",
        "    data[0:star_cnt,:]=np.asarray(stars,dtype='float32') #배열구조로 변환\n",
        "\n",
        "    for n in range(star_cnt):#절반은 star,절반은 pulsar\n",
        "      data[star_cnt+n]=np.asarray(pulsars[n%pulsar_cnt],dtype='float32')\n",
        "  else:\n",
        "    data = np.zeros([star_cnt+pulsar_cnt,9])\n",
        "    data[0:star_cnt, :] = np.asarray(stars, dtype='float32')\n",
        "    data[star_cnt:,:] = np.asarray(pulsars, dtype='float32')"
      ],
      "execution_count": null,
      "outputs": []
    },
    {
      "cell_type": "code",
      "metadata": {
        "id": "4sg99sHxYmoP"
      },
      "source": [
        "def eval_accuracy(output,y):\n",
        "  est_yes=np.greater(output,0)\n",
        "  ans_yes=np.greater(y,0.5)\n",
        "  est_no=np.logical_not(est_yes)\n",
        "  ans_no=np.logical_not(ans_yes)\n",
        "  tp=np.sum(np.logical_and(est_yes,ans_yes))\n",
        "  fp=np.sum(np.logical_and(est_yes,ans_no))\n",
        "  fn=np.sum(np.logical_and(est_no,ans_no))\n",
        "  tn=np.sum(np.logical_and(est_no,ans_yes))\n",
        "  accuracy=safe_div(tp+tn,tp+fp+fn+tn)\n",
        "  precision=safe_div(tp,tp+fp)\n",
        "  recall=safe_div(tp,tp+fn)\n",
        "  f1=2*safe_div(recall*precision,recall+precision)\n",
        "  return [accuracy,precision,recall,f1]"
      ],
      "execution_count": null,
      "outputs": []
    },
    {
      "cell_type": "code",
      "metadata": {
        "id": "ohk3Vq4sw9Og"
      },
      "source": [
        "def safe_div(p,q):\n",
        "  p,q=float(p),float(q)\n",
        "  if np.abs(q)<1.0e-20:\n",
        "    return np.sign(p)\n",
        "  return p/q"
      ],
      "execution_count": null,
      "outputs": []
    },
    {
      "cell_type": "code",
      "metadata": {
        "id": "a3sYQKvhxGut"
      },
      "source": [
        "def train_and_test(epoch_count,mb_size,report,train_rate):\n",
        "  step_count=arrange_data(mb_size,train_rate)\n",
        "  test_x,test_y=get_test_data()\n",
        "  for epoch in range(epoch_count):\n",
        "    losses=[]\n",
        "    for n in range(step_count):\n",
        "      train_x,train_y=get_train_data(mb_size,n)\n",
        "      loss,acc=run_train(train_x,train_y)\n",
        "      losses.append(loss)\n",
        "      \n",
        "    if report>0 and (epoch+1)%report==0:\n",
        "      acc=run_test(test_x,test_y)\n",
        "      print(\"epoch{}:TRAIN -LOSS = {:5.3f},\\n accuracy:{:5.3f},precision:{:5.3f},recall:{:5.3f},f1:{:5.3f}\".\\\n",
        "                    format(epoch+1,np.mean(losses), acc[0],acc[1],acc[2],acc[3]))\n",
        "  final_acc = run_test(test_x,test_y)\n",
        "  print(\"\\n 최종 테스트 :\\n accuracy:{:5.3f},precision:{:5.3f},recall:{:5.3f},f1:{:5.3f}\".\\\n",
        "          format(final_acc[0],final_acc[1],final_acc[2],final_acc[3]))\n"
      ],
      "execution_count": null,
      "outputs": []
    },
    {
      "cell_type": "code",
      "metadata": {
        "colab": {
          "base_uri": "https://localhost:8080/"
        },
        "id": "i0U74kxyxjnH",
        "outputId": "a59286d4-e717-47b1-dc5e-5d36ac6ff4ac"
      },
      "source": [
        "binary_classification_exec(epoch_count=1000, report=100,mb_size = 10,adjust_ratio=False)"
      ],
      "execution_count": null,
      "outputs": [
        {
          "output_type": "stream",
          "text": [
            "epoch100:TRAIN -LOSS = 0.128,\n",
            " accuracy:0.098,precision:0.915,recall:0.080,f1:0.147\n",
            "epoch200:TRAIN -LOSS = 0.135,\n",
            " accuracy:0.098,precision:0.971,recall:0.069,f1:0.128\n",
            "epoch300:TRAIN -LOSS = 0.126,\n",
            " accuracy:0.098,precision:0.920,recall:0.083,f1:0.152\n",
            "epoch400:TRAIN -LOSS = 0.114,\n",
            " accuracy:0.098,precision:0.899,recall:0.084,f1:0.153\n",
            "epoch500:TRAIN -LOSS = 0.115,\n",
            " accuracy:0.098,precision:0.969,recall:0.071,f1:0.132\n",
            "epoch600:TRAIN -LOSS = 0.117,\n",
            " accuracy:0.098,precision:0.917,recall:0.082,f1:0.150\n",
            "epoch700:TRAIN -LOSS = 0.112,\n",
            " accuracy:0.098,precision:0.919,recall:0.081,f1:0.148\n",
            "epoch800:TRAIN -LOSS = 0.120,\n",
            " accuracy:0.098,precision:0.951,recall:0.077,f1:0.143\n",
            "epoch900:TRAIN -LOSS = 0.108,\n",
            " accuracy:0.098,precision:0.825,recall:0.091,f1:0.163\n",
            "epoch1000:TRAIN -LOSS = 0.111,\n",
            " accuracy:0.098,precision:0.940,recall:0.080,f1:0.148\n",
            "\n",
            " 최종 테스트 :\n",
            " accuracy:0.098,precision:0.940,recall:0.080,f1:0.148\n"
          ],
          "name": "stdout"
        }
      ]
    },
    {
      "cell_type": "code",
      "metadata": {
        "id": "_aL8dyfrz4qr",
        "colab": {
          "base_uri": "https://localhost:8080/"
        },
        "outputId": "0621a520-a8a7-46e0-baa6-f1c52f7aa688"
      },
      "source": [
        "binary_classification_exec(epoch_count=1000, report=100,mb_size = 10,adjust_ratio=True)"
      ],
      "execution_count": null,
      "outputs": [
        {
          "output_type": "stream",
          "text": [
            "epoch100:TRAIN -LOSS = 0.332,\n",
            " accuracy:0.504,precision:0.973,recall:0.473,f1:0.636\n",
            "epoch200:TRAIN -LOSS = 0.327,\n",
            " accuracy:0.504,precision:0.951,recall:0.493,f1:0.649\n",
            "epoch300:TRAIN -LOSS = 0.315,\n",
            " accuracy:0.504,precision:0.913,recall:0.510,f1:0.654\n",
            "epoch400:TRAIN -LOSS = 0.320,\n",
            " accuracy:0.504,precision:0.974,recall:0.484,f1:0.646\n",
            "epoch500:TRAIN -LOSS = 0.312,\n",
            " accuracy:0.504,precision:0.949,recall:0.497,f1:0.652\n",
            "epoch600:TRAIN -LOSS = 0.312,\n",
            " accuracy:0.504,precision:0.966,recall:0.490,f1:0.650\n",
            "epoch700:TRAIN -LOSS = 0.314,\n",
            " accuracy:0.504,precision:0.981,recall:0.475,f1:0.640\n",
            "epoch800:TRAIN -LOSS = 0.315,\n",
            " accuracy:0.504,precision:0.978,recall:0.476,f1:0.640\n",
            "epoch900:TRAIN -LOSS = 0.288,\n",
            " accuracy:0.504,precision:0.885,recall:0.522,f1:0.657\n",
            "epoch1000:TRAIN -LOSS = 0.299,\n",
            " accuracy:0.504,precision:0.911,recall:0.511,f1:0.655\n",
            "\n",
            " 최종 테스트 :\n",
            " accuracy:0.504,precision:0.911,recall:0.511,f1:0.655\n"
          ],
          "name": "stdout"
        }
      ]
    },
    {
      "cell_type": "markdown",
      "metadata": {
        "id": "luWVxHQ8x36h"
      },
      "source": [
        "## 다중분류 softmax"
      ]
    },
    {
      "cell_type": "code",
      "metadata": {
        "id": "L6YL3BqmDyQg",
        "colab": {
          "base_uri": "https://localhost:8080/"
        },
        "outputId": "f4009625-57fc-407e-f52c-1d4d007b741c"
      },
      "source": [
        "%run /content/drive/MyDrive/abalone.ipynb"
      ],
      "execution_count": null,
      "outputs": [
        {
          "output_type": "stream",
          "text": [
            "[[ 0.      1.      0.     ...  0.101   0.15   15.    ]\n",
            " [ 0.      1.      0.     ...  0.0485  0.07    7.    ]\n",
            " [ 0.      0.      1.     ...  0.1415  0.21    9.    ]\n",
            " ...\n",
            " [ 0.      1.      0.     ...  0.2875  0.308   9.    ]\n",
            " [ 0.      0.      1.     ...  0.261   0.296  10.    ]\n",
            " [ 0.      1.      0.     ...  0.3765  0.495  12.    ]]\n",
            "[['M', '0.455', '0.365', '0.095', '0.514', '0.2245', '0.101', '0.15', '15'], ['M', '0.35', '0.265', '0.09', '0.2255', '0.0995', '0.0485', '0.07', '7']]\n",
            "총 데이터의 수(행): 4177\n",
            "데이터의 70%의 미니배치 스텝 수: 29\n"
          ],
          "name": "stdout"
        }
      ]
    },
    {
      "cell_type": "code",
      "metadata": {
        "id": "PV41I4PoCqMF"
      },
      "source": [
        "def multi_class_exec(epoch_count = 10, mb_size = 10, report = 1, train_rate = 0.75):\n",
        "  multi_load_dataset()\n",
        "  init_model()\n",
        "  train_and_test(epoch_count,mb_size,report,train_rate)"
      ],
      "execution_count": null,
      "outputs": []
    },
    {
      "cell_type": "code",
      "metadata": {
        "id": "gBo1b8JXyNgz"
      },
      "source": [
        "def multi_load_dataset():\n",
        "  with open('/content/drive/MyDrive/faults.csv') as csvfile:\n",
        "      csvreader = csv.reader(csvfile)\n",
        "      next(csvreader, None)\n",
        "      rows = []\n",
        "      for row in csvreader:\n",
        "          rows.append(row)\n",
        "          \n",
        "  global data, input_cnt, output_cnt\n",
        "  input_cnt, output_cnt = 27, 7\n",
        "  data = np.asarray(rows, dtype='float32')"
      ],
      "execution_count": null,
      "outputs": []
    },
    {
      "cell_type": "code",
      "metadata": {
        "id": "Gay_1j7hysgD"
      },
      "source": [
        "def fowrard_neuralnet(x):\n",
        "  global weight,bias\n",
        "  output=np.matmul(x,weight)+bias\n",
        "  return output,x"
      ],
      "execution_count": null,
      "outputs": []
    },
    {
      "cell_type": "code",
      "metadata": {
        "id": "PH2TAV3VyyPs"
      },
      "source": [
        "#소프트맥스 교차 엔트로피 연산 수식 필요\n",
        "def forward_postproc(output,y):\n",
        "  entropy=softmax_cross_entropy_with_logits(y,output)\n",
        "  #여기서 신경망 연산에 대한 확률 분포가 필요\n",
        "  loss=np.mean(entropy)\n",
        "  return loss,[y,output,entropy]"
      ],
      "execution_count": null,
      "outputs": []
    },
    {
      "cell_type": "code",
      "metadata": {
        "id": "9KLXEH2YzAlZ"
      },
      "source": [
        "#오버플로우 발생하지 않기 위해 transpose 사용\n",
        "def softmax(x):\n",
        "  max_elem=np.max(x,axis=1)#열기준으로 추출\n",
        "  diff=(x.transpose()-max_elem).transpose()#행렬 전환하여 수행 후 원상 복귀\n",
        "  exp=np.exp(diff)\n",
        "  sum_exp=np.sum(exp,axis=1)\n",
        "  probs=(exp.transpose()/sum_exp).transpose()#분자와 분모의 나눗셈을 위해 행렬전환 후 연산. 그리고 다시 원상복귀를 위해 행렬전환\n",
        "  return probs"
      ],
      "execution_count": null,
      "outputs": []
    },
    {
      "cell_type": "code",
      "metadata": {
        "id": "HmCmXG8M0iT4"
      },
      "source": [
        "def softmax_cross_entropy_with_logits(labels,logits):\n",
        "  #소프트맥스 교차 엔트로피 개선식의 신경망 예측에 대한 확률분포 𝑞 위치에 𝑙𝑜𝑔 연산의 폭주를 막기위\n",
        "#한 아주 작은 양수값(𝜀)과 함께 더해주며 위치\n",
        "  probs=softmax(logits)\n",
        "  return -np.sum(labels*np.log(probs+1.0e-10),axis=1)"
      ],
      "execution_count": null,
      "outputs": []
    },
    {
      "cell_type": "code",
      "metadata": {
        "id": "u4Tc7LPP0vJ2"
      },
      "source": [
        "def backprop_postproc(g_loss,aux_pp):\n",
        "  y,output,entropy=aux_pp\n",
        "  g_loss=1.0\n",
        "  g_loss_entropy=1.0/np.prod(entropy.shape)\n",
        "  g_entropy_output = softmax_cross_entropy_with_logits_derv(y,output)\n",
        "  g_entropy=g_loss_entropy*g_loss\n",
        "  g_output=g_entropy_output*g_entropy\n",
        "  return g_output"
      ],
      "execution_count": null,
      "outputs": []
    },
    {
      "cell_type": "code",
      "metadata": {
        "id": "8vdB4T0K5eNW"
      },
      "source": [
        "def softmax_cross_entropy_with_logits_derv(labels,logits):\n",
        "  return softmax(logits)-labels"
      ],
      "execution_count": null,
      "outputs": []
    },
    {
      "cell_type": "code",
      "metadata": {
        "id": "sxwj2f4U5jTA"
      },
      "source": [
        "def backprop_neuralnet(g_output,x):\n",
        "  global weight,bias\n",
        "  g_output_w=x.transpose()\n",
        "  g_w=np.matmul(g_output_w,g_output)\n",
        "  g_b=np.sum(g_output,axis=0)\n",
        "  weight-=learning_rate*g_w\n",
        "  bias-=learning_rate*g_b"
      ],
      "execution_count": null,
      "outputs": []
    },
    {
      "cell_type": "code",
      "metadata": {
        "id": "OjPX-gJz6bIp"
      },
      "source": [
        "def run_test(test_x,test_y):\n",
        "  output,_=forward_neuralnet(test_x)\n",
        "  accuracy=eval_accuracy(output,test_y)\n",
        "  return accuracy"
      ],
      "execution_count": null,
      "outputs": []
    },
    {
      "cell_type": "code",
      "metadata": {
        "id": "VuYW3lTDnNiQ"
      },
      "source": [
        "def eval_accuracy(output,y):\n",
        "  estimate = np.argmax(output, axis=1)\n",
        "  answer = np.argmax(y, axis=1)\n",
        "  correct = np.equal(estimate, answer) \n",
        "  return np.mean(correct)"
      ],
      "execution_count": null,
      "outputs": []
    },
    {
      "cell_type": "code",
      "metadata": {
        "id": "YgzSK95DXIz0"
      },
      "source": [
        ""
      ],
      "execution_count": null,
      "outputs": []
    },
    {
      "cell_type": "code",
      "metadata": {
        "id": "P3UQR28f6mEv",
        "colab": {
          "base_uri": "https://localhost:8080/"
        },
        "outputId": "7a480935-9ef3-44da-c00b-b9ca7b149e08"
      },
      "source": [
        "multi_class_exec(epoch_count=1000,mb_size = 100, report=100, train_rate=0.7)"
      ],
      "execution_count": null,
      "outputs": [
        {
          "output_type": "stream",
          "text": [
            "[[ 3.08973041e-03  2.51634909e-03 -3.28032758e-04 -2.66101920e-03\n",
            "  -1.77570899e-03  2.95241149e-04  2.54071640e-03]\n",
            " [-4.23653950e-03 -4.78325574e-03  2.87569922e-03  2.20541285e-04\n",
            "   8.82326713e-05 -2.14788553e-03  1.44523566e-04]\n",
            " [ 8.81042109e-04  3.74105978e-03 -1.47450325e-03  3.90400805e-04\n",
            "  -5.43819761e-03  2.32888979e-04 -1.84819947e-03]\n",
            " [ 1.18390553e-03  2.93093534e-03  1.28245785e-03  2.05700692e-03\n",
            "   2.71533619e-03  1.80297815e-03 -4.69820744e-03]\n",
            " [-1.01631371e-03 -8.11400146e-04 -2.61462313e-03 -5.32698561e-03\n",
            "  -2.96594589e-03 -1.67706806e-03  2.24077137e-03]\n",
            " [-1.45120716e-03  1.12176430e-04  1.43491468e-04 -4.58285022e-03\n",
            "   4.21244748e-03 -2.71984391e-04  2.13829856e-03]\n",
            " [ 3.10456306e-03  2.66816943e-03  6.77982720e-04  4.63651777e-04\n",
            "   2.38280787e-03 -2.27282118e-03  2.44684733e-03]\n",
            " [ 2.22112257e-04 -4.02711575e-03 -1.81053719e-03 -6.17590440e-03\n",
            "  -1.90413264e-03 -4.04689306e-03 -3.45918028e-03]\n",
            " [ 3.08317568e-03  2.42006334e-03  5.40368040e-03  3.58373212e-03\n",
            "  -1.16097418e-03  2.95324377e-03 -5.99536402e-03]\n",
            " [ 1.77516112e-03  1.54791147e-03 -6.27217504e-03  9.82536217e-04\n",
            "   5.23426847e-03  3.03474084e-03  8.17136668e-04]\n",
            " [ 2.64502312e-04  4.39745479e-03  1.32806006e-03  1.28302440e-03\n",
            "  -9.50302780e-04  6.50033969e-03 -5.65207898e-03]\n",
            " [ 1.49864595e-03 -3.11896175e-03  4.47109502e-03  9.98072943e-05\n",
            "  -3.12881117e-03 -2.72096199e-03 -4.38417383e-03]\n",
            " [ 1.05697537e-03 -1.22239751e-03 -1.10055409e-03 -3.31458998e-04\n",
            "  -9.14235378e-04 -3.27605263e-03  7.91658991e-04]\n",
            " [-3.28203326e-03  6.05245546e-03 -1.94912252e-03  2.51387735e-04\n",
            "  -8.02814488e-04 -2.77275938e-03 -2.69343198e-03]\n",
            " [-1.18915225e-03 -4.52617401e-03  2.75933744e-03  1.77956527e-03\n",
            "   2.22435561e-03  4.92296341e-03  3.29787766e-03]\n",
            " [-6.28209873e-04 -5.48225680e-04 -2.35728692e-03  7.62169022e-04\n",
            "   1.18292713e-03 -3.67923533e-04 -2.29618704e-03]\n",
            " [-4.16852954e-03 -4.79865403e-03  5.31821077e-03  2.40109621e-03\n",
            "  -2.77261079e-03 -8.99490052e-04  3.38724816e-03]\n",
            " [ 4.35552812e-04  5.16218737e-03  3.01584041e-04  2.95999643e-03\n",
            "  -1.18058342e-03 -5.63796241e-04 -3.17064404e-03]\n",
            " [ 1.71471716e-03  1.87221936e-03 -2.51815405e-03 -9.04494246e-04\n",
            "   2.70406657e-03 -2.57917066e-03  4.76924126e-03]\n",
            " [-4.98461477e-05  1.35987336e-03 -3.70370750e-03 -2.36820416e-03\n",
            "   3.95376132e-03  3.70207745e-03 -1.99328793e-05]\n",
            " [-1.78975977e-03  3.78967994e-03  1.46567500e-03 -1.54002773e-03\n",
            "  -4.86484962e-03  2.94343008e-04 -2.44992189e-04]\n",
            " [-1.91666538e-03 -2.70721296e-03  3.59346056e-03 -1.78202607e-03\n",
            "   1.27321490e-03  4.66084726e-03 -5.38683082e-03]\n",
            " [ 4.93382614e-04 -3.70447354e-03  2.76516265e-03 -5.92416663e-04\n",
            "   1.28145772e-03  1.20305712e-03 -1.43919973e-03]\n",
            " [-7.51998826e-04 -5.44665328e-03 -1.70508819e-03  3.26556273e-03\n",
            "  -9.73014242e-04  2.64198774e-03 -2.02598026e-03]\n",
            " [-2.25695103e-03  1.14341296e-03 -7.98230814e-04 -1.38112264e-05\n",
            "   1.07575801e-03 -2.83807266e-03  8.46077969e-04]\n",
            " [ 3.97151197e-04 -2.11449089e-03 -5.10241619e-03 -5.40082383e-04\n",
            "   1.77367314e-03 -2.89993050e-03  2.49108149e-03]\n",
            " [ 1.14919539e-03 -5.20372257e-04  3.60803873e-03 -1.24170924e-04\n",
            "  -4.24387546e-03  3.35794158e-03 -1.72900186e-03]]\n",
            "[0. 0. 0. 0. 0. 0. 0.]\n",
            "Epoch 100 : train-loss = 15.746,accuracy=0.316/Test = 0.349\n",
            "Epoch 200 : train-loss = 15.480,accuracy=0.328/Test = 0.162\n",
            "Epoch 300 : train-loss = 15.463,accuracy=0.328/Test = 0.220\n",
            "Epoch 400 : train-loss = 16.083,accuracy=0.302/Test = 0.218\n",
            "Epoch 500 : train-loss = 15.339,accuracy=0.334/Test = 0.339\n",
            "Epoch 600 : train-loss = 15.480,accuracy=0.328/Test = 0.240\n",
            "Epoch 700 : train-loss = 15.374,accuracy=0.332/Test = 0.374\n",
            "Epoch 800 : train-loss = 15.109,accuracy=0.344/Test = 0.434\n",
            "Epoch 900 : train-loss = 15.374,accuracy=0.332/Test = 0.209\n",
            "Epoch 1000 : train-loss = 15.109,accuracy=0.344/Test = 0.388\n",
            "\n",
            " 최종 테스트 결과 : final accuracy = 0.388\n"
          ],
          "name": "stdout"
        }
      ]
    },
    {
      "cell_type": "code",
      "metadata": {
        "id": "wFpQNUSc6oI6",
        "colab": {
          "base_uri": "https://localhost:8080/"
        },
        "outputId": "491c32e7-0f3b-4c07-a2d4-42330b81c7f9"
      },
      "source": [
        "learning_rate = 0.0001\n",
        "multi_class_exec(epoch_count=1000,mb_size = 100, report=100, train_rate=0.7)"
      ],
      "execution_count": null,
      "outputs": [
        {
          "output_type": "stream",
          "text": [
            "[[-2.62371302e-04  1.31659824e-03  5.94801933e-03  3.35475154e-03\n",
            "  -3.30815562e-03  1.44012790e-03 -2.90217059e-03]\n",
            " [ 2.68147150e-03 -1.27163818e-03 -9.67848841e-04  2.27025214e-04\n",
            "   2.74465093e-03 -2.93122933e-03 -1.45225502e-03]\n",
            " [-2.66927167e-03  1.71194937e-03  6.20534653e-04  2.16206828e-03\n",
            "  -7.43288627e-04 -3.71464007e-03 -1.73295035e-03]\n",
            " [-1.48126062e-04  1.64900543e-03  1.97789763e-03 -1.00329836e-03\n",
            "  -1.17504405e-03  2.77357485e-03  5.32141951e-04]\n",
            " [ 4.86368057e-05 -3.79626062e-03 -4.82488459e-03 -4.33569180e-03\n",
            "  -3.66609283e-03  3.54099688e-03 -3.52794187e-03]\n",
            " [-1.54756446e-03  5.46558827e-03  2.86957601e-03 -2.95812536e-03\n",
            "  -1.21932688e-03  1.64887274e-05 -4.83457663e-03]\n",
            " [ 5.30294975e-04  8.68804735e-04 -2.23142578e-03  1.06281843e-03\n",
            "   1.33716439e-03 -1.32590453e-03  2.97843537e-03]\n",
            " [ 8.65351197e-04  1.04355785e-03  1.85717949e-03  1.00565422e-03\n",
            "   6.56661628e-03  4.10350105e-03  4.86816020e-04]\n",
            " [-2.50665696e-03  1.52233111e-03 -5.15402953e-03  2.20766578e-03\n",
            "   1.92887148e-03 -1.82522079e-03 -1.22399651e-03]\n",
            " [-4.26517655e-03  2.02927342e-03  4.04285699e-04 -2.68246029e-03\n",
            "   7.63569857e-05  2.64423498e-03 -2.13064232e-03]\n",
            " [ 2.62679118e-03  2.85434570e-03  1.51589560e-04 -2.78150831e-03\n",
            "  -8.07102647e-03 -9.22900586e-04 -1.27536512e-03]\n",
            " [ 5.00008296e-04 -1.43576287e-03  4.18273745e-04 -3.64173914e-03\n",
            "  -1.89785853e-03 -1.54962114e-03 -5.51398388e-04]\n",
            " [-2.76510726e-03 -4.91212158e-03  2.94242441e-03 -5.14617708e-03\n",
            "  -1.13869768e-03 -1.31536558e-03  5.81411563e-04]\n",
            " [-5.01457000e-04  1.18114854e-03  2.39284210e-03  3.94934480e-03\n",
            "  -1.32188017e-03  2.82816274e-03 -1.83134658e-03]\n",
            " [ 3.48430954e-03  2.56820139e-04  4.17405461e-03 -8.14445782e-04\n",
            "   1.31624404e-03 -2.91267264e-03 -7.75078159e-04]\n",
            " [ 6.36992339e-04  3.32981834e-03 -4.82706608e-03 -8.07205273e-04\n",
            "  -1.89827541e-03 -1.75111293e-04 -2.97513508e-03]\n",
            " [ 1.35430961e-03  4.30411289e-03 -2.56942154e-03 -1.26546948e-03\n",
            "  -1.02148820e-03 -4.43744914e-03  7.32537744e-05]\n",
            " [ 2.78609851e-03  3.04997403e-03  1.86929548e-03 -2.71600270e-03\n",
            "  -2.61218231e-03  1.47912943e-03  4.75597458e-03]\n",
            " [ 1.05693019e-03  5.07912594e-04 -4.78736494e-03  6.47858780e-04\n",
            "  -1.82941547e-03 -3.72735477e-03  8.34217928e-04]\n",
            " [-4.74107026e-03  1.18194775e-03  3.82675210e-03  2.55112292e-03\n",
            "  -6.77261675e-04  1.16006678e-03 -1.72224045e-03]\n",
            " [-2.27076490e-03  8.92280862e-04  8.74274190e-04 -1.14061539e-03\n",
            "  -2.24592478e-03 -4.09978528e-03 -2.09997821e-03]\n",
            " [ 2.76912809e-03 -1.42346146e-03  1.91251048e-03 -1.16351040e-03\n",
            "  -3.14093666e-03  2.86868644e-03 -1.41492283e-03]\n",
            " [ 5.82652818e-03  2.08627738e-03  7.89119737e-04 -1.98553856e-03\n",
            "   6.58211811e-04  1.89501581e-03  2.35467899e-03]\n",
            " [ 1.73720733e-03 -2.94404223e-03  2.38175805e-03  3.47015319e-03\n",
            "  -2.60703776e-03  3.62142441e-04 -3.66082491e-04]\n",
            " [-3.44201386e-03  2.61158876e-03  2.48240848e-03  6.08410793e-04\n",
            "  -3.01392619e-03 -1.16904611e-03 -2.13698509e-03]\n",
            " [ 1.50822381e-03 -4.71763449e-04  5.90648650e-04  1.81797449e-03\n",
            "   6.43640458e-03  6.83396795e-03  2.12908554e-03]\n",
            " [-1.34437599e-03  8.70668345e-04  9.06552381e-04 -3.78587277e-03\n",
            "   1.86008038e-04 -2.16921235e-04 -1.98796735e-03]]\n",
            "[0. 0. 0. 0. 0. 0. 0.]\n",
            "Epoch 100 : train-loss = 14.790,accuracy=0.358/Test = 0.184\n",
            "Epoch 200 : train-loss = 15.303,accuracy=0.335/Test = 0.335\n",
            "Epoch 300 : train-loss = 15.728,accuracy=0.317/Test = 0.217\n",
            "Epoch 400 : train-loss = 14.648,accuracy=0.364/Test = 0.334\n",
            "Epoch 500 : train-loss = 15.268,accuracy=0.337/Test = 0.257\n",
            "Epoch 600 : train-loss = 15.835,accuracy=0.312/Test = 0.204\n",
            "Epoch 700 : train-loss = 14.754,accuracy=0.359/Test = 0.345\n",
            "Epoch 800 : train-loss = 15.852,accuracy=0.312/Test = 0.145\n",
            "Epoch 900 : train-loss = 15.232,accuracy=0.338/Test = 0.445\n",
            "Epoch 1000 : train-loss = 14.666,accuracy=0.363/Test = 0.176\n",
            "\n",
            " 최종 테스트 결과 : final accuracy = 0.176\n"
          ],
          "name": "stdout"
        }
      ]
    }
  ]
}