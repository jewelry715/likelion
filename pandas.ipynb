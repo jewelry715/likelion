{
  "nbformat": 4,
  "nbformat_minor": 0,
  "metadata": {
    "colab": {
      "name": "pandas.ipynb",
      "provenance": [],
      "collapsed_sections": [],
      "mount_file_id": "1DuF7cSFGJNBDMre0v9c-i-6M4s_O0zOf",
      "authorship_tag": "ABX9TyMw2yGJv2juxGkwWOBsIRka",
      "include_colab_link": true
    },
    "kernelspec": {
      "name": "python3",
      "display_name": "Python 3"
    },
    "accelerator": "GPU"
  },
  "cells": [
    {
      "cell_type": "markdown",
      "metadata": {
        "id": "view-in-github",
        "colab_type": "text"
      },
      "source": [
        "<a href=\"https://colab.research.google.com/github/jewelry715/likelion/blob/main/pandas.ipynb\" target=\"_parent\"><img src=\"https://colab.research.google.com/assets/colab-badge.svg\" alt=\"Open In Colab\"/></a>"
      ]
    },
    {
      "cell_type": "markdown",
      "metadata": {
        "id": "aJrc8BKjyeRX"
      },
      "source": [
        ""
      ]
    },
    {
      "cell_type": "code",
      "metadata": {
        "id": "kMz0i-FMu3Sq",
        "colab": {
          "base_uri": "https://localhost:8080/",
          "height": 35
        },
        "outputId": "62de4778-2b4b-4b7b-c62a-b2b3f2b72dbe"
      },
      "source": [
        "import os\n",
        "os.getcwd()"
      ],
      "execution_count": null,
      "outputs": [
        {
          "output_type": "execute_result",
          "data": {
            "application/vnd.google.colaboratory.intrinsic+json": {
              "type": "string"
            },
            "text/plain": [
              "'/content'"
            ]
          },
          "metadata": {
            "tags": []
          },
          "execution_count": 1
        }
      ]
    },
    {
      "cell_type": "code",
      "metadata": {
        "id": "NJIHEkuZu0AV",
        "colab": {
          "base_uri": "https://localhost:8080/"
        },
        "outputId": "7e3160b2-c2a0-4035-cf0a-fc30c4b1edb6"
      },
      "source": [
        "from google.colab import drive\n",
        "drive.mount('/content/drive')"
      ],
      "execution_count": null,
      "outputs": [
        {
          "output_type": "stream",
          "text": [
            "Drive already mounted at /content/drive; to attempt to forcibly remount, call drive.mount(\"/content/drive\", force_remount=True).\n"
          ],
          "name": "stdout"
        }
      ]
    },
    {
      "cell_type": "code",
      "metadata": {
        "colab": {
          "base_uri": "https://localhost:8080/"
        },
        "id": "pTke2mVOelbe",
        "outputId": "f394199c-a932-4895-e2e8-f040c5264106"
      },
      "source": [
        " #drive.mount(\"/content/drive\", force_remount=True)"
      ],
      "execution_count": null,
      "outputs": [
        {
          "output_type": "stream",
          "text": [
            "Mounted at /content/drive\n"
          ],
          "name": "stdout"
        }
      ]
    },
    {
      "cell_type": "code",
      "metadata": {
        "id": "KBOGvZC2u4vD"
      },
      "source": [
        "import pandas as pd\n",
        "df = pd.read_csv('/content/drive/MyDrive/gapminder.tsv',sep='\\t')"
      ],
      "execution_count": null,
      "outputs": []
    },
    {
      "cell_type": "code",
      "metadata": {
        "colab": {
          "base_uri": "https://localhost:8080/"
        },
        "id": "r2HZGL_8yHRF",
        "outputId": "6ca66532-39fc-4393-c6ee-462db75accf9"
      },
      "source": [
        "print(type(df))\n",
        "print(df.shape)"
      ],
      "execution_count": null,
      "outputs": [
        {
          "output_type": "stream",
          "text": [
            "<class 'pandas.core.frame.DataFrame'>\n",
            "(1704, 6)\n"
          ],
          "name": "stdout"
        }
      ]
    },
    {
      "cell_type": "code",
      "metadata": {
        "colab": {
          "base_uri": "https://localhost:8080/"
        },
        "id": "8Bm8NssZzAXj",
        "outputId": "5514869d-3926-4339-dc80-0f85b1bca834"
      },
      "source": [
        "print(df.columns)"
      ],
      "execution_count": null,
      "outputs": [
        {
          "output_type": "stream",
          "text": [
            "Index(['country', 'continent', 'year', 'lifeExp', 'pop', 'gdpPercap'], dtype='object')\n"
          ],
          "name": "stdout"
        }
      ]
    },
    {
      "cell_type": "code",
      "metadata": {
        "id": "dkarxYiFzB46",
        "colab": {
          "base_uri": "https://localhost:8080/"
        },
        "outputId": "74cb5379-53fd-4308-fd74-25e3e91a137e"
      },
      "source": [
        "print(df.head())"
      ],
      "execution_count": null,
      "outputs": [
        {
          "output_type": "stream",
          "text": [
            "       country continent  year  lifeExp       pop   gdpPercap\n",
            "0  Afghanistan      Asia  1952   28.801   8425333  779.445314\n",
            "1  Afghanistan      Asia  1957   30.332   9240934  820.853030\n",
            "2  Afghanistan      Asia  1962   31.997  10267083  853.100710\n",
            "3  Afghanistan      Asia  1967   34.020  11537966  836.197138\n",
            "4  Afghanistan      Asia  1972   36.088  13079460  739.981106\n"
          ],
          "name": "stdout"
        }
      ]
    },
    {
      "cell_type": "code",
      "metadata": {
        "colab": {
          "base_uri": "https://localhost:8080/"
        },
        "id": "hq9Mz3oVjGDv",
        "outputId": "32c6c310-c97a-4f98-c53d-6384dd33af30"
      },
      "source": [
        "print(df.dtypes)\n",
        "print(df.info())"
      ],
      "execution_count": null,
      "outputs": [
        {
          "output_type": "stream",
          "text": [
            "country       object\n",
            "continent     object\n",
            "year           int64\n",
            "lifeExp      float64\n",
            "pop            int64\n",
            "gdpPercap    float64\n",
            "dtype: object\n",
            "<class 'pandas.core.frame.DataFrame'>\n",
            "RangeIndex: 1704 entries, 0 to 1703\n",
            "Data columns (total 6 columns):\n",
            " #   Column     Non-Null Count  Dtype  \n",
            "---  ------     --------------  -----  \n",
            " 0   country    1704 non-null   object \n",
            " 1   continent  1704 non-null   object \n",
            " 2   year       1704 non-null   int64  \n",
            " 3   lifeExp    1704 non-null   float64\n",
            " 4   pop        1704 non-null   int64  \n",
            " 5   gdpPercap  1704 non-null   float64\n",
            "dtypes: float64(2), int64(2), object(2)\n",
            "memory usage: 80.0+ KB\n",
            "None\n"
          ],
          "name": "stdout"
        }
      ]
    },
    {
      "cell_type": "code",
      "metadata": {
        "colab": {
          "base_uri": "https://localhost:8080/"
        },
        "id": "L2EapH-djWig",
        "outputId": "d118a910-e0c3-48a4-d13a-5be91572774f"
      },
      "source": [
        "country_df=df['country']\n",
        "print(country_df.head())\n",
        "print(country_df.tail())"
      ],
      "execution_count": null,
      "outputs": [
        {
          "output_type": "stream",
          "text": [
            "0    Afghanistan\n",
            "1    Afghanistan\n",
            "2    Afghanistan\n",
            "3    Afghanistan\n",
            "4    Afghanistan\n",
            "Name: country, dtype: object\n",
            "1699    Zimbabwe\n",
            "1700    Zimbabwe\n",
            "1701    Zimbabwe\n",
            "1702    Zimbabwe\n",
            "1703    Zimbabwe\n",
            "Name: country, dtype: object\n"
          ],
          "name": "stdout"
        }
      ]
    },
    {
      "cell_type": "code",
      "metadata": {
        "colab": {
          "base_uri": "https://localhost:8080/"
        },
        "id": "EgWyWKfvj3cf",
        "outputId": "58cf861c-76f7-4aba-e175-7974b042a836"
      },
      "source": [
        "subset=df[['country','continent','year']]\n",
        "print(type(subset))\n",
        "print(())\n",
        "print(subset.head())\n",
        "print(subset.tail())"
      ],
      "execution_count": null,
      "outputs": [
        {
          "output_type": "stream",
          "text": [
            "<class 'pandas.core.frame.DataFrame'>\n",
            "()\n",
            "       country continent  year\n",
            "0  Afghanistan      Asia  1952\n",
            "1  Afghanistan      Asia  1957\n",
            "2  Afghanistan      Asia  1962\n",
            "3  Afghanistan      Asia  1967\n",
            "4  Afghanistan      Asia  1972\n",
            "       country continent  year\n",
            "1699  Zimbabwe    Africa  1987\n",
            "1700  Zimbabwe    Africa  1992\n",
            "1701  Zimbabwe    Africa  1997\n",
            "1702  Zimbabwe    Africa  2002\n",
            "1703  Zimbabwe    Africa  2007\n"
          ],
          "name": "stdout"
        }
      ]
    },
    {
      "cell_type": "code",
      "metadata": {
        "colab": {
          "base_uri": "https://localhost:8080/"
        },
        "id": "QHpRX60ikZ6y",
        "outputId": "ec545262-d5d7-4e73-d480-31343312980a"
      },
      "source": [
        "print(df.loc[0])\n",
        "print(df.loc[99])"
      ],
      "execution_count": null,
      "outputs": [
        {
          "output_type": "stream",
          "text": [
            "country      Afghanistan\n",
            "continent           Asia\n",
            "year                1952\n",
            "lifeExp           28.801\n",
            "pop              8425333\n",
            "gdpPercap        779.445\n",
            "Name: 0, dtype: object\n",
            "country      Bangladesh\n",
            "continent          Asia\n",
            "year               1967\n",
            "lifeExp          43.453\n",
            "pop            62821884\n",
            "gdpPercap       721.186\n",
            "Name: 99, dtype: object\n"
          ],
          "name": "stdout"
        }
      ]
    },
    {
      "cell_type": "code",
      "metadata": {
        "colab": {
          "base_uri": "https://localhost:8080/"
        },
        "id": "M8MLXhbjSNsN",
        "outputId": "898b1f89-4592-4659-881e-ea91e02a1309"
      },
      "source": [
        "number_of_rows=df.shape[0]\n",
        "last_row_index=number_of_rows-1\n",
        "print(df.loc[last_row_index])\n",
        "print(last_row_index)"
      ],
      "execution_count": null,
      "outputs": [
        {
          "output_type": "stream",
          "text": [
            "country      Zimbabwe\n",
            "continent      Africa\n",
            "year             2007\n",
            "lifeExp        43.487\n",
            "pop          12311143\n",
            "gdpPercap     469.709\n",
            "Name: 1703, dtype: object\n",
            "1703\n"
          ],
          "name": "stdout"
        }
      ]
    },
    {
      "cell_type": "code",
      "metadata": {
        "id": "uWacGHGelri9",
        "colab": {
          "base_uri": "https://localhost:8080/"
        },
        "outputId": "a4d36b3d-c751-4d84-c1ca-7a8e0f2ee520"
      },
      "source": [
        "print(df.tail(n=1))"
      ],
      "execution_count": null,
      "outputs": [
        {
          "output_type": "stream",
          "text": [
            "       country continent  year  lifeExp       pop   gdpPercap\n",
            "1703  Zimbabwe    Africa  2007   43.487  12311143  469.709298\n"
          ],
          "name": "stdout"
        }
      ]
    },
    {
      "cell_type": "code",
      "metadata": {
        "colab": {
          "base_uri": "https://localhost:8080/"
        },
        "id": "fyQrgIfWmg44",
        "outputId": "e05ad9da-3f49-4302-eae6-954bbdde562d"
      },
      "source": [
        "print(df.loc[[0,99,999]])\n",
        "print(df.loc[[0,10,100]])"
      ],
      "execution_count": null,
      "outputs": [
        {
          "output_type": "stream",
          "text": [
            "         country continent  year  lifeExp       pop    gdpPercap\n",
            "0    Afghanistan      Asia  1952   28.801   8425333   779.445314\n",
            "99    Bangladesh      Asia  1967   43.453  62821884   721.186086\n",
            "999     Mongolia      Asia  1967   51.253   1149500  1226.041130\n",
            "         country continent  year  lifeExp       pop   gdpPercap\n",
            "0    Afghanistan      Asia  1952   28.801   8425333  779.445314\n",
            "10   Afghanistan      Asia  2002   42.129  25268405  726.734055\n",
            "100   Bangladesh      Asia  1972   45.252  70759295  630.233627\n"
          ],
          "name": "stdout"
        }
      ]
    },
    {
      "cell_type": "code",
      "metadata": {
        "colab": {
          "base_uri": "https://localhost:8080/"
        },
        "id": "LleOcJIZmiB7",
        "outputId": "f839d046-48cd-4dc9-dcf2-983f133e9c8d"
      },
      "source": [
        "subset=df.loc[:,['year','pop']]\n",
        "print(subset.head())"
      ],
      "execution_count": null,
      "outputs": [
        {
          "output_type": "stream",
          "text": [
            "   year       pop\n",
            "0  1952   8425333\n",
            "1  1957   9240934\n",
            "2  1962  10267083\n",
            "3  1967  11537966\n",
            "4  1972  13079460\n"
          ],
          "name": "stdout"
        }
      ]
    },
    {
      "cell_type": "code",
      "metadata": {
        "id": "lfH-9kupnCL4",
        "colab": {
          "base_uri": "https://localhost:8080/"
        },
        "outputId": "d28d53ce-8160-4e3e-e804-0bd3712c0d4a"
      },
      "source": [
        "subset=df.iloc[:,[2,4,-1]]\n",
        "print(subset.head())"
      ],
      "execution_count": null,
      "outputs": [
        {
          "output_type": "stream",
          "text": [
            "   year       pop   gdpPercap\n",
            "0  1952   8425333  779.445314\n",
            "1  1957   9240934  820.853030\n",
            "2  1962  10267083  853.100710\n",
            "3  1967  11537966  836.197138\n",
            "4  1972  13079460  739.981106\n"
          ],
          "name": "stdout"
        }
      ]
    },
    {
      "cell_type": "code",
      "metadata": {
        "id": "oampTUdZnFwr",
        "colab": {
          "base_uri": "https://localhost:8080/"
        },
        "outputId": "8aca6f5d-bfe6-4e4b-83b9-9ee3c4a1ab5a"
      },
      "source": [
        "for i in range(3,6):\n",
        "  print(i)"
      ],
      "execution_count": null,
      "outputs": [
        {
          "output_type": "stream",
          "text": [
            "3\n",
            "4\n",
            "5\n"
          ],
          "name": "stdout"
        }
      ]
    },
    {
      "cell_type": "code",
      "metadata": {
        "colab": {
          "base_uri": "https://localhost:8080/"
        },
        "id": "3Ixvr9kASzGt",
        "outputId": "3620b7d1-25d3-4fe2-8982-3412f8a6d94a"
      },
      "source": [
        "small_range=list(range(5))\n",
        "print(small_range)\n",
        "print(type(small_range))"
      ],
      "execution_count": null,
      "outputs": [
        {
          "output_type": "stream",
          "text": [
            "[0, 1, 2, 3, 4]\n",
            "<class 'list'>\n"
          ],
          "name": "stdout"
        }
      ]
    },
    {
      "cell_type": "code",
      "metadata": {
        "colab": {
          "base_uri": "https://localhost:8080/"
        },
        "id": "vjPJ6wVAS6ow",
        "outputId": "5d6d2f77-38d9-4648-a3c0-eecb9fb9e7ad"
      },
      "source": [
        "subset=df.iloc[:,small_range]\n",
        "print(subset.head())"
      ],
      "execution_count": null,
      "outputs": [
        {
          "output_type": "stream",
          "text": [
            "       country continent  year  lifeExp       pop\n",
            "0  Afghanistan      Asia  1952   28.801   8425333\n",
            "1  Afghanistan      Asia  1957   30.332   9240934\n",
            "2  Afghanistan      Asia  1962   31.997  10267083\n",
            "3  Afghanistan      Asia  1967   34.020  11537966\n",
            "4  Afghanistan      Asia  1972   36.088  13079460\n"
          ],
          "name": "stdout"
        }
      ]
    },
    {
      "cell_type": "code",
      "metadata": {
        "colab": {
          "base_uri": "https://localhost:8080/"
        },
        "id": "CmHCVUAyS-sX",
        "outputId": "5b07b70c-2638-4e6a-9964-453b91a0d0c9"
      },
      "source": [
        "small_range=list(range(3,6))\n",
        "print(small_range)"
      ],
      "execution_count": null,
      "outputs": [
        {
          "output_type": "stream",
          "text": [
            "[3, 4, 5]\n"
          ],
          "name": "stdout"
        }
      ]
    },
    {
      "cell_type": "code",
      "metadata": {
        "colab": {
          "base_uri": "https://localhost:8080/"
        },
        "id": "milH7qpkoS34",
        "outputId": "5fd7b4a2-16a2-4364-9801-d928d6cd9297"
      },
      "source": [
        "subset=df.iloc[:,:3]\n",
        "print(subset.head())"
      ],
      "execution_count": null,
      "outputs": [
        {
          "output_type": "stream",
          "text": [
            "       country continent  year\n",
            "0  Afghanistan      Asia  1952\n",
            "1  Afghanistan      Asia  1957\n",
            "2  Afghanistan      Asia  1962\n",
            "3  Afghanistan      Asia  1967\n",
            "4  Afghanistan      Asia  1972\n"
          ],
          "name": "stdout"
        }
      ]
    },
    {
      "cell_type": "code",
      "metadata": {
        "colab": {
          "base_uri": "https://localhost:8080/"
        },
        "id": "mkxoTh72TC0N",
        "outputId": "f4cc5271-625c-415a-8398-e19a65b31835"
      },
      "source": [
        "subset=df.iloc[:,small_range]\n",
        "print(subset.head())"
      ],
      "execution_count": null,
      "outputs": [
        {
          "output_type": "stream",
          "text": [
            "   lifeExp       pop   gdpPercap\n",
            "0   28.801   8425333  779.445314\n",
            "1   30.332   9240934  820.853030\n",
            "2   31.997  10267083  853.100710\n",
            "3   34.020  11537966  836.197138\n",
            "4   36.088  13079460  739.981106\n"
          ],
          "name": "stdout"
        }
      ]
    },
    {
      "cell_type": "code",
      "metadata": {
        "colab": {
          "base_uri": "https://localhost:8080/"
        },
        "id": "H6v8LKQtobSW",
        "outputId": "d7de08f3-ff1c-463f-9934-4cdce7b3780c"
      },
      "source": [
        "subset=df.iloc[:,0:6:2]\n",
        "print(subset.head())"
      ],
      "execution_count": null,
      "outputs": [
        {
          "output_type": "stream",
          "text": [
            "       country  year       pop\n",
            "0  Afghanistan  1952   8425333\n",
            "1  Afghanistan  1957   9240934\n",
            "2  Afghanistan  1962  10267083\n",
            "3  Afghanistan  1967  11537966\n",
            "4  Afghanistan  1972  13079460\n"
          ],
          "name": "stdout"
        }
      ]
    },
    {
      "cell_type": "code",
      "metadata": {
        "colab": {
          "base_uri": "https://localhost:8080/"
        },
        "id": "YDeDuaxaoxJ-",
        "outputId": "ce2b14a6-7346-428f-b6d1-9ff5203b357e"
      },
      "source": [
        "subset=df.iloc[[0,99,999],[0,3,5]]\n",
        "print(subset.head())"
      ],
      "execution_count": null,
      "outputs": [
        {
          "output_type": "stream",
          "text": [
            "         country  lifeExp    gdpPercap\n",
            "0    Afghanistan   28.801   779.445314\n",
            "99    Bangladesh   43.453   721.186086\n",
            "999     Mongolia   51.253  1226.041130\n"
          ],
          "name": "stdout"
        }
      ]
    },
    {
      "cell_type": "code",
      "metadata": {
        "colab": {
          "base_uri": "https://localhost:8080/"
        },
        "id": "M2qHmOAYopUn",
        "outputId": "0cc5af7b-8e7e-4ec5-c7b4-72cca4877f75"
      },
      "source": [
        "print(df.loc[[0,99,999],['year','pop','lifeExp']])"
      ],
      "execution_count": null,
      "outputs": [
        {
          "output_type": "stream",
          "text": [
            "     year       pop  lifeExp\n",
            "0    1952   8425333   28.801\n",
            "99   1967  62821884   43.453\n",
            "999  1967   1149500   51.253\n"
          ],
          "name": "stdout"
        }
      ]
    },
    {
      "cell_type": "code",
      "metadata": {
        "colab": {
          "base_uri": "https://localhost:8080/"
        },
        "id": "tGn3MoJITPkL",
        "outputId": "0e6abaad-57f7-43ef-d43a-9ced3688104f"
      },
      "source": [
        "print(df.loc[[0,99,999],['country','lifeExp','gdpPercap']])"
      ],
      "execution_count": null,
      "outputs": [
        {
          "output_type": "stream",
          "text": [
            "         country  lifeExp    gdpPercap\n",
            "0    Afghanistan   28.801   779.445314\n",
            "99    Bangladesh   43.453   721.186086\n",
            "999     Mongolia   51.253  1226.041130\n"
          ],
          "name": "stdout"
        }
      ]
    },
    {
      "cell_type": "code",
      "metadata": {
        "colab": {
          "base_uri": "https://localhost:8080/"
        },
        "id": "7BGYpKwXpdAN",
        "outputId": "1bf44f75-07fe-4ee7-9c19-bf5473991b43"
      },
      "source": [
        "print(df.loc[10:13,['year','pop','lifeExp']])"
      ],
      "execution_count": null,
      "outputs": [
        {
          "output_type": "stream",
          "text": [
            "    year       pop  lifeExp\n",
            "10  2002  25268405   42.129\n",
            "11  2007  31889923   43.828\n",
            "12  1952   1282697   55.230\n",
            "13  1957   1476505   59.280\n"
          ],
          "name": "stdout"
        }
      ]
    },
    {
      "cell_type": "code",
      "metadata": {
        "colab": {
          "base_uri": "https://localhost:8080/"
        },
        "id": "HR6KdY-yprMM",
        "outputId": "40433b9c-9c7f-4670-9337-a276aef4df20"
      },
      "source": [
        "print(df.groupby('year')['lifeExp'].mean())"
      ],
      "execution_count": null,
      "outputs": [
        {
          "output_type": "stream",
          "text": [
            "year\n",
            "1952    49.057620\n",
            "1957    51.507401\n",
            "1962    53.609249\n",
            "1967    55.678290\n",
            "1972    57.647386\n",
            "1977    59.570157\n",
            "1982    61.533197\n",
            "1987    63.212613\n",
            "1992    64.160338\n",
            "1997    65.014676\n",
            "2002    65.694923\n",
            "2007    67.007423\n",
            "Name: lifeExp, dtype: float64\n"
          ],
          "name": "stdout"
        }
      ]
    },
    {
      "cell_type": "code",
      "metadata": {
        "colab": {
          "base_uri": "https://localhost:8080/"
        },
        "id": "D8yrDIWyqaJG",
        "outputId": "0e989782-5676-4a57-cff8-8acecc448569"
      },
      "source": [
        "groupby_year_df=df.groupby('year')\n",
        "print(groupby_year_df)"
      ],
      "execution_count": null,
      "outputs": [
        {
          "output_type": "stream",
          "text": [
            "<pandas.core.groupby.generic.DataFrameGroupBy object at 0x7f98aa6ea290>\n"
          ],
          "name": "stdout"
        }
      ]
    },
    {
      "cell_type": "code",
      "metadata": {
        "colab": {
          "base_uri": "https://localhost:8080/"
        },
        "id": "8sec1IKJwRbf",
        "outputId": "2cff30dc-d8c2-4074-d564-bf7bf31ca562"
      },
      "source": [
        "df.columns"
      ],
      "execution_count": null,
      "outputs": [
        {
          "output_type": "execute_result",
          "data": {
            "text/plain": [
              "Index(['country', 'continent', 'year', 'lifeExp', 'pop', 'gdpPercap'], dtype='object')"
            ]
          },
          "metadata": {
            "tags": []
          },
          "execution_count": 4
        }
      ]
    },
    {
      "cell_type": "code",
      "metadata": {
        "colab": {
          "base_uri": "https://localhost:8080/"
        },
        "id": "-IUxXK3ZwcOf",
        "outputId": "10c29d4e-9727-49c6-b7df-3230ee531467"
      },
      "source": [
        "country_df=df.groupby('country')\n",
        "print(country_df)"
      ],
      "execution_count": null,
      "outputs": [
        {
          "output_type": "stream",
          "text": [
            "<pandas.core.groupby.generic.DataFrameGroupBy object at 0x7f98a7fb72d0>\n"
          ],
          "name": "stdout"
        }
      ]
    },
    {
      "cell_type": "code",
      "metadata": {
        "colab": {
          "base_uri": "https://localhost:8080/"
        },
        "id": "uU8vNiB1rfrL",
        "outputId": "e4a1ae67-a56c-4ee1-ab3b-5ccca1feb12c"
      },
      "source": [
        "groupby_year_df_lifeExp=groupby_year_df['lifeExp']\n",
        "print(type(groupby_year_df_lifeExp))"
      ],
      "execution_count": null,
      "outputs": [
        {
          "output_type": "stream",
          "text": [
            "<class 'pandas.core.groupby.generic.SeriesGroupBy'>\n"
          ],
          "name": "stdout"
        }
      ]
    },
    {
      "cell_type": "code",
      "metadata": {
        "colab": {
          "base_uri": "https://localhost:8080/"
        },
        "id": "vdQkQf-Pruec",
        "outputId": "5bb29119-1812-419d-f12a-ec59863e85dc"
      },
      "source": [
        "mean_lifeExp_by_year=groupby_year_df_lifeExp.mean()\n",
        "print(mean_lifeExp_by_year)"
      ],
      "execution_count": null,
      "outputs": [
        {
          "output_type": "stream",
          "text": [
            "year\n",
            "1952    49.057620\n",
            "1957    51.507401\n",
            "1962    53.609249\n",
            "1967    55.678290\n",
            "1972    57.647386\n",
            "1977    59.570157\n",
            "1982    61.533197\n",
            "1987    63.212613\n",
            "1992    64.160338\n",
            "1997    65.014676\n",
            "2002    65.694923\n",
            "2007    67.007423\n",
            "Name: lifeExp, dtype: float64\n"
          ],
          "name": "stdout"
        }
      ]
    },
    {
      "cell_type": "code",
      "metadata": {
        "colab": {
          "base_uri": "https://localhost:8080/"
        },
        "id": "oScg9b5hwsj9",
        "outputId": "40e1490b-d7d3-4800-d2f3-1baeffbd6b9e"
      },
      "source": [
        "groupby_country_df_lifeExp=country_df['lifeExp']\n",
        "print(type(groupby_country_df_lifeExp))"
      ],
      "execution_count": null,
      "outputs": [
        {
          "output_type": "stream",
          "text": [
            "<class 'pandas.core.groupby.generic.SeriesGroupBy'>\n"
          ],
          "name": "stdout"
        }
      ]
    },
    {
      "cell_type": "code",
      "metadata": {
        "colab": {
          "base_uri": "https://localhost:8080/"
        },
        "id": "bZAmvrj_w25G",
        "outputId": "96173b8d-906d-4dcc-b387-0f01f1b8bed6"
      },
      "source": [
        "mean_lifeExp_by_country=groupby_country_df_lifeExp.mean()\n",
        "print(mean_lifeExp_by_country)"
      ],
      "execution_count": null,
      "outputs": [
        {
          "output_type": "stream",
          "text": [
            "country\n",
            "Afghanistan           37.478833\n",
            "Albania               68.432917\n",
            "Algeria               59.030167\n",
            "Angola                37.883500\n",
            "Argentina             69.060417\n",
            "                        ...    \n",
            "Vietnam               57.479500\n",
            "West Bank and Gaza    60.328667\n",
            "Yemen, Rep.           46.780417\n",
            "Zambia                45.996333\n",
            "Zimbabwe              52.663167\n",
            "Name: lifeExp, Length: 142, dtype: float64\n"
          ],
          "name": "stdout"
        }
      ]
    },
    {
      "cell_type": "code",
      "metadata": {
        "colab": {
          "base_uri": "https://localhost:8080/"
        },
        "id": "0U0Y4A65r3Vw",
        "outputId": "f36e125d-28a8-495d-8b65-06654db3be4e"
      },
      "source": [
        "multi_group_var=df.groupby(['year','continent'])[['lifeExp','gdpPercap']].mean()\n",
        "print(multi_group_var)"
      ],
      "execution_count": null,
      "outputs": [
        {
          "output_type": "stream",
          "text": [
            "                  lifeExp     gdpPercap\n",
            "year continent                         \n",
            "1952 Africa     39.135500   1252.572466\n",
            "     Americas   53.279840   4079.062552\n",
            "     Asia       46.314394   5195.484004\n",
            "     Europe     64.408500   5661.057435\n",
            "     Oceania    69.255000  10298.085650\n",
            "1957 Africa     41.266346   1385.236062\n",
            "     Americas   55.960280   4616.043733\n",
            "     Asia       49.318544   5787.732940\n",
            "     Europe     66.703067   6963.012816\n",
            "     Oceania    70.295000  11598.522455\n",
            "1962 Africa     43.319442   1598.078825\n",
            "     Americas   58.398760   4901.541870\n",
            "     Asia       51.563223   5729.369625\n",
            "     Europe     68.539233   8365.486814\n",
            "     Oceania    71.085000  12696.452430\n",
            "1967 Africa     45.334538   2050.363801\n",
            "     Americas   60.410920   5668.253496\n",
            "     Asia       54.663640   5971.173374\n",
            "     Europe     69.737600  10143.823757\n",
            "     Oceania    71.310000  14495.021790\n",
            "1972 Africa     47.450942   2339.615674\n",
            "     Americas   62.394920   6491.334139\n",
            "     Asia       57.319269   8187.468699\n",
            "     Europe     70.775033  12479.575246\n",
            "     Oceania    71.910000  16417.333380\n",
            "1977 Africa     49.580423   2585.938508\n",
            "     Americas   64.391560   7352.007126\n",
            "     Asia       59.610556   7791.314020\n",
            "     Europe     71.937767  14283.979110\n",
            "     Oceania    72.855000  17283.957605\n",
            "1982 Africa     51.592865   2481.592960\n",
            "     Americas   66.228840   7506.737088\n",
            "     Asia       62.617939   7434.135157\n",
            "     Europe     72.806400  15617.896551\n",
            "     Oceania    74.290000  18554.709840\n",
            "1987 Africa     53.344788   2282.668991\n",
            "     Americas   68.090720   7793.400261\n",
            "     Asia       64.851182   7608.226508\n",
            "     Europe     73.642167  17214.310727\n",
            "     Oceania    75.320000  20448.040160\n",
            "1992 Africa     53.629577   2281.810333\n",
            "     Americas   69.568360   8044.934406\n",
            "     Asia       66.537212   8639.690248\n",
            "     Europe     74.440100  17061.568084\n",
            "     Oceania    76.945000  20894.045885\n",
            "1997 Africa     53.598269   2378.759555\n",
            "     Americas   71.150480   8889.300863\n",
            "     Asia       68.020515   9834.093295\n",
            "     Europe     75.505167  19076.781802\n",
            "     Oceania    78.190000  24024.175170\n",
            "2002 Africa     53.325231   2599.385159\n",
            "     Americas   72.422040   9287.677107\n",
            "     Asia       69.233879  10174.090397\n",
            "     Europe     76.700600  21711.732422\n",
            "     Oceania    79.740000  26938.778040\n",
            "2007 Africa     54.806038   3089.032605\n",
            "     Americas   73.608120  11003.031625\n",
            "     Asia       70.728485  12473.026870\n",
            "     Europe     77.648600  25054.481636\n",
            "     Oceania    80.719500  29810.188275\n"
          ],
          "name": "stdout"
        }
      ]
    },
    {
      "cell_type": "code",
      "metadata": {
        "colab": {
          "base_uri": "https://localhost:8080/"
        },
        "id": "8eraa1DVsEjf",
        "outputId": "c36a6f4c-3e16-4253-a7a9-89ba09c537f6"
      },
      "source": [
        "print(df.groupby('continent')['country'].nunique())"
      ],
      "execution_count": null,
      "outputs": [
        {
          "output_type": "stream",
          "text": [
            "continent\n",
            "Africa      52\n",
            "Americas    25\n",
            "Asia        33\n",
            "Europe      30\n",
            "Oceania      2\n",
            "Name: country, dtype: int64\n"
          ],
          "name": "stdout"
        }
      ]
    },
    {
      "cell_type": "code",
      "metadata": {
        "colab": {
          "base_uri": "https://localhost:8080/"
        },
        "id": "cK4NHrzosN8T",
        "outputId": "32f6a131-268b-468b-b300-123c4e97fb90"
      },
      "source": [
        "import matplotlib.pyplot as plt\n",
        "global_yearly_life_expectancy=df.groupby('year')['lifeExp'].mean()\n",
        "print(global_yearly_life_expectancy)"
      ],
      "execution_count": null,
      "outputs": [
        {
          "output_type": "stream",
          "text": [
            "year\n",
            "1952    49.057620\n",
            "1957    51.507401\n",
            "1962    53.609249\n",
            "1967    55.678290\n",
            "1972    57.647386\n",
            "1977    59.570157\n",
            "1982    61.533197\n",
            "1987    63.212613\n",
            "1992    64.160338\n",
            "1997    65.014676\n",
            "2002    65.694923\n",
            "2007    67.007423\n",
            "Name: lifeExp, dtype: float64\n"
          ],
          "name": "stdout"
        }
      ]
    },
    {
      "cell_type": "code",
      "metadata": {
        "colab": {
          "base_uri": "https://localhost:8080/",
          "height": 279
        },
        "id": "KMLR1uKuxoz4",
        "outputId": "ddb2bf57-eec3-4ee5-f025-cef2c180b3f9"
      },
      "source": [
        "global_yearly_life_expectancy.plot()\n",
        "plt.show()"
      ],
      "execution_count": null,
      "outputs": [
        {
          "output_type": "display_data",
          "data": {
            "image/png": "[encoded data removed]",
            "text/plain": [
              "<Figure size 432x288 with 1 Axes>"
            ]
          },
          "metadata": {
            "tags": [],
            "needs_background": "light"
          }
        }
      ]
    },
    {
      "cell_type": "code",
      "metadata": {
        "colab": {
          "base_uri": "https://localhost:8080/"
        },
        "id": "ftO7h-4OyHIm",
        "outputId": "276a8e66-7817-4cf1-e9d3-04c09f5341e4"
      },
      "source": [
        "s=pd.Series(['banana',42])\n",
        "print(s)"
      ],
      "execution_count": null,
      "outputs": [
        {
          "output_type": "stream",
          "text": [
            "0    banana\n",
            "1        42\n",
            "dtype: object\n"
          ],
          "name": "stdout"
        }
      ]
    },
    {
      "cell_type": "code",
      "metadata": {
        "id": "qt_bvKM4zTnd"
      },
      "source": [
        "s=pd.Series(['Wes Mckinney','creator of Pamdas'],index=['person','who'])"
      ],
      "execution_count": null,
      "outputs": []
    },
    {
      "cell_type": "code",
      "metadata": {
        "colab": {
          "base_uri": "https://localhost:8080/"
        },
        "id": "-KlJD5mczf3A",
        "outputId": "93f76db2-2e34-4033-86c3-6be1fb8b6541"
      },
      "source": [
        "print(s)"
      ],
      "execution_count": null,
      "outputs": [
        {
          "output_type": "stream",
          "text": [
            "person         Wes Mckinney\n",
            "who       creator of Pamdas\n",
            "dtype: object\n"
          ],
          "name": "stdout"
        }
      ]
    },
    {
      "cell_type": "code",
      "metadata": {
        "id": "X2yJROhQzhGu"
      },
      "source": [
        "scientists=pd.DataFrame(\n",
        "    data={'Occupation':['pioneer in Ai','pioneer in A.I'],\n",
        "          'born':['1947-12-06','1927-08-09'],\n",
        "          'Died':['_','2016-01-24'],\n",
        "          'Age':[73,88]},\n",
        "        index=['Geoffrey Everest Hinton', 'Marvin Lee Minsky'],\n",
        "        columns = ['Occupation', 'Born', 'Died', 'Age'])"
      ],
      "execution_count": null,
      "outputs": []
    },
    {
      "cell_type": "code",
      "metadata": {
        "colab": {
          "base_uri": "https://localhost:8080/",
          "height": 106
        },
        "id": "qR-R2xxt1Maw",
        "outputId": "f75ef6b2-9c96-4657-944b-acc0ccc46059"
      },
      "source": [
        "scientists"
      ],
      "execution_count": null,
      "outputs": [
        {
          "output_type": "execute_result",
          "data": {
            "text/html": [
              "<div>\n",
              "<style scoped>\n",
              "    .dataframe tbody tr th:only-of-type {\n",
              "        vertical-align: middle;\n",
              "    }\n",
              "\n",
              "    .dataframe tbody tr th {\n",
              "        vertical-align: top;\n",
              "    }\n",
              "\n",
              "    .dataframe thead th {\n",
              "        text-align: right;\n",
              "    }\n",
              "</style>\n",
              "<table border=\"1\" class=\"dataframe\">\n",
              "  <thead>\n",
              "    <tr style=\"text-align: right;\">\n",
              "      <th></th>\n",
              "      <th>Occupation</th>\n",
              "      <th>Born</th>\n",
              "      <th>Died</th>\n",
              "      <th>Age</th>\n",
              "    </tr>\n",
              "  </thead>\n",
              "  <tbody>\n",
              "    <tr>\n",
              "      <th>Geoffrey Everest Hinton</th>\n",
              "      <td>pioneer in Ai</td>\n",
              "      <td>NaN</td>\n",
              "      <td>_</td>\n",
              "      <td>73</td>\n",
              "    </tr>\n",
              "    <tr>\n",
              "      <th>Marvin Lee Minsky</th>\n",
              "      <td>pioneer in A.I</td>\n",
              "      <td>NaN</td>\n",
              "      <td>2016-01-24</td>\n",
              "      <td>88</td>\n",
              "    </tr>\n",
              "  </tbody>\n",
              "</table>\n",
              "</div>"
            ],
            "text/plain": [
              "                             Occupation Born        Died  Age\n",
              "Geoffrey Everest Hinton   pioneer in Ai  NaN           _   73\n",
              "Marvin Lee Minsky        pioneer in A.I  NaN  2016-01-24   88"
            ]
          },
          "metadata": {
            "tags": []
          },
          "execution_count": 19
        }
      ]
    },
    {
      "cell_type": "code",
      "metadata": {
        "colab": {
          "base_uri": "https://localhost:8080/"
        },
        "id": "TuUNQON41WDk",
        "outputId": "3c48f1af-0912-4618-fe1d-6d782838e4ac"
      },
      "source": [
        "first_row=scientists.loc['Geoffrey Everest Hinton']\n",
        "print(type(first_row))"
      ],
      "execution_count": null,
      "outputs": [
        {
          "output_type": "stream",
          "text": [
            "<class 'pandas.core.series.Series'>\n"
          ],
          "name": "stdout"
        }
      ]
    },
    {
      "cell_type": "code",
      "metadata": {
        "colab": {
          "base_uri": "https://localhost:8080/"
        },
        "id": "8zfn8Cjf1dIb",
        "outputId": "7e6c71cc-8588-4f62-98f3-e55023b4f247"
      },
      "source": [
        "print(first_row)"
      ],
      "execution_count": null,
      "outputs": [
        {
          "output_type": "stream",
          "text": [
            "Occupation    pioneer in Ai\n",
            "Born                    NaN\n",
            "Died                      _\n",
            "Age                      73\n",
            "Name: Geoffrey Everest Hinton, dtype: object\n"
          ],
          "name": "stdout"
        }
      ]
    },
    {
      "cell_type": "code",
      "metadata": {
        "colab": {
          "base_uri": "https://localhost:8080/"
        },
        "id": "-fqD1OTjBqyS",
        "outputId": "d78fe757-8f37-4792-db9e-723611d09fa7"
      },
      "source": [
        "print(first_row.index)\n",
        "print(first_row.values)\n",
        "print(first_row.keys())"
      ],
      "execution_count": null,
      "outputs": [
        {
          "output_type": "stream",
          "text": [
            "Index(['Occupation', 'Born', 'Died', 'Age'], dtype='object')\n",
            "['pioneer in Ai' nan '_' 73]\n",
            "Index(['Occupation', 'Born', 'Died', 'Age'], dtype='object')\n"
          ],
          "name": "stdout"
        }
      ]
    },
    {
      "cell_type": "code",
      "metadata": {
        "colab": {
          "base_uri": "https://localhost:8080/"
        },
        "id": "ilrr1kzPBrBG",
        "outputId": "c7e3c10e-4e0b-4d24-c09d-e291934b76f1"
      },
      "source": [
        "print(first_row.index[0])\n",
        "print(first_row.keys()[0])"
      ],
      "execution_count": null,
      "outputs": [
        {
          "output_type": "stream",
          "text": [
            "Occupation\n",
            "Occupation\n"
          ],
          "name": "stdout"
        }
      ]
    },
    {
      "cell_type": "code",
      "metadata": {
        "colab": {
          "base_uri": "https://localhost:8080/"
        },
        "id": "YAUz83y1CTVS",
        "outputId": "94f9b959-81fe-401a-f4e2-87f7cbb510ba"
      },
      "source": [
        "ages=scientists['Age']\n",
        "print(ages)"
      ],
      "execution_count": null,
      "outputs": [
        {
          "output_type": "stream",
          "text": [
            "Geoffrey Everest Hinton    73\n",
            "Marvin Lee Minsky          88\n",
            "Name: Age, dtype: int64\n"
          ],
          "name": "stdout"
        }
      ]
    },
    {
      "cell_type": "code",
      "metadata": {
        "id": "Qs5sQxNHCX8Q",
        "colab": {
          "base_uri": "https://localhost:8080/"
        },
        "outputId": "130f6e3f-1017-499b-c354-004c568df411"
      },
      "source": [
        "print(ages.mean())\n",
        "print(ages.min())\n",
        "print(ages.max())\n",
        "print(ages.std())"
      ],
      "execution_count": null,
      "outputs": [
        {
          "output_type": "stream",
          "text": [
            "80.5\n",
            "73\n",
            "88\n",
            "10.606601717798213\n"
          ],
          "name": "stdout"
        }
      ]
    },
    {
      "cell_type": "code",
      "metadata": {
        "colab": {
          "base_uri": "https://localhost:8080/",
          "height": 195
        },
        "id": "mg_S6Ors12d9",
        "outputId": "a95ece06-d0ae-4b77-c468-c3ee0a55f48f"
      },
      "source": [
        "import pandas as pd\n",
        "scientists = pd.read_csv('/content/drive/MyDrive/scientists.csv')\n",
        "scientists.head()"
      ],
      "execution_count": null,
      "outputs": [
        {
          "output_type": "execute_result",
          "data": {
            "text/html": [
              "<div>\n",
              "<style scoped>\n",
              "    .dataframe tbody tr th:only-of-type {\n",
              "        vertical-align: middle;\n",
              "    }\n",
              "\n",
              "    .dataframe tbody tr th {\n",
              "        vertical-align: top;\n",
              "    }\n",
              "\n",
              "    .dataframe thead th {\n",
              "        text-align: right;\n",
              "    }\n",
              "</style>\n",
              "<table border=\"1\" class=\"dataframe\">\n",
              "  <thead>\n",
              "    <tr style=\"text-align: right;\">\n",
              "      <th></th>\n",
              "      <th>Name</th>\n",
              "      <th>Born</th>\n",
              "      <th>Died</th>\n",
              "      <th>Age</th>\n",
              "      <th>Occupation</th>\n",
              "    </tr>\n",
              "  </thead>\n",
              "  <tbody>\n",
              "    <tr>\n",
              "      <th>0</th>\n",
              "      <td>Rosaline Franklin</td>\n",
              "      <td>1920-07-25</td>\n",
              "      <td>1958-04-16</td>\n",
              "      <td>37</td>\n",
              "      <td>Chemist</td>\n",
              "    </tr>\n",
              "    <tr>\n",
              "      <th>1</th>\n",
              "      <td>William Gosset</td>\n",
              "      <td>1876-06-13</td>\n",
              "      <td>1937-10-16</td>\n",
              "      <td>61</td>\n",
              "      <td>Statistician</td>\n",
              "    </tr>\n",
              "    <tr>\n",
              "      <th>2</th>\n",
              "      <td>Florence Nightingale</td>\n",
              "      <td>1820-05-12</td>\n",
              "      <td>1910-08-13</td>\n",
              "      <td>90</td>\n",
              "      <td>Nurse</td>\n",
              "    </tr>\n",
              "    <tr>\n",
              "      <th>3</th>\n",
              "      <td>Marie Curie</td>\n",
              "      <td>1867-11-07</td>\n",
              "      <td>1934-07-04</td>\n",
              "      <td>66</td>\n",
              "      <td>Chemist</td>\n",
              "    </tr>\n",
              "    <tr>\n",
              "      <th>4</th>\n",
              "      <td>Rachel Carson</td>\n",
              "      <td>1907-05-27</td>\n",
              "      <td>1964-04-14</td>\n",
              "      <td>56</td>\n",
              "      <td>Biologist</td>\n",
              "    </tr>\n",
              "  </tbody>\n",
              "</table>\n",
              "</div>"
            ],
            "text/plain": [
              "                   Name        Born        Died  Age    Occupation\n",
              "0     Rosaline Franklin  1920-07-25  1958-04-16   37       Chemist\n",
              "1        William Gosset  1876-06-13  1937-10-16   61  Statistician\n",
              "2  Florence Nightingale  1820-05-12  1910-08-13   90         Nurse\n",
              "3           Marie Curie  1867-11-07  1934-07-04   66       Chemist\n",
              "4         Rachel Carson  1907-05-27  1964-04-14   56     Biologist"
            ]
          },
          "metadata": {
            "tags": []
          },
          "execution_count": 26
        }
      ]
    },
    {
      "cell_type": "code",
      "metadata": {
        "colab": {
          "base_uri": "https://localhost:8080/"
        },
        "id": "9CVtCex914zi",
        "outputId": "cec9e769-1ed1-4b66-e918-bbaa68a59b90"
      },
      "source": [
        "ages = scientists['Age']\n",
        "print(ages.max())\n",
        "print(ages.min())"
      ],
      "execution_count": null,
      "outputs": [
        {
          "output_type": "stream",
          "text": [
            "90\n",
            "37\n"
          ],
          "name": "stdout"
        }
      ]
    },
    {
      "cell_type": "code",
      "metadata": {
        "colab": {
          "base_uri": "https://localhost:8080/"
        },
        "id": "4-wjI_KY2Wtf",
        "outputId": "4cb4223e-ad88-4259-8306-fec22e523262"
      },
      "source": [
        "print(ages.mean())\n",
        "print(ages[ages>ages.mean()])"
      ],
      "execution_count": null,
      "outputs": [
        {
          "output_type": "stream",
          "text": [
            "59.125\n",
            "1    61\n",
            "2    90\n",
            "3    66\n",
            "7    77\n",
            "Name: Age, dtype: int64\n"
          ],
          "name": "stdout"
        }
      ]
    },
    {
      "cell_type": "code",
      "metadata": {
        "colab": {
          "base_uri": "https://localhost:8080/"
        },
        "id": "pJTNDj5H2aCx",
        "outputId": "4c195b6f-59b8-4c1d-9438-e37bfbaa1cd2"
      },
      "source": [
        "print(ages>ages.mean())"
      ],
      "execution_count": null,
      "outputs": [
        {
          "output_type": "stream",
          "text": [
            "0    False\n",
            "1     True\n",
            "2     True\n",
            "3     True\n",
            "4    False\n",
            "5    False\n",
            "6    False\n",
            "7     True\n",
            "Name: Age, dtype: bool\n"
          ],
          "name": "stdout"
        }
      ]
    },
    {
      "cell_type": "code",
      "metadata": {
        "colab": {
          "base_uri": "https://localhost:8080/"
        },
        "id": "BG_Yj8mG2jse",
        "outputId": "bf170694-aebf-446a-d9d7-f72980ee2c8f"
      },
      "source": [
        "manual_bool_values = [True, True, False, False, True, True, False, True]\n",
        "print(ages[manual_bool_values])"
      ],
      "execution_count": null,
      "outputs": [
        {
          "output_type": "stream",
          "text": [
            "0    37\n",
            "1    61\n",
            "4    56\n",
            "5    45\n",
            "7    77\n",
            "Name: Age, dtype: int64\n"
          ],
          "name": "stdout"
        }
      ]
    },
    {
      "cell_type": "code",
      "metadata": {
        "colab": {
          "base_uri": "https://localhost:8080/"
        },
        "id": "7vUaIYNc3DN2",
        "outputId": "a4a860b7-28db-43cc-a743-d9f7cd141fe8"
      },
      "source": [
        "print(ages+ages)\n",
        "print(ages*ages)"
      ],
      "execution_count": null,
      "outputs": [
        {
          "output_type": "stream",
          "text": [
            "0     74\n",
            "1    122\n",
            "2    180\n",
            "3    132\n",
            "4    112\n",
            "5     90\n",
            "6     82\n",
            "7    154\n",
            "Name: Age, dtype: int64\n",
            "0    1369\n",
            "1    3721\n",
            "2    8100\n",
            "3    4356\n",
            "4    3136\n",
            "5    2025\n",
            "6    1681\n",
            "7    5929\n",
            "Name: Age, dtype: int64\n"
          ],
          "name": "stdout"
        }
      ]
    },
    {
      "cell_type": "code",
      "metadata": {
        "colab": {
          "base_uri": "https://localhost:8080/"
        },
        "id": "iWVs_UxV3mZ-",
        "outputId": "1f3d4c10-506e-491c-fd2b-3b3d77dec6eb"
      },
      "source": [
        "print(ages+100)\n",
        "print(ages*2)"
      ],
      "execution_count": null,
      "outputs": [
        {
          "output_type": "stream",
          "text": [
            "0    137\n",
            "1    161\n",
            "2    190\n",
            "3    166\n",
            "4    156\n",
            "5    145\n",
            "6    141\n",
            "7    177\n",
            "Name: Age, dtype: int64\n",
            "0     74\n",
            "1    122\n",
            "2    180\n",
            "3    132\n",
            "4    112\n",
            "5     90\n",
            "6     82\n",
            "7    154\n",
            "Name: Age, dtype: int64\n"
          ],
          "name": "stdout"
        }
      ]
    },
    {
      "cell_type": "code",
      "metadata": {
        "colab": {
          "base_uri": "https://localhost:8080/"
        },
        "id": "VWnRWpR_39rD",
        "outputId": "5ccf0ef3-26bc-45a9-9f59-9e15ece6d723"
      },
      "source": [
        "print(pd.Series([1,100,99]))"
      ],
      "execution_count": null,
      "outputs": [
        {
          "output_type": "stream",
          "text": [
            "0      1\n",
            "1    100\n",
            "2     99\n",
            "dtype: int64\n"
          ],
          "name": "stdout"
        }
      ]
    },
    {
      "cell_type": "code",
      "metadata": {
        "colab": {
          "base_uri": "https://localhost:8080/"
        },
        "id": "_iCtw5Z_4Riz",
        "outputId": "06db238f-53f0-4794-d0aa-500780743b7f"
      },
      "source": [
        "print(ages+pd.Series([1,100,99]))"
      ],
      "execution_count": null,
      "outputs": [
        {
          "output_type": "stream",
          "text": [
            "0     38.0\n",
            "1    161.0\n",
            "2    189.0\n",
            "3      NaN\n",
            "4      NaN\n",
            "5      NaN\n",
            "6      NaN\n",
            "7      NaN\n",
            "dtype: float64\n"
          ],
          "name": "stdout"
        }
      ]
    },
    {
      "cell_type": "code",
      "metadata": {
        "colab": {
          "base_uri": "https://localhost:8080/"
        },
        "id": "RjVsasp54T0R",
        "outputId": "c42b80fb-05c7-4791-bbfc-fe7472980987"
      },
      "source": [
        "rev_ages=ages.sort_index(ascending=False)\n",
        "print(rev_ages)"
      ],
      "execution_count": null,
      "outputs": [
        {
          "output_type": "stream",
          "text": [
            "7    77\n",
            "6    41\n",
            "5    45\n",
            "4    56\n",
            "3    66\n",
            "2    90\n",
            "1    61\n",
            "0    37\n",
            "Name: Age, dtype: int64\n"
          ],
          "name": "stdout"
        }
      ]
    },
    {
      "cell_type": "code",
      "metadata": {
        "colab": {
          "base_uri": "https://localhost:8080/"
        },
        "id": "nLExnaEw4YWM",
        "outputId": "3c08d6c5-bd9f-4539-c885-38bbf686ee56"
      },
      "source": [
        "print(ages*2)\n",
        "print(ages+rev_ages)"
      ],
      "execution_count": null,
      "outputs": [
        {
          "output_type": "stream",
          "text": [
            "0     74\n",
            "1    122\n",
            "2    180\n",
            "3    132\n",
            "4    112\n",
            "5     90\n",
            "6     82\n",
            "7    154\n",
            "Name: Age, dtype: int64\n",
            "0     74\n",
            "1    122\n",
            "2    180\n",
            "3    132\n",
            "4    112\n",
            "5     90\n",
            "6     82\n",
            "7    154\n",
            "Name: Age, dtype: int64\n"
          ],
          "name": "stdout"
        }
      ]
    },
    {
      "cell_type": "code",
      "metadata": {
        "colab": {
          "base_uri": "https://localhost:8080/"
        },
        "id": "jq2HhHq64jYl",
        "outputId": "be4093dc-3f2d-4d1a-cfcf-140d80a53a4c"
      },
      "source": [
        "print(scientists[scientists['Age']>scientists['Age'].mean()])"
      ],
      "execution_count": null,
      "outputs": [
        {
          "output_type": "stream",
          "text": [
            "                   Name        Born        Died  Age     Occupation\n",
            "1        William Gosset  1876-06-13  1937-10-16   61   Statistician\n",
            "2  Florence Nightingale  1820-05-12  1910-08-13   90          Nurse\n",
            "3           Marie Curie  1867-11-07  1934-07-04   66        Chemist\n",
            "7          Johann Gauss  1777-04-30  1855-02-23   77  Mathematician\n"
          ],
          "name": "stdout"
        }
      ]
    },
    {
      "cell_type": "code",
      "metadata": {
        "colab": {
          "base_uri": "https://localhost:8080/"
        },
        "id": "2CTpnD9r5JpO",
        "outputId": "a9c5fbfe-174f-436f-af46-73ab960361c1"
      },
      "source": [
        "print(scientists*2)"
      ],
      "execution_count": null,
      "outputs": [
        {
          "output_type": "stream",
          "text": [
            "                                       Name  ...                            Occupation\n",
            "0        Rosaline FranklinRosaline Franklin  ...                        ChemistChemist\n",
            "1              William GossetWilliam Gosset  ...              StatisticianStatistician\n",
            "2  Florence NightingaleFlorence Nightingale  ...                            NurseNurse\n",
            "3                    Marie CurieMarie Curie  ...                        ChemistChemist\n",
            "4                Rachel CarsonRachel Carson  ...                    BiologistBiologist\n",
            "5                        John SnowJohn Snow  ...                    PhysicianPhysician\n",
            "6                    Alan TuringAlan Turing  ...  Computer ScientistComputer Scientist\n",
            "7                  Johann GaussJohann Gauss  ...            MathematicianMathematician\n",
            "\n",
            "[8 rows x 5 columns]\n"
          ],
          "name": "stdout"
        }
      ]
    },
    {
      "cell_type": "code",
      "metadata": {
        "colab": {
          "base_uri": "https://localhost:8080/"
        },
        "id": "QWnbI_Qp5LzS",
        "outputId": "2956738a-cb50-42b4-cf3e-b9f24f026f47"
      },
      "source": [
        "print(scientists['Born'].dtype)\n",
        "print(scientists['Died'].dtype)"
      ],
      "execution_count": null,
      "outputs": [
        {
          "output_type": "stream",
          "text": [
            "object\n",
            "object\n"
          ],
          "name": "stdout"
        }
      ]
    },
    {
      "cell_type": "code",
      "metadata": {
        "colab": {
          "base_uri": "https://localhost:8080/"
        },
        "id": "o6oEoTZV5ugL",
        "outputId": "21af9299-f8e6-4f5f-9f67-5cbd9265f35a"
      },
      "source": [
        "born_datetime=pd.to_datetime(scientists['Born'],format='%Y-%m-%d')\n",
        "print(born_datetime)\n",
        "died_datetime=pd.to_datetime(scientists['Died'],format='%Y-%m-%d')\n",
        "print(died_datetime)"
      ],
      "execution_count": null,
      "outputs": [
        {
          "output_type": "stream",
          "text": [
            "0   1920-07-25\n",
            "1   1876-06-13\n",
            "2   1820-05-12\n",
            "3   1867-11-07\n",
            "4   1907-05-27\n",
            "5   1813-03-15\n",
            "6   1912-06-23\n",
            "7   1777-04-30\n",
            "Name: Born, dtype: datetime64[ns]\n",
            "0   1958-04-16\n",
            "1   1937-10-16\n",
            "2   1910-08-13\n",
            "3   1934-07-04\n",
            "4   1964-04-14\n",
            "5   1858-06-16\n",
            "6   1954-06-07\n",
            "7   1855-02-23\n",
            "Name: Died, dtype: datetime64[ns]\n"
          ],
          "name": "stdout"
        }
      ]
    },
    {
      "cell_type": "code",
      "metadata": {
        "colab": {
          "base_uri": "https://localhost:8080/"
        },
        "id": "dbNMdiZm5ken",
        "outputId": "1f2308c0-c889-480f-ae05-56a26643485c"
      },
      "source": [
        "scientists['born_dt'],scientists['died_dt']=(born_datetime,died_datetime)\n",
        "print(scientists.head())\n",
        "print(scientists.shape)"
      ],
      "execution_count": null,
      "outputs": [
        {
          "output_type": "stream",
          "text": [
            "                   Name        Born  ...    born_dt    died_dt\n",
            "0     Rosaline Franklin  1920-07-25  ... 1920-07-25 1958-04-16\n",
            "1        William Gosset  1876-06-13  ... 1876-06-13 1937-10-16\n",
            "2  Florence Nightingale  1820-05-12  ... 1820-05-12 1910-08-13\n",
            "3           Marie Curie  1867-11-07  ... 1867-11-07 1934-07-04\n",
            "4         Rachel Carson  1907-05-27  ... 1907-05-27 1964-04-14\n",
            "\n",
            "[5 rows x 7 columns]\n",
            "(8, 7)\n"
          ],
          "name": "stdout"
        }
      ]
    },
    {
      "cell_type": "code",
      "metadata": {
        "colab": {
          "base_uri": "https://localhost:8080/"
        },
        "id": "DNZ4UzTo6K9Y",
        "outputId": "c2409c42-65d7-44fc-a19b-283eb5057d2e"
      },
      "source": [
        "scientists['age_days_dt']=(scientists['died_dt']-scientists['born_dt'])\n",
        "print(scientists)"
      ],
      "execution_count": null,
      "outputs": [
        {
          "output_type": "stream",
          "text": [
            "                   Name        Born  ...    died_dt  age_days_dt\n",
            "0     Rosaline Franklin  1920-07-25  ... 1958-04-16   13779 days\n",
            "1        William Gosset  1876-06-13  ... 1937-10-16   22404 days\n",
            "2  Florence Nightingale  1820-05-12  ... 1910-08-13   32964 days\n",
            "3           Marie Curie  1867-11-07  ... 1934-07-04   24345 days\n",
            "4         Rachel Carson  1907-05-27  ... 1964-04-14   20777 days\n",
            "5             John Snow  1813-03-15  ... 1858-06-16   16529 days\n",
            "6           Alan Turing  1912-06-23  ... 1954-06-07   15324 days\n",
            "7          Johann Gauss  1777-04-30  ... 1855-02-23   28422 days\n",
            "\n",
            "[8 rows x 8 columns]\n"
          ],
          "name": "stdout"
        }
      ]
    },
    {
      "cell_type": "code",
      "metadata": {
        "colab": {
          "base_uri": "https://localhost:8080/"
        },
        "id": "s5twOsQF6sWt",
        "outputId": "d7e85245-9bb3-4e78-e439-766584c67d03"
      },
      "source": [
        "print(scientists['Age'])"
      ],
      "execution_count": null,
      "outputs": [
        {
          "output_type": "stream",
          "text": [
            "0    37\n",
            "1    61\n",
            "2    90\n",
            "3    66\n",
            "4    56\n",
            "5    45\n",
            "6    41\n",
            "7    77\n",
            "Name: Age, dtype: int64\n"
          ],
          "name": "stdout"
        }
      ]
    },
    {
      "cell_type": "code",
      "metadata": {
        "colab": {
          "base_uri": "https://localhost:8080/"
        },
        "id": "t5YAnIf86zDf",
        "outputId": "eff6d205-70f6-4930-b76e-63120d483b30"
      },
      "source": [
        "import random\n",
        "random.seed(42)\n",
        "random.shuffle(scientists['Age'])\n",
        "print(scientists['Age'])"
      ],
      "execution_count": null,
      "outputs": [
        {
          "output_type": "stream",
          "text": [
            "0    66\n",
            "1    56\n",
            "2    41\n",
            "3    77\n",
            "4    90\n",
            "5    45\n",
            "6    37\n",
            "7    61\n",
            "Name: Age, dtype: int64\n"
          ],
          "name": "stdout"
        },
        {
          "output_type": "stream",
          "text": [
            "/usr/lib/python3.7/random.py:278: SettingWithCopyWarning: \n",
            "A value is trying to be set on a copy of a slice from a DataFrame\n",
            "\n",
            "See the caveats in the documentation: https://pandas.pydata.org/pandas-docs/stable/user_guide/indexing.html#returning-a-view-versus-a-copy\n",
            "  x[i], x[j] = x[j], x[i]\n"
          ],
          "name": "stderr"
        }
      ]
    },
    {
      "cell_type": "code",
      "metadata": {
        "colab": {
          "base_uri": "https://localhost:8080/"
        },
        "id": "iNlgL6tu6_Ky",
        "outputId": "fe9412ca-ad60-4a30-fcef-7eec111c6afe"
      },
      "source": [
        "print(scientists.columns)"
      ],
      "execution_count": null,
      "outputs": [
        {
          "output_type": "stream",
          "text": [
            "Index(['Name', 'Born', 'Died', 'Age', 'Occupation', 'born_dt', 'died_dt',\n",
            "       'age_days_dt'],\n",
            "      dtype='object')\n"
          ],
          "name": "stdout"
        }
      ]
    },
    {
      "cell_type": "code",
      "metadata": {
        "colab": {
          "base_uri": "https://localhost:8080/"
        },
        "id": "8imZ57RD7eGR",
        "outputId": "7929360d-c362-466d-bb9c-6a85e7cd3a47"
      },
      "source": [
        "scientists_dropped=scientists.drop(['Age'],axis=1)\n",
        "print(scientists_dropped.columns)"
      ],
      "execution_count": null,
      "outputs": [
        {
          "output_type": "stream",
          "text": [
            "Index(['Name', 'Born', 'Died', 'Occupation', 'born_dt', 'died_dt',\n",
            "       'age_days_dt'],\n",
            "      dtype='object')\n"
          ],
          "name": "stdout"
        }
      ]
    },
    {
      "cell_type": "code",
      "metadata": {
        "id": "UTlxmHebyG0Z"
      },
      "source": [
        "names=scientists['Name']\n",
        "names.to_csv('../scientists_names_series.csv')\n",
        "scientists.to_csv('../scientists_df.tsv',sep='\\t')\n",
        "names_df=names.to_frame()\n",
        "names_df.to_excel('../test_df.xls')\n",
        "names_df.to_excel('../test_df.xlsx')"
      ],
      "execution_count": null,
      "outputs": []
    },
    {
      "cell_type": "code",
      "metadata": {
        "id": "869ndlRY7vsM",
        "colab": {
          "base_uri": "https://localhost:8080/"
        },
        "outputId": "32f1f6b8-4abc-4d55-d522-9b4de2d37729"
      },
      "source": [
        "import seaborn as sns\n",
        "anscombe=sns.load_dataset('anscombe')\n",
        "print(anscombe)\n",
        "print(type(anscombe))"
      ],
      "execution_count": null,
      "outputs": [
        {
          "output_type": "stream",
          "text": [
            "   dataset     x      y\n",
            "0        I  10.0   8.04\n",
            "1        I   8.0   6.95\n",
            "2        I  13.0   7.58\n",
            "3        I   9.0   8.81\n",
            "4        I  11.0   8.33\n",
            "5        I  14.0   9.96\n",
            "6        I   6.0   7.24\n",
            "7        I   4.0   4.26\n",
            "8        I  12.0  10.84\n",
            "9        I   7.0   4.82\n",
            "10       I   5.0   5.68\n",
            "11      II  10.0   9.14\n",
            "12      II   8.0   8.14\n",
            "13      II  13.0   8.74\n",
            "14      II   9.0   8.77\n",
            "15      II  11.0   9.26\n",
            "16      II  14.0   8.10\n",
            "17      II   6.0   6.13\n",
            "18      II   4.0   3.10\n",
            "19      II  12.0   9.13\n",
            "20      II   7.0   7.26\n",
            "21      II   5.0   4.74\n",
            "22     III  10.0   7.46\n",
            "23     III   8.0   6.77\n",
            "24     III  13.0  12.74\n",
            "25     III   9.0   7.11\n",
            "26     III  11.0   7.81\n",
            "27     III  14.0   8.84\n",
            "28     III   6.0   6.08\n",
            "29     III   4.0   5.39\n",
            "30     III  12.0   8.15\n",
            "31     III   7.0   6.42\n",
            "32     III   5.0   5.73\n",
            "33      IV   8.0   6.58\n",
            "34      IV   8.0   5.76\n",
            "35      IV   8.0   7.71\n",
            "36      IV   8.0   8.84\n",
            "37      IV   8.0   8.47\n",
            "38      IV   8.0   7.04\n",
            "39      IV   8.0   5.25\n",
            "40      IV  19.0  12.50\n",
            "41      IV   8.0   5.56\n",
            "42      IV   8.0   7.91\n",
            "43      IV   8.0   6.89\n",
            "<class 'pandas.core.frame.DataFrame'>\n"
          ],
          "name": "stdout"
        }
      ]
    },
    {
      "cell_type": "code",
      "metadata": {
        "colab": {
          "base_uri": "https://localhost:8080/"
        },
        "id": "ByBRUbc8q-p8",
        "outputId": "a353203f-91db-424a-8456-d34c164998cf"
      },
      "source": [
        "anscombe['dataset'].unique()"
      ],
      "execution_count": null,
      "outputs": [
        {
          "output_type": "execute_result",
          "data": {
            "text/plain": [
              "array(['I', 'II', 'III', 'IV'], dtype=object)"
            ]
          },
          "metadata": {
            "tags": []
          },
          "execution_count": 4
        }
      ]
    },
    {
      "cell_type": "code",
      "metadata": {
        "colab": {
          "base_uri": "https://localhost:8080/",
          "height": 265
        },
        "id": "izHGDSL9qRVx",
        "outputId": "f2a49731-7fc1-4910-ea49-da64e4e666f6"
      },
      "source": [
        "import matplotlib.pyplot as plt\n",
        "dataset_1=anscombe[anscombe['dataset']=='I']\n",
        "plt.plot(dataset_1['x'],dataset_1['y'],'o')\n",
        "plt.show()"
      ],
      "execution_count": null,
      "outputs": [
        {
          "output_type": "display_data",
          "data": {
            "image/png": "[encoded data removed]",
            "text/plain": [
              "<Figure size 432x288 with 1 Axes>"
            ]
          },
          "metadata": {
            "tags": [],
            "needs_background": "light"
          }
        }
      ]
    },
    {
      "cell_type": "code",
      "metadata": {
        "id": "zqZ5XsM5vhYA"
      },
      "source": [
        "dataset_2=anscombe[anscombe['dataset']=='II']\n",
        "dataset_3=anscombe[anscombe['dataset']=='III']\n",
        "dataset_4=anscombe[anscombe['dataset']=='IV']"
      ],
      "execution_count": null,
      "outputs": []
    },
    {
      "cell_type": "code",
      "metadata": {
        "colab": {
          "base_uri": "https://localhost:8080/",
          "height": 269
        },
        "id": "PLKpfRilxPiG",
        "outputId": "e41d60ff-8fdd-4291-a84c-2482247f44a5"
      },
      "source": [
        "fig=plt.figure() \n",
        "axis1=fig.add_subplot(2,2,1)\n",
        "axis2=fig.add_subplot(2,2,2)\n",
        "axis3=fig.add_subplot(2,2,3)\n",
        "axis4=fig.add_subplot(2,2,4)"
      ],
      "execution_count": null,
      "outputs": [
        {
          "output_type": "display_data",
          "data": {
            "image/png": "[encoded data removed]",
            "text/plain": [
              "<Figure size 432x288 with 4 Axes>"
            ]
          },
          "metadata": {
            "tags": [],
            "needs_background": "light"
          }
        }
      ]
    },
    {
      "cell_type": "code",
      "metadata": {
        "colab": {
          "base_uri": "https://localhost:8080/",
          "height": 265
        },
        "id": "KivBbzlQxnHv",
        "outputId": "ffabe75f-d756-4f2d-a90b-00e44d227fa1"
      },
      "source": [
        "axis1.plot(dataset_1['x'],dataset_1['y'],'o')\n",
        "axis2.plot(dataset_2['x'],dataset_2['y'],'o')\n",
        "axis3.plot(dataset_3['x'],dataset_3['y'],'o')\n",
        "axis4.plot(dataset_4['x'],dataset_4['y'],'o')\n",
        "fig"
      ],
      "execution_count": null,
      "outputs": [
        {
          "output_type": "execute_result",
          "data": {
            "image/png": "[encoded data removed]",
            "text/plain": [
              "<Figure size 432x288 with 4 Axes>"
            ]
          },
          "metadata": {
            "tags": []
          },
          "execution_count": 8
        }
      ]
    },
    {
      "cell_type": "code",
      "metadata": {
        "colab": {
          "base_uri": "https://localhost:8080/",
          "height": 281
        },
        "id": "eylUcGDmx1po",
        "outputId": "52d513b1-c764-4c86-e504-0a2f387ab805"
      },
      "source": [
        "axis1.set_title('data_1')\n",
        "axis2.set_title('data_2')\n",
        "axis3.set_title('data_3')\n",
        "axis4.set_title('data_4')\n",
        "fig"
      ],
      "execution_count": null,
      "outputs": [
        {
          "output_type": "execute_result",
          "data": {
            "image/png": "[encoded data removed]",
            "text/plain": [
              "<Figure size 432x288 with 4 Axes>"
            ]
          },
          "metadata": {
            "tags": []
          },
          "execution_count": 9
        }
      ]
    },
    {
      "cell_type": "code",
      "metadata": {
        "colab": {
          "base_uri": "https://localhost:8080/",
          "height": 294
        },
        "id": "l7vNJcglyOtA",
        "outputId": "d12a5c0b-a3eb-483a-8b8b-861a4cdc0d17"
      },
      "source": [
        "fig.suptitle('anscombe data')\n",
        "fig"
      ],
      "execution_count": null,
      "outputs": [
        {
          "output_type": "execute_result",
          "data": {
            "image/png": "[encoded data removed]",
            "text/plain": [
              "<Figure size 432x288 with 4 Axes>"
            ]
          },
          "metadata": {
            "tags": []
          },
          "execution_count": 10
        }
      ]
    },
    {
      "cell_type": "code",
      "metadata": {
        "colab": {
          "base_uri": "https://localhost:8080/",
          "height": 302
        },
        "id": "ajfKioO5yYxU",
        "outputId": "32a3696d-ce6a-4370-db24-ca460f7f5e8a"
      },
      "source": [
        "fig.tight_layout()\n",
        "fig"
      ],
      "execution_count": null,
      "outputs": [
        {
          "output_type": "execute_result",
          "data": {
            "image/png": "[encoded data removed]",
            "text/plain": [
              "<Figure size 432x288 with 4 Axes>"
            ]
          },
          "metadata": {
            "tags": []
          },
          "execution_count": 11
        }
      ]
    },
    {
      "cell_type": "code",
      "metadata": {
        "colab": {
          "base_uri": "https://localhost:8080/"
        },
        "id": "l-bw0yn0yfUq",
        "outputId": "c1f4ae15-8a95-44f1-9da7-2276e103700c"
      },
      "source": [
        "tips=sns.load_dataset('tips')\n",
        "print(tips.head())\n",
        "print(type(tips))"
      ],
      "execution_count": null,
      "outputs": [
        {
          "output_type": "stream",
          "text": [
            "   total_bill   tip     sex smoker  day    time  size\n",
            "0       16.99  1.01  Female     No  Sun  Dinner     2\n",
            "1       10.34  1.66    Male     No  Sun  Dinner     3\n",
            "2       21.01  3.50    Male     No  Sun  Dinner     3\n",
            "3       23.68  3.31    Male     No  Sun  Dinner     2\n",
            "4       24.59  3.61  Female     No  Sun  Dinner     4\n",
            "<class 'pandas.core.frame.DataFrame'>\n"
          ],
          "name": "stdout"
        }
      ]
    },
    {
      "cell_type": "code",
      "metadata": {
        "colab": {
          "base_uri": "https://localhost:8080/",
          "height": 269
        },
        "id": "QuZFTsrRy8bp",
        "outputId": "4245fb19-98ea-4a4b-f315-e66d0669bce1"
      },
      "source": [
        "fig=plt.figure()\n",
        "axes1=fig.add_subplot(1,1,1)"
      ],
      "execution_count": null,
      "outputs": [
        {
          "output_type": "display_data",
          "data": {
            "image/png": "[encoded data removed]",
            "text/plain": [
              "<Figure size 432x288 with 1 Axes>"
            ]
          },
          "metadata": {
            "tags": [],
            "needs_background": "light"
          }
        }
      ]
    },
    {
      "cell_type": "code",
      "metadata": {
        "colab": {
          "base_uri": "https://localhost:8080/",
          "height": 295
        },
        "id": "100CUgepztW5",
        "outputId": "cad96668-2647-434c-97ff-31153b227a5d"
      },
      "source": [
        "axes1.hist(tips['total_bill'],bins=10) #빈도수\n",
        "axes1.set_title('History of total bill')\n",
        "axes1.set_xlabel('Frequency')\n",
        "axes1.set_ylabel('Total bill')\n",
        "fig"
      ],
      "execution_count": null,
      "outputs": [
        {
          "output_type": "execute_result",
          "data": {
            "image/png": "[encoded data removed]",
            "text/plain": [
              "<Figure size 432x288 with 1 Axes>"
            ]
          },
          "metadata": {
            "tags": []
          },
          "execution_count": 14
        }
      ]
    },
    {
      "cell_type": "code",
      "metadata": {
        "colab": {
          "base_uri": "https://localhost:8080/",
          "height": 313
        },
        "id": "XlWF3Iqdz5fT",
        "outputId": "7227cf3a-80d8-4776-f783-217b4d76e639"
      },
      "source": [
        "scatter_plot=plt.figure()\n",
        "axes1=scatter_plot.add_subplot(1,1,1)\n",
        "axes1.scatter(tips['total_bill'], tips['tip'])\n",
        "axes1.set_title('Scatterplot of Total bill vs Tip')\n",
        "axes1.set_xlabel('Total Bill')\n",
        "axes1.set_ylabel('Tip')"
      ],
      "execution_count": null,
      "outputs": [
        {
          "output_type": "execute_result",
          "data": {
            "text/plain": [
              "Text(0, 0.5, 'Tip')"
            ]
          },
          "metadata": {
            "tags": []
          },
          "execution_count": 15
        },
        {
          "output_type": "display_data",
          "data": {
            "image/png": "[encoded data removed]",
            "text/plain": [
              "<Figure size 432x288 with 1 Axes>"
            ]
          },
          "metadata": {
            "tags": [],
            "needs_background": "light"
          }
        }
      ]
    },
    {
      "cell_type": "code",
      "metadata": {
        "colab": {
          "base_uri": "https://localhost:8080/",
          "height": 295
        },
        "id": "kpqfknGq072k",
        "outputId": "af554492-68a0-45ea-c1f3-037f56d36226"
      },
      "source": [
        "import warnings #버전이 낮아서 위험할 수도 있다.\n",
        "warnings.filterwarnings('ignore')\n",
        "\n",
        "boxplot=plt.figure()\n",
        "axes1=boxplot.add_subplot(1,1,1)\n",
        "axes1.boxplot(\n",
        "  [tips[tips['sex']=='Female']['tip'],\n",
        "   tips[tips['sex']=='Male']['tip']],\n",
        "   labels=['Female','Male']\n",
        ")\n",
        "axes1.set_xlabel('Sex')\n",
        "axes1.set_ylabel('Tip')\n",
        "axes1.set_title('Boxplot of Tips by sex')\n",
        "plt.show()"
      ],
      "execution_count": null,
      "outputs": [
        {
          "output_type": "display_data",
          "data": {
            "image/png": "[encoded data removed]",
            "text/plain": [
              "<Figure size 432x288 with 1 Axes>"
            ]
          },
          "metadata": {
            "tags": [],
            "needs_background": "light"
          }
        }
      ]
    },
    {
      "cell_type": "code",
      "metadata": {
        "id": "jmt_rcm13aPO"
      },
      "source": [
        "def recode_sex(sex):\n",
        "  if sex=='Female':\n",
        "    return 0\n",
        "  else:\n",
        "    return 1\n"
      ],
      "execution_count": null,
      "outputs": []
    },
    {
      "cell_type": "code",
      "metadata": {
        "colab": {
          "base_uri": "https://localhost:8080/"
        },
        "id": "lIC6OGeIlsS5",
        "outputId": "18e195ea-6114-4d0e-e460-4109888d3d6d"
      },
      "source": [
        "tips['sex_color']=tips['sex'].apply(recode_sex)\n",
        "print(tips['sex_color'].head())"
      ],
      "execution_count": null,
      "outputs": [
        {
          "output_type": "stream",
          "text": [
            "0    0\n",
            "1    1\n",
            "2    1\n",
            "3    1\n",
            "4    0\n",
            "Name: sex_color, dtype: category\n",
            "Categories (2, int64): [1, 0]\n"
          ],
          "name": "stdout"
        }
      ]
    },
    {
      "cell_type": "code",
      "metadata": {
        "colab": {
          "base_uri": "https://localhost:8080/",
          "height": 313
        },
        "id": "02rr7HbqlySy",
        "outputId": "d6413f31-2ff2-4dc9-c6f2-a1ecf2b5a4dd"
      },
      "source": [
        "scatter_plot=plt.figure()\n",
        "axes1=scatter_plot.add_subplot(1,1,1)\n",
        "axes1.scatter(\n",
        "    x=tips['total_bill'],\n",
        "    y=tips['tip'],\n",
        "    s=tips['size']*10,\n",
        "    c=tips['sex_color'],\n",
        "    alpha=0.5\n",
        ")\n",
        "axes1.set_title('Total Bill vs Tip Colored by Sex and Sized by Size')\n",
        "axes1.set_xlabel('Total Bill')\n",
        "axes1.set_ylabel('Tip')"
      ],
      "execution_count": null,
      "outputs": [
        {
          "output_type": "execute_result",
          "data": {
            "text/plain": [
              "Text(0, 0.5, 'Tip')"
            ]
          },
          "metadata": {
            "tags": []
          },
          "execution_count": 19
        },
        {
          "output_type": "display_data",
          "data": {
            "image/png": "[encoded data removed]",
            "text/plain": [
              "<Figure size 432x288 with 1 Axes>"
            ]
          },
          "metadata": {
            "tags": [],
            "needs_background": "light"
          }
        }
      ]
    },
    {
      "cell_type": "code",
      "metadata": {
        "colab": {
          "base_uri": "https://localhost:8080/",
          "height": 296
        },
        "id": "YKxJUCKGmLv4",
        "outputId": "aca28ef7-0735-4295-ce9d-6dc85bc93c97"
      },
      "source": [
        "tips=sns.load_dataset('tips')\n",
        "ax=plt.subplots()\n",
        "ax=sns.distplot(tips['total_bill'])\n",
        "ax.set_title('Total Bill Histogram with Density Plot')\n",
        "plt.show()"
      ],
      "execution_count": null,
      "outputs": [
        {
          "output_type": "display_data",
          "data": {
            "image/png": "[encoded data removed]",
            "text/plain": [
              "<Figure size 432x288 with 1 Axes>"
            ]
          },
          "metadata": {
            "tags": [],
            "needs_background": "light"
          }
        }
      ]
    },
    {
      "cell_type": "code",
      "metadata": {
        "colab": {
          "base_uri": "https://localhost:8080/",
          "height": 295
        },
        "id": "WmjZ4mqnmdLH",
        "outputId": "c41ea4c6-8d33-46bb-d607-060fc0b82bfb"
      },
      "source": [
        "ax=plt.subplots()\n",
        "ax=sns.distplot(tips['total_bill'],kde=False)\n",
        "ax.set_title('Total Bill Histogram')\n",
        "ax.set_xlabel('Total Bill')\n",
        "ax.set_ylabel('Frequency')\n",
        "plt.show()"
      ],
      "execution_count": null,
      "outputs": [
        {
          "output_type": "display_data",
          "data": {
            "image/png": "[encoded data removed]",
            "text/plain": [
              "<Figure size 432x288 with 1 Axes>"
            ]
          },
          "metadata": {
            "tags": [],
            "needs_background": "light"
          }
        }
      ]
    },
    {
      "cell_type": "code",
      "metadata": {
        "colab": {
          "base_uri": "https://localhost:8080/",
          "height": 313
        },
        "id": "0BeWXevBmpUY",
        "outputId": "a65dcec6-a5fb-486f-e993-fdc92a7e2b32"
      },
      "source": [
        "ax=plt.subplots()\n",
        "ax=sns.distplot(tips['total_bill'],hist=False)\n",
        "ax.set_title('Total Bill Density')\n",
        "ax.set_xlabel('Total Bill')\n",
        "ax.set_ylabel('Unit Probability')"
      ],
      "execution_count": null,
      "outputs": [
        {
          "output_type": "execute_result",
          "data": {
            "text/plain": [
              "Text(0, 0.5, 'Unit Probability')"
            ]
          },
          "metadata": {
            "tags": []
          },
          "execution_count": 22
        },
        {
          "output_type": "display_data",
          "data": {
            "image/png": "[encoded data removed]",
            "text/plain": [
              "<Figure size 432x288 with 1 Axes>"
            ]
          },
          "metadata": {
            "tags": [],
            "needs_background": "light"
          }
        }
      ]
    },
    {
      "cell_type": "code",
      "metadata": {
        "colab": {
          "base_uri": "https://localhost:8080/",
          "height": 295
        },
        "id": "vb7-9bJdm3gk",
        "outputId": "5c5fedd7-aa11-4e4e-e574-739ae6bfa83e"
      },
      "source": [
        "hist_den_rug,ax=plt.subplots()\n",
        "ax=sns.distplot(tips['total_bill'],rug=True)\n",
        "ax.set_title('Total Bill Histogram with Density and Rug Plot')\n",
        "ax.set_xlabel('Total Bill')\n",
        "plt.show()"
      ],
      "execution_count": null,
      "outputs": [
        {
          "output_type": "display_data",
          "data": {
            "image/png": "[encoded data removed]",
            "text/plain": [
              "<Figure size 432x288 with 1 Axes>"
            ]
          },
          "metadata": {
            "tags": [],
            "needs_background": "light"
          }
        }
      ]
    },
    {
      "cell_type": "code",
      "metadata": {
        "colab": {
          "base_uri": "https://localhost:8080/",
          "height": 313
        },
        "id": "t66TpazmnFpD",
        "outputId": "becf8f64-8b8c-4d52-f125-fbaaaab41dd4"
      },
      "source": [
        "ax=plt.subplots()\n",
        "ax=sns.countplot('day',data=tips)\n",
        "ax.set_title('Count of Days')\n",
        "ax.set_xlabel('Day of the Week')\n",
        "ax.set_ylabel('Frequency')"
      ],
      "execution_count": null,
      "outputs": [
        {
          "output_type": "execute_result",
          "data": {
            "text/plain": [
              "Text(0, 0.5, 'Frequency')"
            ]
          },
          "metadata": {
            "tags": []
          },
          "execution_count": 24
        },
        {
          "output_type": "display_data",
          "data": {
            "image/png": "[encoded data removed]",
            "text/plain": [
              "<Figure size 432x288 with 1 Axes>"
            ]
          },
          "metadata": {
            "tags": [],
            "needs_background": "light"
          }
        }
      ]
    },
    {
      "cell_type": "code",
      "metadata": {
        "colab": {
          "base_uri": "https://localhost:8080/",
          "height": 313
        },
        "id": "AGqT_VQSnPgm",
        "outputId": "bff8fe54-278d-448a-ed91-5a5061b52dbc"
      },
      "source": [
        "ax=plt.subplots()\n",
        "ax=sns.regplot(x='total_bill',y='tip',data=tips)\n",
        "ax.set_title('Scatterplot of Total Bill and Tip')\n",
        "ax.set_xlabel('Total Bill')\n",
        "ax.set_ylabel('Tip')"
      ],
      "execution_count": null,
      "outputs": [
        {
          "output_type": "execute_result",
          "data": {
            "text/plain": [
              "Text(0, 0.5, 'Tip')"
            ]
          },
          "metadata": {
            "tags": []
          },
          "execution_count": 25
        },
        {
          "output_type": "display_data",
          "data": {
            "image/png": "[encoded data removed]",
            "text/plain": [
              "<Figure size 432x288 with 1 Axes>"
            ]
          },
          "metadata": {
            "tags": [],
            "needs_background": "light"
          }
        }
      ]
    },
    {
      "cell_type": "code",
      "metadata": {
        "colab": {
          "base_uri": "https://localhost:8080/",
          "height": 313
        },
        "id": "tbKndbqNncG8",
        "outputId": "c647ea14-7d00-4a6d-8f45-808be542e9b4"
      },
      "source": [
        "ax=sns.regplot(x='total_bill',y='tip',data=tips,fit_reg=False)\n",
        "ax.set_title('Scatterplot of Total Bill and Tip')\n",
        "ax.set_xlabel('Total Bill')\n",
        "ax.set_ylabel('Tip')"
      ],
      "execution_count": null,
      "outputs": [
        {
          "output_type": "execute_result",
          "data": {
            "text/plain": [
              "Text(0, 0.5, 'Tip')"
            ]
          },
          "metadata": {
            "tags": []
          },
          "execution_count": 26
        },
        {
          "output_type": "display_data",
          "data": {
            "image/png": "[encoded data removed]",
            "text/plain": [
              "<Figure size 432x288 with 1 Axes>"
            ]
          },
          "metadata": {
            "tags": [],
            "needs_background": "light"
          }
        }
      ]
    },
    {
      "cell_type": "code",
      "metadata": {
        "colab": {
          "base_uri": "https://localhost:8080/",
          "height": 482
        },
        "id": "2HRk7U4bnl5d",
        "outputId": "18c89c93-5f3b-46e8-aebd-5cecafcc9583"
      },
      "source": [
        "joint=sns.jointplot(x='total_bill',y='tip',data=tips)\n",
        "joint.set_axis_labels(xlabel='Total Bill',ylabel='Tip')\n",
        "joint.fig.suptitle('Joint Plot of Total Bill and Tip', fontsize=10, y=1.03)"
      ],
      "execution_count": null,
      "outputs": [
        {
          "output_type": "execute_result",
          "data": {
            "text/plain": [
              "Text(0.5, 1.03, 'Joint Plot of Total Bill and Tip')"
            ]
          },
          "metadata": {
            "tags": []
          },
          "execution_count": 27
        },
        {
          "output_type": "display_data",
          "data": {
            "image/png": "[encoded data removed]",
            "text/plain": [
              "<Figure size 432x432 with 3 Axes>"
            ]
          },
          "metadata": {
            "tags": [],
            "needs_background": "light"
          }
        }
      ]
    },
    {
      "cell_type": "code",
      "metadata": {
        "colab": {
          "base_uri": "https://localhost:8080/",
          "height": 482
        },
        "id": "O7MSrLEjMGD6",
        "outputId": "bb1ce008-af7e-4fa0-f4aa-910aad0b9471"
      },
      "source": [
        "hexbin=sns.jointplot(x='total_bill',y='tip',data=tips,kind='hex')\n",
        "hexbin.set_axis_labels(xlabel='Total Bill',ylabel='Tip')\n",
        "hexbin.fig.suptitle('Hexbin Joint Plot of Total Bill and Tip', fontsize=10, y=1.03)"
      ],
      "execution_count": null,
      "outputs": [
        {
          "output_type": "execute_result",
          "data": {
            "text/plain": [
              "Text(0.5, 1.03, 'Hexbin Joint Plot of Total Bill and Tip')"
            ]
          },
          "metadata": {
            "tags": []
          },
          "execution_count": 29
        },
        {
          "output_type": "display_data",
          "data": {
            "image/png": "[encoded data removed]",
            "text/plain": [
              "<Figure size 432x432 with 3 Axes>"
            ]
          },
          "metadata": {
            "tags": [],
            "needs_background": "light"
          }
        }
      ]
    },
    {
      "cell_type": "code",
      "metadata": {
        "colab": {
          "base_uri": "https://localhost:8080/",
          "height": 313
        },
        "id": "nr7tilhVMc6p",
        "outputId": "572ce08f-6287-4879-a3c1-2684465d3b01"
      },
      "source": [
        "kde,ax=plt.subplots()\n",
        "ax=sns.kdeplot(data=tips['total_bill'],\n",
        "               data2=tips['tip'],\n",
        "               shade=True)\n",
        "ax.set_title('Kernel Density Plot of Total Bill and Tip')\n",
        "ax.set_xlabel('Total Bill')\n",
        "ax.set_ylabel('Tip')"
      ],
      "execution_count": null,
      "outputs": [
        {
          "output_type": "execute_result",
          "data": {
            "text/plain": [
              "Text(0, 0.5, 'Tip')"
            ]
          },
          "metadata": {
            "tags": []
          },
          "execution_count": 30
        },
        {
          "output_type": "display_data",
          "data": {
            "image/png": "[encoded data removed]",
            "text/plain": [
              "<Figure size 432x288 with 1 Axes>"
            ]
          },
          "metadata": {
            "tags": [],
            "needs_background": "light"
          }
        }
      ]
    },
    {
      "cell_type": "code",
      "metadata": {
        "colab": {
          "base_uri": "https://localhost:8080/",
          "height": 313
        },
        "id": "izRY9lrgM468",
        "outputId": "74586b0c-2e5c-4a81-d0e2-418cb56776b6"
      },
      "source": [
        "ax=plt.subplots()\n",
        "ax=sns.barplot(x='time',y='total_bill',data=tips)\n",
        "ax.set_title('Bar plot of average total bill for time of day')\n",
        "ax.set_xlabel('Time of day')\n",
        "ax.set_ylabel('Average total bill')"
      ],
      "execution_count": null,
      "outputs": [
        {
          "output_type": "execute_result",
          "data": {
            "text/plain": [
              "Text(0, 0.5, 'Average total bill')"
            ]
          },
          "metadata": {
            "tags": []
          },
          "execution_count": 31
        },
        {
          "output_type": "display_data",
          "data": {
            "image/png": "[encoded data removed]",
            "text/plain": [
              "<Figure size 432x288 with 1 Axes>"
            ]
          },
          "metadata": {
            "tags": [],
            "needs_background": "light"
          }
        }
      ]
    },
    {
      "cell_type": "code",
      "metadata": {
        "colab": {
          "base_uri": "https://localhost:8080/",
          "height": 313
        },
        "id": "wvlMNvJcNGW4",
        "outputId": "b71ef49d-0dc6-4096-d951-f9261e4c6da4"
      },
      "source": [
        "ax=plt.subplots()\n",
        "ax=sns.boxplot(x='time',y='total_bill',data=tips)\n",
        "ax.set_title('Boxplot of total bill by time of day')\n",
        "ax.set_xlabel('Time of day')\n",
        "ax.set_ylabel('Total_bill')"
      ],
      "execution_count": null,
      "outputs": [
        {
          "output_type": "execute_result",
          "data": {
            "text/plain": [
              "Text(0, 0.5, 'Total_bill')"
            ]
          },
          "metadata": {
            "tags": []
          },
          "execution_count": 32
        },
        {
          "output_type": "display_data",
          "data": {
            "image/png": "[encoded data removed]",
            "text/plain": [
              "<Figure size 432x288 with 1 Axes>"
            ]
          },
          "metadata": {
            "tags": [],
            "needs_background": "light"
          }
        }
      ]
    },
    {
      "cell_type": "code",
      "metadata": {
        "colab": {
          "base_uri": "https://localhost:8080/",
          "height": 313
        },
        "id": "KL_Nb3UuNCSk",
        "outputId": "b1d2567f-8153-4515-bf06-eaaa44b882d1"
      },
      "source": [
        "ax=plt.subplots()\n",
        "ax=sns.violinplot(x='time',y='total_bill',data=tips)\n",
        "ax.set_title('Violin plot of total bill by time of day')\n",
        "ax.set_xlabel('Time of day')\n",
        "ax.set_ylabel('Total Bill')"
      ],
      "execution_count": null,
      "outputs": [
        {
          "output_type": "execute_result",
          "data": {
            "text/plain": [
              "Text(0, 0.5, 'Total Bill')"
            ]
          },
          "metadata": {
            "tags": []
          },
          "execution_count": 33
        },
        {
          "output_type": "display_data",
          "data": {
            "image/png": "[encoded data removed]",
            "text/plain": [
              "<Figure size 432x288 with 1 Axes>"
            ]
          },
          "metadata": {
            "tags": [],
            "needs_background": "light"
          }
        }
      ]
    },
    {
      "cell_type": "code",
      "metadata": {
        "colab": {
          "base_uri": "https://localhost:8080/",
          "height": 550
        },
        "id": "t-5pmpu1NnlB",
        "outputId": "fb96c716-c9ad-48f7-b518-361f1b65c555"
      },
      "source": [
        "fig=sns.pairplot(tips)"
      ],
      "execution_count": null,
      "outputs": [
        {
          "output_type": "display_data",
          "data": {
            "image/png": "[encoded data removed]",
            "text/plain": [
              "<Figure size 540x540 with 12 Axes>"
            ]
          },
          "metadata": {
            "tags": [],
            "needs_background": "light"
          }
        }
      ]
    },
    {
      "cell_type": "code",
      "metadata": {
        "colab": {
          "base_uri": "https://localhost:8080/",
          "height": 546
        },
        "id": "mePCkOa9Nrmd",
        "outputId": "f08bafca-d73a-4beb-f40b-98edb645946f"
      },
      "source": [
        "pair_grid=sns.PairGrid(tips)\n",
        "pair_grid=pair_grid.map_upper(sns.regplot)\n",
        "pair_grid=pair_grid.map_lower(sns.kdeplot)\n",
        "pair_grid=pair_grid.map_diag(sns.distplot,rug=True)\n",
        "plt.show()"
      ],
      "execution_count": null,
      "outputs": [
        {
          "output_type": "display_data",
          "data": {
            "image/png": "[encoded data removed]",
            "text/plain": [
              "<Figure size 540x540 with 12 Axes>"
            ]
          },
          "metadata": {
            "tags": [],
            "needs_background": "light"
          }
        }
      ]
    },
    {
      "cell_type": "code",
      "metadata": {
        "colab": {
          "base_uri": "https://localhost:8080/",
          "height": 280
        },
        "id": "KfGtoyffOSSn",
        "outputId": "08a354c2-fc19-4fd0-b8ab-688ef1c3b4d5"
      },
      "source": [
        "ax=plt.subplots()\n",
        "ax=sns.violinplot(x='time',y='total_bill',\n",
        "                  hue='sex',data=tips,split=True)\n",
        "plt.show()"
      ],
      "execution_count": null,
      "outputs": [
        {
          "output_type": "display_data",
          "data": {
            "image/png": "[encoded data removed]",
            "text/plain": [
              "<Figure size 432x288 with 1 Axes>"
            ]
          },
          "metadata": {
            "tags": [],
            "needs_background": "light"
          }
        }
      ]
    },
    {
      "cell_type": "code",
      "metadata": {
        "colab": {
          "base_uri": "https://localhost:8080/",
          "height": 384
        },
        "id": "TyKFeb3eOc-8",
        "outputId": "b85c354c-8f2f-43a6-c1ee-28eebf70e71c"
      },
      "source": [
        "scatter=sns.lmplot(x='total_bill',y='tip',\n",
        "                   data=tips,hue='sex',fit_reg=False)\n",
        "plt.show()"
      ],
      "execution_count": null,
      "outputs": [
        {
          "output_type": "display_data",
          "data": {
            "image/png": "[encoded data removed]",
            "text/plain": [
              "<Figure size 432.125x360 with 1 Axes>"
            ]
          },
          "metadata": {
            "tags": [],
            "needs_background": "light"
          }
        }
      ]
    },
    {
      "cell_type": "code",
      "metadata": {
        "colab": {
          "base_uri": "https://localhost:8080/",
          "height": 550
        },
        "id": "OUGO5kyxOm9S",
        "outputId": "e69dd2b4-2af8-4b59-cab7-a04d1cdceb11"
      },
      "source": [
        "fig=sns.pairplot(tips,hue='sex')"
      ],
      "execution_count": null,
      "outputs": [
        {
          "output_type": "display_data",
          "data": {
            "image/png": "[encoded data removed]",
            "text/plain": [
              "<Figure size 612.125x540 with 12 Axes>"
            ]
          },
          "metadata": {
            "tags": [],
            "needs_background": "light"
          }
        }
      ]
    },
    {
      "cell_type": "code",
      "metadata": {
        "colab": {
          "base_uri": "https://localhost:8080/",
          "height": 384
        },
        "id": "aTwYRNKPOsig",
        "outputId": "69a5998b-e908-46be-ed22-5dd1330597b7"
      },
      "source": [
        "scatter=sns.lmplot(x='total_bill',y='tip',\n",
        "                   data=tips,fit_reg=False,hue='sex',\n",
        "                   markers=['o','x'])\n",
        "plt.show()"
      ],
      "execution_count": null,
      "outputs": [
        {
          "output_type": "display_data",
          "data": {
            "image/png": "[encoded data removed]",
            "text/plain": [
              "<Figure size 432.125x360 with 1 Axes>"
            ]
          },
          "metadata": {
            "tags": [],
            "needs_background": "light"
          }
        }
      ]
    },
    {
      "cell_type": "code",
      "metadata": {
        "colab": {
          "base_uri": "https://localhost:8080/",
          "height": 383
        },
        "id": "qwGBp_KSO3x9",
        "outputId": "6486f67f-3f5e-4493-ced7-eaa5a5db3e2c"
      },
      "source": [
        "anscombe_plot=sns.lmplot(x='x',y='y',\n",
        "                         data=anscombe,\n",
        "                         fit_reg=False)"
      ],
      "execution_count": null,
      "outputs": [
        {
          "output_type": "display_data",
          "data": {
            "image/png": "[encoded data removed]",
            "text/plain": [
              "<Figure size 360x360 with 1 Axes>"
            ]
          },
          "metadata": {
            "tags": [],
            "needs_background": "light"
          }
        }
      ]
    },
    {
      "cell_type": "code",
      "metadata": {
        "colab": {
          "base_uri": "https://localhost:8080/",
          "height": 743
        },
        "id": "peB92wFBPQ3O",
        "outputId": "569de5cb-3f49-46ad-fda4-3bd949db4b1c"
      },
      "source": [
        "anscombe_plot=sns.lmplot(x='x',y='y',data=anscombe,fit_reg=False,\n",
        "                         col='dataset',col_wrap=2)"
      ],
      "execution_count": null,
      "outputs": [
        {
          "output_type": "display_data",
          "data": {
            "image/png": "[encoded data removed]",
            "text/plain": [
              "<Figure size 720x720 with 4 Axes>"
            ]
          },
          "metadata": {
            "tags": [],
            "needs_background": "light"
          }
        }
      ]
    },
    {
      "cell_type": "code",
      "metadata": {
        "colab": {
          "base_uri": "https://localhost:8080/",
          "height": 225
        },
        "id": "3Y61H3ZwP8HK",
        "outputId": "4b51a7c4-e295-4010-9642-2261dc0ee403"
      },
      "source": [
        "facet=sns.FacetGrid(tips,col='time')\n",
        "facet.map(sns.distplot,'total_bill',rug=True)\n",
        "plt.show()"
      ],
      "execution_count": null,
      "outputs": [
        {
          "output_type": "display_data",
          "data": {
            "image/png": "[encoded data removed]",
            "text/plain": [
              "<Figure size 432x216 with 2 Axes>"
            ]
          },
          "metadata": {
            "tags": [],
            "needs_background": "light"
          }
        }
      ]
    },
    {
      "cell_type": "code",
      "metadata": {
        "colab": {
          "base_uri": "https://localhost:8080/",
          "height": 245
        },
        "id": "y2-_mNFNQMc_",
        "outputId": "9dd1703b-c8b0-404e-84b4-bd0793d0ee58"
      },
      "source": [
        "facet=sns.FacetGrid(tips,col='day',hue='sex')\n",
        "facet=facet.map(plt.scatter,'total_bill','tip')\n",
        "facet=facet.add_legend()\n",
        "plt.show()"
      ],
      "execution_count": null,
      "outputs": [
        {
          "output_type": "display_data",
          "data": {
            "image/png": "[encoded data removed]",
            "text/plain": [
              "<Figure size 936.125x216 with 4 Axes>"
            ]
          },
          "metadata": {
            "tags": [],
            "needs_background": "light"
          }
        }
      ]
    },
    {
      "cell_type": "code",
      "metadata": {
        "colab": {
          "base_uri": "https://localhost:8080/",
          "height": 458
        },
        "id": "fg6BEDsjQblL",
        "outputId": "1ec96297-2957-4423-ac5b-df79d5e89feb"
      },
      "source": [
        "facet=sns.FacetGrid(tips,col='time',row='smoker',hue='sex')\n",
        "facet.map(plt.scatter,'total_bill','tip')"
      ],
      "execution_count": null,
      "outputs": [
        {
          "output_type": "execute_result",
          "data": {
            "text/plain": [
              "<seaborn.axisgrid.FacetGrid at 0x7f2612d43090>"
            ]
          },
          "metadata": {
            "tags": []
          },
          "execution_count": 46
        },
        {
          "output_type": "display_data",
          "data": {
            "image/png": "[encoded data removed]",
            "text/plain": [
              "<Figure size 432x432 with 4 Axes>"
            ]
          },
          "metadata": {
            "tags": [],
            "needs_background": "light"
          }
        }
      ]
    },
    {
      "cell_type": "code",
      "metadata": {
        "id": "9XTDeq1rQYNd"
      },
      "source": [
        "df1=pd.read_csv('/content/drive/MyDrive/concat_1.csv')\n",
        "df2=pd.read_csv('/content/drive/MyDrive/concat_2.csv')\n",
        "df3=pd.read_csv('/content/drive/MyDrive/concat_3.csv')"
      ],
      "execution_count": null,
      "outputs": []
    },
    {
      "cell_type": "code",
      "metadata": {
        "colab": {
          "base_uri": "https://localhost:8080/"
        },
        "id": "WJ0zMA9BRbFh",
        "outputId": "ae99e676-4aef-415f-ee95-3742aeefca90"
      },
      "source": [
        "row_concat=pd.concat([df1,df2,df3])\n",
        "print(row_concat)"
      ],
      "execution_count": null,
      "outputs": [
        {
          "output_type": "stream",
          "text": [
            "     A    B    C    D\n",
            "0   a0   b0   c0   d0\n",
            "1   a1   b1   c1   d1\n",
            "2   a2   b2   c2   d2\n",
            "3   a3   b3   c3   d3\n",
            "0   a4   b4   c4   d4\n",
            "1   a5   b5   c5   d5\n",
            "2   a6   b6   c6   d6\n",
            "3   a7   b7   c7   d7\n",
            "0   a8   b8   c8   d8\n",
            "1   a9   b9   c9   d9\n",
            "2  a10  b10  c10  d10\n",
            "3  a11  b11  c11  d11\n"
          ],
          "name": "stdout"
        }
      ]
    },
    {
      "cell_type": "code",
      "metadata": {
        "colab": {
          "base_uri": "https://localhost:8080/"
        },
        "id": "OjX1LgJeRe8m",
        "outputId": "65943333-e598-4326-afc8-e2243a5b0f56"
      },
      "source": [
        "print(row_concat.iloc[3,])"
      ],
      "execution_count": null,
      "outputs": [
        {
          "output_type": "stream",
          "text": [
            "A    a3\n",
            "B    b3\n",
            "C    c3\n",
            "D    d3\n",
            "Name: 3, dtype: object\n"
          ],
          "name": "stdout"
        }
      ]
    },
    {
      "cell_type": "code",
      "metadata": {
        "id": "kk3CiciyRjZq"
      },
      "source": [
        "new_row_series=pd.Series(['n1','n2','n3','n4'])"
      ],
      "execution_count": null,
      "outputs": []
    },
    {
      "cell_type": "code",
      "metadata": {
        "colab": {
          "base_uri": "https://localhost:8080/"
        },
        "id": "DvDx9vUQRq3U",
        "outputId": "4471debb-0de0-43ac-be2d-6651162e8692"
      },
      "source": [
        "print(pd.concat([df1,new_row_series]))"
      ],
      "execution_count": null,
      "outputs": [
        {
          "output_type": "stream",
          "text": [
            "     A    B    C    D    0\n",
            "0   a0   b0   c0   d0  NaN\n",
            "1   a1   b1   c1   d1  NaN\n",
            "2   a2   b2   c2   d2  NaN\n",
            "3   a3   b3   c3   d3  NaN\n",
            "0  NaN  NaN  NaN  NaN   n1\n",
            "1  NaN  NaN  NaN  NaN   n2\n",
            "2  NaN  NaN  NaN  NaN   n3\n",
            "3  NaN  NaN  NaN  NaN   n4\n"
          ],
          "name": "stdout"
        }
      ]
    },
    {
      "cell_type": "code",
      "metadata": {
        "colab": {
          "base_uri": "https://localhost:8080/"
        },
        "id": "7zif4UJxRu1P",
        "outputId": "52b2d660-608e-4216-9afc-444524d32b1e"
      },
      "source": [
        "new_row_df=pd.DataFrame([['n1','n2','n3','n4']],columns=['A','B','C','D'])\n",
        "print(new_row_df)"
      ],
      "execution_count": null,
      "outputs": [
        {
          "output_type": "stream",
          "text": [
            "    A   B   C   D\n",
            "0  n1  n2  n3  n4\n"
          ],
          "name": "stdout"
        }
      ]
    },
    {
      "cell_type": "code",
      "metadata": {
        "colab": {
          "base_uri": "https://localhost:8080/"
        },
        "id": "q3UeRLOCSHPk",
        "outputId": "daa6bcc5-fc7d-4737-973d-39c2dc6803d4"
      },
      "source": [
        "print(pd.concat([df1,new_row_df]))"
      ],
      "execution_count": null,
      "outputs": [
        {
          "output_type": "stream",
          "text": [
            "    A   B   C   D\n",
            "0  a0  b0  c0  d0\n",
            "1  a1  b1  c1  d1\n",
            "2  a2  b2  c2  d2\n",
            "3  a3  b3  c3  d3\n",
            "0  n1  n2  n3  n4\n"
          ],
          "name": "stdout"
        }
      ]
    },
    {
      "cell_type": "code",
      "metadata": {
        "colab": {
          "base_uri": "https://localhost:8080/"
        },
        "id": "dn0LYqhsSKEV",
        "outputId": "74b8e19a-72e1-486b-cffa-3aceb6e12b0d"
      },
      "source": [
        "print(df1.append(new_row_df))"
      ],
      "execution_count": null,
      "outputs": [
        {
          "output_type": "stream",
          "text": [
            "    A   B   C   D\n",
            "0  a0  b0  c0  d0\n",
            "1  a1  b1  c1  d1\n",
            "2  a2  b2  c2  d2\n",
            "3  a3  b3  c3  d3\n",
            "0  n1  n2  n3  n4\n"
          ],
          "name": "stdout"
        }
      ]
    },
    {
      "cell_type": "code",
      "metadata": {
        "colab": {
          "base_uri": "https://localhost:8080/"
        },
        "id": "36zsgNTOSPX6",
        "outputId": "a81dbea3-d82d-4204-a97a-ab4313be0c62"
      },
      "source": [
        "data_dict={'A':'n1','B':'n2','C':'n3','D':'n4'}\n",
        "print(df1.append(data_dict,ignore_index=True))"
      ],
      "execution_count": null,
      "outputs": [
        {
          "output_type": "stream",
          "text": [
            "    A   B   C   D\n",
            "0  a0  b0  c0  d0\n",
            "1  a1  b1  c1  d1\n",
            "2  a2  b2  c2  d2\n",
            "3  a3  b3  c3  d3\n",
            "4  n1  n2  n3  n4\n"
          ],
          "name": "stdout"
        }
      ]
    },
    {
      "cell_type": "code",
      "metadata": {
        "colab": {
          "base_uri": "https://localhost:8080/"
        },
        "id": "rCJdl920Sb3l",
        "outputId": "c9d92e8a-0f04-4708-c310-ee1d743a9d98"
      },
      "source": [
        "row_concat_i=pd.concat([df1,df2,df3],ignore_index=True)\n",
        "print(row_concat_i)"
      ],
      "execution_count": null,
      "outputs": [
        {
          "output_type": "stream",
          "text": [
            "      A    B    C    D\n",
            "0    a0   b0   c0   d0\n",
            "1    a1   b1   c1   d1\n",
            "2    a2   b2   c2   d2\n",
            "3    a3   b3   c3   d3\n",
            "4    a4   b4   c4   d4\n",
            "5    a5   b5   c5   d5\n",
            "6    a6   b6   c6   d6\n",
            "7    a7   b7   c7   d7\n",
            "8    a8   b8   c8   d8\n",
            "9    a9   b9   c9   d9\n",
            "10  a10  b10  c10  d10\n",
            "11  a11  b11  c11  d11\n"
          ],
          "name": "stdout"
        }
      ]
    },
    {
      "cell_type": "code",
      "metadata": {
        "colab": {
          "base_uri": "https://localhost:8080/"
        },
        "id": "bW9jhpkLSmh4",
        "outputId": "109621d7-396c-44da-8d35-4e96d93ab39e"
      },
      "source": [
        "col_concat=pd.concat([df1,df2,df3],axis=1)\n",
        "print(col_concat)"
      ],
      "execution_count": null,
      "outputs": [
        {
          "output_type": "stream",
          "text": [
            "    A   B   C   D   A   B   C   D    A    B    C    D\n",
            "0  a0  b0  c0  d0  a4  b4  c4  d4   a8   b8   c8   d8\n",
            "1  a1  b1  c1  d1  a5  b5  c5  d5   a9   b9   c9   d9\n",
            "2  a2  b2  c2  d2  a6  b6  c6  d6  a10  b10  c10  d10\n",
            "3  a3  b3  c3  d3  a7  b7  c7  d7  a11  b11  c11  d11\n"
          ],
          "name": "stdout"
        }
      ]
    },
    {
      "cell_type": "markdown",
      "metadata": {
        "id": "61eR-u7qUIDq"
      },
      "source": [
        ""
      ]
    },
    {
      "cell_type": "code",
      "metadata": {
        "colab": {
          "base_uri": "https://localhost:8080/"
        },
        "id": "NcAbjKUQSv2w",
        "outputId": "cd6088c7-8c6c-4081-db0a-c489754fff31"
      },
      "source": [
        "print(col_concat['A'])"
      ],
      "execution_count": null,
      "outputs": [
        {
          "output_type": "stream",
          "text": [
            "    A   A    A\n",
            "0  a0  a4   a8\n",
            "1  a1  a5   a9\n",
            "2  a2  a6  a10\n",
            "3  a3  a7  a11\n"
          ],
          "name": "stdout"
        }
      ]
    },
    {
      "cell_type": "code",
      "metadata": {
        "colab": {
          "base_uri": "https://localhost:8080/"
        },
        "id": "GKcb3KjuSyBk",
        "outputId": "8f909c06-1c24-4f51-ac1f-d6995e2928e8"
      },
      "source": [
        "col_concat['new_col_list']=['n1','n2','n3','n4']\n",
        "print(col_concat)"
      ],
      "execution_count": null,
      "outputs": [
        {
          "output_type": "stream",
          "text": [
            "    A   B   C   D   A   B   C   D    A    B    C    D new_col_list\n",
            "0  a0  b0  c0  d0  a4  b4  c4  d4   a8   b8   c8   d8           n1\n",
            "1  a1  b1  c1  d1  a5  b5  c5  d5   a9   b9   c9   d9           n2\n",
            "2  a2  b2  c2  d2  a6  b6  c6  d6  a10  b10  c10  d10           n3\n",
            "3  a3  b3  c3  d3  a7  b7  c7  d7  a11  b11  c11  d11           n4\n"
          ],
          "name": "stdout"
        }
      ]
    },
    {
      "cell_type": "code",
      "metadata": {
        "colab": {
          "base_uri": "https://localhost:8080/"
        },
        "id": "TslRuUmOS4DK",
        "outputId": "b546cc63-65d8-4f63-9a51-bb55db725a5e"
      },
      "source": [
        "print(pd.concat([df1, df2, df3], axis=1, ignore_index=True))"
      ],
      "execution_count": null,
      "outputs": [
        {
          "output_type": "stream",
          "text": [
            "   0   1   2   3   4   5   6   7    8    9    10   11\n",
            "0  a0  b0  c0  d0  a4  b4  c4  d4   a8   b8   c8   d8\n",
            "1  a1  b1  c1  d1  a5  b5  c5  d5   a9   b9   c9   d9\n",
            "2  a2  b2  c2  d2  a6  b6  c6  d6  a10  b10  c10  d10\n",
            "3  a3  b3  c3  d3  a7  b7  c7  d7  a11  b11  c11  d11\n"
          ],
          "name": "stdout"
        }
      ]
    },
    {
      "cell_type": "code",
      "metadata": {
        "colab": {
          "base_uri": "https://localhost:8080/"
        },
        "id": "k207FKSXS9XL",
        "outputId": "14517573-896b-4b67-fab8-a89125b0b6f6"
      },
      "source": [
        "df1.columns=['A','B','C','D']\n",
        "df2.columns=['e','f','g','h']\n",
        "df3.columns=['A','C','f','h']\n",
        "print(df1)\n",
        "print(type(df1))"
      ],
      "execution_count": null,
      "outputs": [
        {
          "output_type": "stream",
          "text": [
            "    A   B   C   D\n",
            "0  a0  b0  c0  d0\n",
            "1  a1  b1  c1  d1\n",
            "2  a2  b2  c2  d2\n",
            "3  a3  b3  c3  d3\n",
            "<class 'pandas.core.frame.DataFrame'>\n"
          ],
          "name": "stdout"
        }
      ]
    },
    {
      "cell_type": "code",
      "metadata": {
        "colab": {
          "base_uri": "https://localhost:8080/"
        },
        "id": "hJh70D3iTKoP",
        "outputId": "3b2dda9c-9a81-417b-c38a-cd47d250b9b4"
      },
      "source": [
        "print(df2)\n",
        "print(type(df2))\n",
        "print(df3)\n",
        "print(type(df3))"
      ],
      "execution_count": null,
      "outputs": [
        {
          "output_type": "stream",
          "text": [
            "    e   f   g   h\n",
            "0  a4  b4  c4  d4\n",
            "1  a5  b5  c5  d5\n",
            "2  a6  b6  c6  d6\n",
            "3  a7  b7  c7  d7\n",
            "<class 'pandas.core.frame.DataFrame'>\n",
            "     A    C    f    h\n",
            "0   a8   b8   c8   d8\n",
            "1   a9   b9   c9   d9\n",
            "2  a10  b10  c10  d10\n",
            "3  a11  b11  c11  d11\n",
            "<class 'pandas.core.frame.DataFrame'>\n"
          ],
          "name": "stdout"
        }
      ]
    },
    {
      "cell_type": "code",
      "metadata": {
        "colab": {
          "base_uri": "https://localhost:8080/"
        },
        "id": "LtxgccY5TPXG",
        "outputId": "04a98aa2-77ad-449c-b6f6-f4b0f4693d0a"
      },
      "source": [
        "row_concat=pd.concat([df1,df2,df3])\n",
        "print(row_concat)"
      ],
      "execution_count": null,
      "outputs": [
        {
          "output_type": "stream",
          "text": [
            "     A    B    C    D    e    f    g    h\n",
            "0   a0   b0   c0   d0  NaN  NaN  NaN  NaN\n",
            "1   a1   b1   c1   d1  NaN  NaN  NaN  NaN\n",
            "2   a2   b2   c2   d2  NaN  NaN  NaN  NaN\n",
            "3   a3   b3   c3   d3  NaN  NaN  NaN  NaN\n",
            "0  NaN  NaN  NaN  NaN   a4   b4   c4   d4\n",
            "1  NaN  NaN  NaN  NaN   a5   b5   c5   d5\n",
            "2  NaN  NaN  NaN  NaN   a6   b6   c6   d6\n",
            "3  NaN  NaN  NaN  NaN   a7   b7   c7   d7\n",
            "0   a8  NaN   b8  NaN  NaN   c8  NaN   d8\n",
            "1   a9  NaN   b9  NaN  NaN   c9  NaN   d9\n",
            "2  a10  NaN  b10  NaN  NaN  c10  NaN  d10\n",
            "3  a11  NaN  b11  NaN  NaN  c11  NaN  d11\n"
          ],
          "name": "stdout"
        }
      ]
    },
    {
      "cell_type": "code",
      "metadata": {
        "colab": {
          "base_uri": "https://localhost:8080/"
        },
        "id": "2hw5nFrNTZNN",
        "outputId": "c922e6f0-d88c-448c-c1e8-d1810092ac02"
      },
      "source": [
        "print(pd.concat([df1,df2,df3],join='inner'))"
      ],
      "execution_count": null,
      "outputs": [
        {
          "output_type": "stream",
          "text": [
            "Empty DataFrame\n",
            "Columns: []\n",
            "Index: [0, 1, 2, 3, 0, 1, 2, 3, 0, 1, 2, 3]\n"
          ],
          "name": "stdout"
        }
      ]
    },
    {
      "cell_type": "code",
      "metadata": {
        "colab": {
          "base_uri": "https://localhost:8080/"
        },
        "id": "2ijHjNQETfT7",
        "outputId": "565888ff-eb41-417e-f4a5-0ae114d648f4"
      },
      "source": [
        "print(pd.concat([df1,df3], ignore_index=False, join='inner'))"
      ],
      "execution_count": null,
      "outputs": [
        {
          "output_type": "stream",
          "text": [
            "     A    C\n",
            "0   a0   c0\n",
            "1   a1   c1\n",
            "2   a2   c2\n",
            "3   a3   c3\n",
            "0   a8   b8\n",
            "1   a9   b9\n",
            "2  a10  b10\n",
            "3  a11  b11\n"
          ],
          "name": "stdout"
        }
      ]
    },
    {
      "cell_type": "code",
      "metadata": {
        "id": "V31gkCXwTix3"
      },
      "source": [
        "df1.index = [0, 1, 2, 3]\n",
        "df2.index = [4, 5, 6, 7]\n",
        "df3.index = [0, 2, 5, 7]"
      ],
      "execution_count": null,
      "outputs": []
    },
    {
      "cell_type": "code",
      "metadata": {
        "colab": {
          "base_uri": "https://localhost:8080/"
        },
        "id": "xKLl_t53TljU",
        "outputId": "94d98ba2-fc18-4c30-f70b-9c3b56783c17"
      },
      "source": [
        "print(df1)\n",
        "print(df2)\n",
        "print(df3)"
      ],
      "execution_count": null,
      "outputs": [
        {
          "output_type": "stream",
          "text": [
            "    A   B   C   D\n",
            "0  a0  b0  c0  d0\n",
            "1  a1  b1  c1  d1\n",
            "2  a2  b2  c2  d2\n",
            "3  a3  b3  c3  d3\n",
            "    e   f   g   h\n",
            "4  a4  b4  c4  d4\n",
            "5  a5  b5  c5  d5\n",
            "6  a6  b6  c6  d6\n",
            "7  a7  b7  c7  d7\n",
            "     A    C    f    h\n",
            "0   a8   b8   c8   d8\n",
            "2   a9   b9   c9   d9\n",
            "5  a10  b10  c10  d10\n",
            "7  a11  b11  c11  d11\n"
          ],
          "name": "stdout"
        }
      ]
    },
    {
      "cell_type": "code",
      "metadata": {
        "colab": {
          "base_uri": "https://localhost:8080/"
        },
        "id": "PXI9bKXATqD8",
        "outputId": "f58400b7-6561-4f89-a72c-48188606566c"
      },
      "source": [
        "col_concat = pd.concat([df1, df2, df3], axis=1)\n",
        "print(col_concat)"
      ],
      "execution_count": null,
      "outputs": [
        {
          "output_type": "stream",
          "text": [
            "     A    B    C    D    e    f    g    h    A    C    f    h\n",
            "0   a0   b0   c0   d0  NaN  NaN  NaN  NaN   a8   b8   c8   d8\n",
            "1   a1   b1   c1   d1  NaN  NaN  NaN  NaN  NaN  NaN  NaN  NaN\n",
            "2   a2   b2   c2   d2  NaN  NaN  NaN  NaN   a9   b9   c9   d9\n",
            "3   a3   b3   c3   d3  NaN  NaN  NaN  NaN  NaN  NaN  NaN  NaN\n",
            "4  NaN  NaN  NaN  NaN   a4   b4   c4   d4  NaN  NaN  NaN  NaN\n",
            "5  NaN  NaN  NaN  NaN   a5   b5   c5   d5  a10  b10  c10  d10\n",
            "6  NaN  NaN  NaN  NaN   a6   b6   c6   d6  NaN  NaN  NaN  NaN\n",
            "7  NaN  NaN  NaN  NaN   a7   b7   c7   d7  a11  b11  c11  d11\n"
          ],
          "name": "stdout"
        }
      ]
    },
    {
      "cell_type": "code",
      "metadata": {
        "colab": {
          "base_uri": "https://localhost:8080/"
        },
        "id": "XkkulAY9UV19",
        "outputId": "2bfe6f30-2200-4ad8-ea4f-3dcc241d7261"
      },
      "source": [
        "print(pd.concat([df1,df3],axis=1,join='inner'))"
      ],
      "execution_count": null,
      "outputs": [
        {
          "output_type": "stream",
          "text": [
            "    A   B   C   D   A   C   f   h\n",
            "0  a0  b0  c0  d0  a8  b8  c8  d8\n",
            "2  a2  b2  c2  d2  a9  b9  c9  d9\n"
          ],
          "name": "stdout"
        }
      ]
    },
    {
      "cell_type": "code",
      "metadata": {
        "colab": {
          "base_uri": "https://localhost:8080/",
          "height": 166
        },
        "id": "svK6359NUfLj",
        "outputId": "62926c01-658f-4ab7-e2a0-d0af1319888d"
      },
      "source": [
        "df1"
      ],
      "execution_count": null,
      "outputs": [
        {
          "output_type": "execute_result",
          "data": {
            "text/html": [
              "<div>\n",
              "<style scoped>\n",
              "    .dataframe tbody tr th:only-of-type {\n",
              "        vertical-align: middle;\n",
              "    }\n",
              "\n",
              "    .dataframe tbody tr th {\n",
              "        vertical-align: top;\n",
              "    }\n",
              "\n",
              "    .dataframe thead th {\n",
              "        text-align: right;\n",
              "    }\n",
              "</style>\n",
              "<table border=\"1\" class=\"dataframe\">\n",
              "  <thead>\n",
              "    <tr style=\"text-align: right;\">\n",
              "      <th></th>\n",
              "      <th>A</th>\n",
              "      <th>B</th>\n",
              "      <th>C</th>\n",
              "      <th>D</th>\n",
              "    </tr>\n",
              "  </thead>\n",
              "  <tbody>\n",
              "    <tr>\n",
              "      <th>0</th>\n",
              "      <td>a0</td>\n",
              "      <td>b0</td>\n",
              "      <td>c0</td>\n",
              "      <td>d0</td>\n",
              "    </tr>\n",
              "    <tr>\n",
              "      <th>1</th>\n",
              "      <td>a1</td>\n",
              "      <td>b1</td>\n",
              "      <td>c1</td>\n",
              "      <td>d1</td>\n",
              "    </tr>\n",
              "    <tr>\n",
              "      <th>2</th>\n",
              "      <td>a2</td>\n",
              "      <td>b2</td>\n",
              "      <td>c2</td>\n",
              "      <td>d2</td>\n",
              "    </tr>\n",
              "    <tr>\n",
              "      <th>3</th>\n",
              "      <td>a3</td>\n",
              "      <td>b3</td>\n",
              "      <td>c3</td>\n",
              "      <td>d3</td>\n",
              "    </tr>\n",
              "  </tbody>\n",
              "</table>\n",
              "</div>"
            ],
            "text/plain": [
              "    A   B   C   D\n",
              "0  a0  b0  c0  d0\n",
              "1  a1  b1  c1  d1\n",
              "2  a2  b2  c2  d2\n",
              "3  a3  b3  c3  d3"
            ]
          },
          "metadata": {
            "tags": []
          },
          "execution_count": 76
        }
      ]
    },
    {
      "cell_type": "code",
      "metadata": {
        "id": "k59vKEKSUnYF"
      },
      "source": [
        "person = pd.read_csv('/content/drive/MyDrive/survey_person.csv')\n",
        "site = pd.read_csv('/content/drive/MyDrive/survey_site.csv')\n",
        "survey = pd.read_csv('/content/drive/MyDrive/survey_survey.csv')\n",
        "visited = pd.read_csv('/content/drive/MyDrive/survey_visited.csv')"
      ],
      "execution_count": null,
      "outputs": []
    },
    {
      "cell_type": "code",
      "metadata": {
        "colab": {
          "base_uri": "https://localhost:8080/"
        },
        "id": "nK0U0w2EVE2c",
        "outputId": "b5f559a4-cb76-4d49-8be8-78f3aed15d84"
      },
      "source": [
        "print(person)"
      ],
      "execution_count": null,
      "outputs": [
        {
          "output_type": "stream",
          "text": [
            "      ident   personal    family\n",
            "0      dyer    William      Dyer\n",
            "1        pb      Frank   Pabodie\n",
            "2      lake   Anderson      Lake\n",
            "3       roe  Valentina   Roerich\n",
            "4  danforth      Frank  Danforth\n"
          ],
          "name": "stdout"
        }
      ]
    },
    {
      "cell_type": "code",
      "metadata": {
        "colab": {
          "base_uri": "https://localhost:8080/"
        },
        "id": "41b0StoVVGvL",
        "outputId": "c7264cff-918a-4dc7-922e-a9cb0d4b91c0"
      },
      "source": [
        "print(site)"
      ],
      "execution_count": null,
      "outputs": [
        {
          "output_type": "stream",
          "text": [
            "    name    lat    long\n",
            "0   DR-1 -49.85 -128.57\n",
            "1   DR-3 -47.15 -126.72\n",
            "2  MSK-4 -48.87 -123.40\n"
          ],
          "name": "stdout"
        }
      ]
    },
    {
      "cell_type": "code",
      "metadata": {
        "colab": {
          "base_uri": "https://localhost:8080/"
        },
        "id": "-k1ejG0SVHhZ",
        "outputId": "6aee4394-c05b-49bf-b1bd-be5be1fe396c"
      },
      "source": [
        "print(survey);print(visited)"
      ],
      "execution_count": null,
      "outputs": [
        {
          "output_type": "stream",
          "text": [
            "    taken person quant  reading\n",
            "0     619   dyer   rad     9.82\n",
            "1     619   dyer   sal     0.13\n",
            "2     622   dyer   rad     7.80\n",
            "3     622   dyer   sal     0.09\n",
            "4     734     pb   rad     8.41\n",
            "5     734   lake   sal     0.05\n",
            "6     734     pb  temp   -21.50\n",
            "7     735     pb   rad     7.22\n",
            "8     735    NaN   sal     0.06\n",
            "9     735    NaN  temp   -26.00\n",
            "10    751     pb   rad     4.35\n",
            "11    751     pb  temp   -18.50\n",
            "12    751   lake   sal     0.10\n",
            "13    752   lake   rad     2.19\n",
            "14    752   lake   sal     0.09\n",
            "15    752   lake  temp   -16.00\n",
            "16    752    roe   sal    41.60\n",
            "17    837   lake   rad     1.46\n",
            "18    837   lake   sal     0.21\n",
            "19    837    roe   sal    22.50\n",
            "20    844    roe   rad    11.25\n",
            "   ident   site       dated\n",
            "0    619   DR-1  1927-02-08\n",
            "1    622   DR-1  1927-02-10\n",
            "2    734   DR-3  1939-01-07\n",
            "3    735   DR-3  1930-01-12\n",
            "4    751   DR-3  1930-02-26\n",
            "5    752   DR-3         NaN\n",
            "6    837  MSK-4  1932-01-14\n",
            "7    844   DR-1  1932-03-22\n"
          ],
          "name": "stdout"
        }
      ]
    },
    {
      "cell_type": "code",
      "metadata": {
        "colab": {
          "base_uri": "https://localhost:8080/"
        },
        "id": "OK3ZtXXCVJNF",
        "outputId": "94bc69df-c895-4785-84f8-db8295bee03d"
      },
      "source": [
        "visited_subset=visited.loc[[0,2,6],]\n",
        "print(visited_subset)"
      ],
      "execution_count": null,
      "outputs": [
        {
          "output_type": "stream",
          "text": [
            "   ident   site       dated\n",
            "0    619   DR-1  1927-02-08\n",
            "2    734   DR-3  1939-01-07\n",
            "6    837  MSK-4  1932-01-14\n"
          ],
          "name": "stdout"
        }
      ]
    },
    {
      "cell_type": "code",
      "metadata": {
        "colab": {
          "base_uri": "https://localhost:8080/"
        },
        "id": "reRopOobVOhb",
        "outputId": "f6a3341c-a922-4fc7-f324-dc2aa4f41e44"
      },
      "source": [
        "o2o_merge=site.merge(visited_subset,left_on='name',right_on='site')\n",
        "print(o2o_merge)"
      ],
      "execution_count": null,
      "outputs": [
        {
          "output_type": "stream",
          "text": [
            "    name    lat    long  ident   site       dated\n",
            "0   DR-1 -49.85 -128.57    619   DR-1  1927-02-08\n",
            "1   DR-3 -47.15 -126.72    734   DR-3  1939-01-07\n",
            "2  MSK-4 -48.87 -123.40    837  MSK-4  1932-01-14\n"
          ],
          "name": "stdout"
        }
      ]
    },
    {
      "cell_type": "code",
      "metadata": {
        "colab": {
          "base_uri": "https://localhost:8080/"
        },
        "id": "-5YIjogGVY3a",
        "outputId": "eb69fbf0-90e0-44e1-8c05-73acf7f60a1b"
      },
      "source": [
        "m2o_merge=site.merge(visited,left_on='name',right_on='site')\n",
        "print(m2o_merge)"
      ],
      "execution_count": null,
      "outputs": [
        {
          "output_type": "stream",
          "text": [
            "    name    lat    long  ident   site       dated\n",
            "0   DR-1 -49.85 -128.57    619   DR-1  1927-02-08\n",
            "1   DR-1 -49.85 -128.57    622   DR-1  1927-02-10\n",
            "2   DR-1 -49.85 -128.57    844   DR-1  1932-03-22\n",
            "3   DR-3 -47.15 -126.72    734   DR-3  1939-01-07\n",
            "4   DR-3 -47.15 -126.72    735   DR-3  1930-01-12\n",
            "5   DR-3 -47.15 -126.72    751   DR-3  1930-02-26\n",
            "6   DR-3 -47.15 -126.72    752   DR-3         NaN\n",
            "7  MSK-4 -48.87 -123.40    837  MSK-4  1932-01-14\n"
          ],
          "name": "stdout"
        }
      ]
    },
    {
      "cell_type": "code",
      "metadata": {
        "id": "XZZh1wYSVqWn"
      },
      "source": [
        "ps=person.merge(survey,left_on='ident',right_on='person')\n",
        "vs=visited.merge(survey,left_on='ident',right_on='taken')"
      ],
      "execution_count": null,
      "outputs": []
    },
    {
      "cell_type": "code",
      "metadata": {
        "colab": {
          "base_uri": "https://localhost:8080/"
        },
        "id": "3xT3CGicV0bt",
        "outputId": "8641b230-f215-45c6-aea6-d5ccd6ca7027"
      },
      "source": [
        "print(ps)\n",
        "print(vs)"
      ],
      "execution_count": null,
      "outputs": [
        {
          "output_type": "stream",
          "text": [
            "   ident   personal   family  taken person quant  reading\n",
            "0   dyer    William     Dyer    619   dyer   rad     9.82\n",
            "1   dyer    William     Dyer    619   dyer   sal     0.13\n",
            "2   dyer    William     Dyer    622   dyer   rad     7.80\n",
            "3   dyer    William     Dyer    622   dyer   sal     0.09\n",
            "4     pb      Frank  Pabodie    734     pb   rad     8.41\n",
            "5     pb      Frank  Pabodie    734     pb  temp   -21.50\n",
            "6     pb      Frank  Pabodie    735     pb   rad     7.22\n",
            "7     pb      Frank  Pabodie    751     pb   rad     4.35\n",
            "8     pb      Frank  Pabodie    751     pb  temp   -18.50\n",
            "9   lake   Anderson     Lake    734   lake   sal     0.05\n",
            "10  lake   Anderson     Lake    751   lake   sal     0.10\n",
            "11  lake   Anderson     Lake    752   lake   rad     2.19\n",
            "12  lake   Anderson     Lake    752   lake   sal     0.09\n",
            "13  lake   Anderson     Lake    752   lake  temp   -16.00\n",
            "14  lake   Anderson     Lake    837   lake   rad     1.46\n",
            "15  lake   Anderson     Lake    837   lake   sal     0.21\n",
            "16   roe  Valentina  Roerich    752    roe   sal    41.60\n",
            "17   roe  Valentina  Roerich    837    roe   sal    22.50\n",
            "18   roe  Valentina  Roerich    844    roe   rad    11.25\n",
            "    ident   site       dated  taken person quant  reading\n",
            "0     619   DR-1  1927-02-08    619   dyer   rad     9.82\n",
            "1     619   DR-1  1927-02-08    619   dyer   sal     0.13\n",
            "2     622   DR-1  1927-02-10    622   dyer   rad     7.80\n",
            "3     622   DR-1  1927-02-10    622   dyer   sal     0.09\n",
            "4     734   DR-3  1939-01-07    734     pb   rad     8.41\n",
            "5     734   DR-3  1939-01-07    734   lake   sal     0.05\n",
            "6     734   DR-3  1939-01-07    734     pb  temp   -21.50\n",
            "7     735   DR-3  1930-01-12    735     pb   rad     7.22\n",
            "8     735   DR-3  1930-01-12    735    NaN   sal     0.06\n",
            "9     735   DR-3  1930-01-12    735    NaN  temp   -26.00\n",
            "10    751   DR-3  1930-02-26    751     pb   rad     4.35\n",
            "11    751   DR-3  1930-02-26    751     pb  temp   -18.50\n",
            "12    751   DR-3  1930-02-26    751   lake   sal     0.10\n",
            "13    752   DR-3         NaN    752   lake   rad     2.19\n",
            "14    752   DR-3         NaN    752   lake   sal     0.09\n",
            "15    752   DR-3         NaN    752   lake  temp   -16.00\n",
            "16    752   DR-3         NaN    752    roe   sal    41.60\n",
            "17    837  MSK-4  1932-01-14    837   lake   rad     1.46\n",
            "18    837  MSK-4  1932-01-14    837   lake   sal     0.21\n",
            "19    837  MSK-4  1932-01-14    837    roe   sal    22.50\n",
            "20    844   DR-1  1932-03-22    844    roe   rad    11.25\n"
          ],
          "name": "stdout"
        }
      ]
    },
    {
      "cell_type": "code",
      "metadata": {
        "id": "m_6AHmZ8V1su"
      },
      "source": [
        "ps_vs = ps.merge(vs, left_on=['ident', 'taken', 'quant', 'reading'],\n",
        "right_on=['person', 'ident', 'quant', 'reading'])"
      ],
      "execution_count": null,
      "outputs": []
    },
    {
      "cell_type": "code",
      "metadata": {
        "colab": {
          "base_uri": "https://localhost:8080/"
        },
        "id": "_WJDOy5pV7IS",
        "outputId": "4be91919-6c76-4d8b-ad89-9a7fdc0beb9a"
      },
      "source": [
        "print(ps_vs.loc[0,])"
      ],
      "execution_count": null,
      "outputs": [
        {
          "output_type": "stream",
          "text": [
            "ident_x           dyer\n",
            "personal       William\n",
            "family            Dyer\n",
            "taken_x            619\n",
            "person_x          dyer\n",
            "quant              rad\n",
            "reading           9.82\n",
            "ident_y            619\n",
            "site              DR-1\n",
            "dated       1927-02-08\n",
            "taken_y            619\n",
            "person_y          dyer\n",
            "Name: 0, dtype: object\n"
          ],
          "name": "stdout"
        }
      ]
    },
    {
      "cell_type": "code",
      "metadata": {
        "colab": {
          "base_uri": "https://localhost:8080/"
        },
        "id": "kGCZBsRsV9Ll",
        "outputId": "eeed4229-8c48-4cc9-d758-2528cf5b874a"
      },
      "source": [
        "from numpy import NaN,NAN,nan\n",
        "print(NaN==True)\n",
        "print(NaN==False)\n",
        "print(NaN==0)\n",
        "print(NaN=='')"
      ],
      "execution_count": null,
      "outputs": [
        {
          "output_type": "stream",
          "text": [
            "False\n",
            "False\n",
            "False\n",
            "False\n"
          ],
          "name": "stdout"
        }
      ]
    },
    {
      "cell_type": "code",
      "metadata": {
        "colab": {
          "base_uri": "https://localhost:8080/"
        },
        "id": "GPjJat-NWQVt",
        "outputId": "e7b60419-8594-48aa-e927-431acd0fdfca"
      },
      "source": [
        "print(NaN==NaN)"
      ],
      "execution_count": null,
      "outputs": [
        {
          "output_type": "stream",
          "text": [
            "False\n"
          ],
          "name": "stdout"
        }
      ]
    },
    {
      "cell_type": "code",
      "metadata": {
        "colab": {
          "base_uri": "https://localhost:8080/"
        },
        "id": "llj7cGXtWSgk",
        "outputId": "1ab82a7d-a00a-4121-af7b-f96909abf125"
      },
      "source": [
        "print(pd.isnull(NaN))\n",
        "print(pd.isnull(nan))\n",
        "print(pd.isnull(NAN))"
      ],
      "execution_count": null,
      "outputs": [
        {
          "output_type": "stream",
          "text": [
            "True\n",
            "True\n",
            "True\n"
          ],
          "name": "stdout"
        }
      ]
    },
    {
      "cell_type": "code",
      "metadata": {
        "colab": {
          "base_uri": "https://localhost:8080/"
        },
        "id": "rWeam4h-WVg4",
        "outputId": "710b3213-0285-4002-b245-c639f61c603e"
      },
      "source": [
        "print(pd.notnull(NaN))\n",
        "print(pd.notnull(42))\n",
        "print(pd.notnull('missing'))"
      ],
      "execution_count": null,
      "outputs": [
        {
          "output_type": "stream",
          "text": [
            "False\n",
            "True\n",
            "True\n"
          ],
          "name": "stdout"
        }
      ]
    },
    {
      "cell_type": "code",
      "metadata": {
        "colab": {
          "base_uri": "https://localhost:8080/"
        },
        "id": "odcHbs6tWZUT",
        "outputId": "8bca2f05-53e9-4724-ae23-baeb5adb8b0f"
      },
      "source": [
        "vs=visited.merge(survey,left_on='ident',right_on='taken')\n",
        "print(vs)"
      ],
      "execution_count": null,
      "outputs": [
        {
          "output_type": "stream",
          "text": [
            "    ident   site       dated  taken person quant  reading\n",
            "0     619   DR-1  1927-02-08    619   dyer   rad     9.82\n",
            "1     619   DR-1  1927-02-08    619   dyer   sal     0.13\n",
            "2     622   DR-1  1927-02-10    622   dyer   rad     7.80\n",
            "3     622   DR-1  1927-02-10    622   dyer   sal     0.09\n",
            "4     734   DR-3  1939-01-07    734     pb   rad     8.41\n",
            "5     734   DR-3  1939-01-07    734   lake   sal     0.05\n",
            "6     734   DR-3  1939-01-07    734     pb  temp   -21.50\n",
            "7     735   DR-3  1930-01-12    735     pb   rad     7.22\n",
            "8     735   DR-3  1930-01-12    735    NaN   sal     0.06\n",
            "9     735   DR-3  1930-01-12    735    NaN  temp   -26.00\n",
            "10    751   DR-3  1930-02-26    751     pb   rad     4.35\n",
            "11    751   DR-3  1930-02-26    751     pb  temp   -18.50\n",
            "12    751   DR-3  1930-02-26    751   lake   sal     0.10\n",
            "13    752   DR-3         NaN    752   lake   rad     2.19\n",
            "14    752   DR-3         NaN    752   lake   sal     0.09\n",
            "15    752   DR-3         NaN    752   lake  temp   -16.00\n",
            "16    752   DR-3         NaN    752    roe   sal    41.60\n",
            "17    837  MSK-4  1932-01-14    837   lake   rad     1.46\n",
            "18    837  MSK-4  1932-01-14    837   lake   sal     0.21\n",
            "19    837  MSK-4  1932-01-14    837    roe   sal    22.50\n",
            "20    844   DR-1  1932-03-22    844    roe   rad    11.25\n"
          ],
          "name": "stdout"
        }
      ]
    },
    {
      "cell_type": "code",
      "metadata": {
        "id": "PTlKQoaoWg5C"
      },
      "source": [
        "gapminder = pd.read_csv('/content/drive/MyDrive/gapminder.tsv'\n",
        ", sep='\\t')"
      ],
      "execution_count": null,
      "outputs": []
    },
    {
      "cell_type": "code",
      "metadata": {
        "colab": {
          "base_uri": "https://localhost:8080/"
        },
        "id": "8HbiQalqWmF0",
        "outputId": "a5582fcf-2d44-4e2f-fee5-0db438d7fdc6"
      },
      "source": [
        "life_exp = gapminder.groupby(['year'])['lifeExp'].mean()\n",
        "print(life_exp)"
      ],
      "execution_count": null,
      "outputs": [
        {
          "output_type": "stream",
          "text": [
            "year\n",
            "1952    49.057620\n",
            "1957    51.507401\n",
            "1962    53.609249\n",
            "1967    55.678290\n",
            "1972    57.647386\n",
            "1977    59.570157\n",
            "1982    61.533197\n",
            "1987    63.212613\n",
            "1992    64.160338\n",
            "1997    65.014676\n",
            "2002    65.694923\n",
            "2007    67.007423\n",
            "Name: lifeExp, dtype: float64\n"
          ],
          "name": "stdout"
        }
      ]
    },
    {
      "cell_type": "code",
      "metadata": {
        "colab": {
          "base_uri": "https://localhost:8080/"
        },
        "id": "EVArp12mWoOC",
        "outputId": "1e1991db-aba6-449b-b4fd-8a286604d752"
      },
      "source": [
        "y2000=life_exp[life_exp.index>2000]\n",
        "print(y2000)"
      ],
      "execution_count": null,
      "outputs": [
        {
          "output_type": "stream",
          "text": [
            "year\n",
            "2002    65.694923\n",
            "2007    67.007423\n",
            "Name: lifeExp, dtype: float64\n"
          ],
          "name": "stdout"
        }
      ]
    },
    {
      "cell_type": "code",
      "metadata": {
        "id": "O8TTgWHNWtYi"
      },
      "source": [
        "ebola=pd.read_csv('/content/drive/MyDrive/country_timeseries.csv')"
      ],
      "execution_count": null,
      "outputs": []
    },
    {
      "cell_type": "code",
      "metadata": {
        "colab": {
          "base_uri": "https://localhost:8080/"
        },
        "id": "rw8QIjMSW_kk",
        "outputId": "72ab5581-ab2d-4680-de42-ea99541c9065"
      },
      "source": [
        "print(ebola.count())"
      ],
      "execution_count": null,
      "outputs": [
        {
          "output_type": "stream",
          "text": [
            "Date                   122\n",
            "Day                    122\n",
            "Cases_Guinea            93\n",
            "Cases_Liberia           83\n",
            "Cases_SierraLeone       87\n",
            "Cases_Nigeria           38\n",
            "Cases_Senegal           25\n",
            "Cases_UnitedStates      18\n",
            "Cases_Spain             16\n",
            "Cases_Mali              12\n",
            "Deaths_Guinea           92\n",
            "Deaths_Liberia          81\n",
            "Deaths_SierraLeone      87\n",
            "Deaths_Nigeria          38\n",
            "Deaths_Senegal          22\n",
            "Deaths_UnitedStates     18\n",
            "Deaths_Spain            16\n",
            "Deaths_Mali             12\n",
            "dtype: int64\n"
          ],
          "name": "stdout"
        }
      ]
    },
    {
      "cell_type": "code",
      "metadata": {
        "colab": {
          "base_uri": "https://localhost:8080/"
        },
        "id": "ZJzH2ktVXBih",
        "outputId": "6cd3dad9-3cbf-4be5-d155-d943509ad4f5"
      },
      "source": [
        "num_rows=ebola.shape[0]\n",
        "num_missing=num_rows-ebola.count()\n",
        "print(num_missing)"
      ],
      "execution_count": null,
      "outputs": [
        {
          "output_type": "stream",
          "text": [
            "Date                     0\n",
            "Day                      0\n",
            "Cases_Guinea            29\n",
            "Cases_Liberia           39\n",
            "Cases_SierraLeone       35\n",
            "Cases_Nigeria           84\n",
            "Cases_Senegal           97\n",
            "Cases_UnitedStates     104\n",
            "Cases_Spain            106\n",
            "Cases_Mali             110\n",
            "Deaths_Guinea           30\n",
            "Deaths_Liberia          41\n",
            "Deaths_SierraLeone      35\n",
            "Deaths_Nigeria          84\n",
            "Deaths_Senegal         100\n",
            "Deaths_UnitedStates    104\n",
            "Deaths_Spain           106\n",
            "Deaths_Mali            110\n",
            "dtype: int64\n"
          ],
          "name": "stdout"
        }
      ]
    },
    {
      "cell_type": "code",
      "metadata": {
        "colab": {
          "base_uri": "https://localhost:8080/"
        },
        "id": "aKSNwgtcXJGA",
        "outputId": "9c0979a8-6092-4eec-a320-4d63f5b46cb5"
      },
      "source": [
        "import numpy as np\n",
        "print(np.count_nonzero(ebola.isnull()))\n",
        "print(np.count_nonzero(ebola['Cases_Guinea'].isnull()))"
      ],
      "execution_count": null,
      "outputs": [
        {
          "output_type": "stream",
          "text": [
            "1214\n",
            "29\n"
          ],
          "name": "stdout"
        }
      ]
    },
    {
      "cell_type": "code",
      "metadata": {
        "colab": {
          "base_uri": "https://localhost:8080/"
        },
        "id": "alrdzIyzXVAc",
        "outputId": "66773aa7-f496-4ec2-82d1-acde3fc86ce3"
      },
      "source": [
        "ebola['Cases_Guinea'].isnull()"
      ],
      "execution_count": null,
      "outputs": [
        {
          "output_type": "execute_result",
          "data": {
            "text/plain": [
              "0      False\n",
              "1      False\n",
              "2      False\n",
              "3       True\n",
              "4      False\n",
              "       ...  \n",
              "117    False\n",
              "118    False\n",
              "119    False\n",
              "120    False\n",
              "121    False\n",
              "Name: Cases_Guinea, Length: 122, dtype: bool"
            ]
          },
          "metadata": {
            "tags": []
          },
          "execution_count": 102
        }
      ]
    },
    {
      "cell_type": "code",
      "metadata": {
        "colab": {
          "base_uri": "https://localhost:8080/"
        },
        "id": "UGHmVjRuXVWu",
        "outputId": "c09393b1-6faa-4274-f948-a2fec742e681"
      },
      "source": [
        "print(ebola.Cases_Guinea.value_counts(dropna=False).head())"
      ],
      "execution_count": null,
      "outputs": [
        {
          "output_type": "stream",
          "text": [
            "NaN      29\n",
            "86.0      3\n",
            "495.0     2\n",
            "112.0     2\n",
            "390.0     2\n",
            "Name: Cases_Guinea, dtype: int64\n"
          ],
          "name": "stdout"
        }
      ]
    },
    {
      "cell_type": "code",
      "metadata": {
        "colab": {
          "base_uri": "https://localhost:8080/"
        },
        "id": "y3nOIYaaXtxn",
        "outputId": "95cec642-fe19-42c1-9601-d86950d803c6"
      },
      "source": [
        "print(ebola.fillna(0).iloc[:10,:5])"
      ],
      "execution_count": null,
      "outputs": [
        {
          "output_type": "stream",
          "text": [
            "         Date  Day  Cases_Guinea  Cases_Liberia  Cases_SierraLeone\n",
            "0    1/5/2015  289        2776.0            0.0            10030.0\n",
            "1    1/4/2015  288        2775.0            0.0             9780.0\n",
            "2    1/3/2015  287        2769.0         8166.0             9722.0\n",
            "3    1/2/2015  286           0.0         8157.0                0.0\n",
            "4  12/31/2014  284        2730.0         8115.0             9633.0\n",
            "5  12/28/2014  281        2706.0         8018.0             9446.0\n",
            "6  12/27/2014  280        2695.0            0.0             9409.0\n",
            "7  12/24/2014  277        2630.0         7977.0             9203.0\n",
            "8  12/21/2014  273        2597.0            0.0             9004.0\n",
            "9  12/20/2014  272        2571.0         7862.0             8939.0\n"
          ],
          "name": "stdout"
        }
      ]
    },
    {
      "cell_type": "code",
      "metadata": {
        "colab": {
          "base_uri": "https://localhost:8080/"
        },
        "id": "oJzM7xqvYQ4c",
        "outputId": "1d67fea6-1cb9-4117-a355-8de1d60317c8"
      },
      "source": [
        "print(ebola.fillna(method='ffill').iloc[:10,:5])"
      ],
      "execution_count": null,
      "outputs": [
        {
          "output_type": "stream",
          "text": [
            "         Date  Day  Cases_Guinea  Cases_Liberia  Cases_SierraLeone\n",
            "0    1/5/2015  289        2776.0            NaN            10030.0\n",
            "1    1/4/2015  288        2775.0            NaN             9780.0\n",
            "2    1/3/2015  287        2769.0         8166.0             9722.0\n",
            "3    1/2/2015  286        2769.0         8157.0             9722.0\n",
            "4  12/31/2014  284        2730.0         8115.0             9633.0\n",
            "5  12/28/2014  281        2706.0         8018.0             9446.0\n",
            "6  12/27/2014  280        2695.0         8018.0             9409.0\n",
            "7  12/24/2014  277        2630.0         7977.0             9203.0\n",
            "8  12/21/2014  273        2597.0         7977.0             9004.0\n",
            "9  12/20/2014  272        2571.0         7862.0             8939.0\n"
          ],
          "name": "stdout"
        }
      ]
    },
    {
      "cell_type": "code",
      "metadata": {
        "colab": {
          "base_uri": "https://localhost:8080/"
        },
        "id": "43N3s2X6YXKI",
        "outputId": "6a8f90ea-82db-4131-be17-b33068447dc1"
      },
      "source": [
        "print(ebola.fillna(method='bfill').iloc[-6:,:5])"
      ],
      "execution_count": null,
      "outputs": [
        {
          "output_type": "stream",
          "text": [
            "          Date  Day  Cases_Guinea  Cases_Liberia  Cases_SierraLeone\n",
            "116  3/28/2014    6         112.0            3.0                2.0\n",
            "117  3/27/2014    5         103.0            8.0                6.0\n",
            "118  3/26/2014    4          86.0            NaN                NaN\n",
            "119  3/25/2014    3          86.0            NaN                NaN\n",
            "120  3/24/2014    2          86.0            NaN                NaN\n",
            "121  3/22/2014    0          49.0            NaN                NaN\n"
          ],
          "name": "stdout"
        }
      ]
    },
    {
      "cell_type": "code",
      "metadata": {
        "colab": {
          "base_uri": "https://localhost:8080/"
        },
        "id": "LkHQZNphYdlm",
        "outputId": "70c19b03-e715-4a0b-c2b0-8544c193775a"
      },
      "source": [
        "print(ebola.interpolate().iloc[0:10, 0:5])"
      ],
      "execution_count": null,
      "outputs": [
        {
          "output_type": "stream",
          "text": [
            "         Date  Day  Cases_Guinea  Cases_Liberia  Cases_SierraLeone\n",
            "0    1/5/2015  289        2776.0            NaN            10030.0\n",
            "1    1/4/2015  288        2775.0            NaN             9780.0\n",
            "2    1/3/2015  287        2769.0         8166.0             9722.0\n",
            "3    1/2/2015  286        2749.5         8157.0             9677.5\n",
            "4  12/31/2014  284        2730.0         8115.0             9633.0\n",
            "5  12/28/2014  281        2706.0         8018.0             9446.0\n",
            "6  12/27/2014  280        2695.0         7997.5             9409.0\n",
            "7  12/24/2014  277        2630.0         7977.0             9203.0\n",
            "8  12/21/2014  273        2597.0         7919.5             9004.0\n",
            "9  12/20/2014  272        2571.0         7862.0             8939.0\n"
          ],
          "name": "stdout"
        }
      ]
    },
    {
      "cell_type": "code",
      "metadata": {
        "colab": {
          "base_uri": "https://localhost:8080/"
        },
        "id": "zdG8qp4uYhVh",
        "outputId": "b02e6249-6ca6-44bc-9e24-c21e7983d2b5"
      },
      "source": [
        "print(ebola.shape)"
      ],
      "execution_count": null,
      "outputs": [
        {
          "output_type": "stream",
          "text": [
            "(122, 18)\n"
          ],
          "name": "stdout"
        }
      ]
    },
    {
      "cell_type": "code",
      "metadata": {
        "colab": {
          "base_uri": "https://localhost:8080/"
        },
        "id": "spgAxVrmYjkJ",
        "outputId": "d61f8e46-2046-4627-a63a-be5197466ae5"
      },
      "source": [
        "ebola_dropna = ebola.dropna()\n",
        "print(ebola_dropna.shape)\n",
        "print(ebola_dropna)"
      ],
      "execution_count": null,
      "outputs": [
        {
          "output_type": "stream",
          "text": [
            "(1, 18)\n",
            "          Date  Day  ...  Deaths_Spain  Deaths_Mali\n",
            "19  11/18/2014  241  ...           0.0          6.0\n",
            "\n",
            "[1 rows x 18 columns]\n"
          ],
          "name": "stdout"
        }
      ]
    },
    {
      "cell_type": "code",
      "metadata": {
        "id": "2kfX_npuYoRr"
      },
      "source": [
        "ebola['Cases_multiple'] = ebola['Cases_Guinea'] + ebola['Cases_Liberia'] + ebola['Cases_SierraLeone']"
      ],
      "execution_count": null,
      "outputs": []
    },
    {
      "cell_type": "code",
      "metadata": {
        "id": "E0Na0ZY2YsGg"
      },
      "source": [
        "ebola_subset = ebola.loc[:, ['Cases_Guinea',\n",
        "'Cases_Liberia',\n",
        "'Cases_SierraLeone',\n",
        "'Cases_multiple']]"
      ],
      "execution_count": null,
      "outputs": []
    },
    {
      "cell_type": "code",
      "metadata": {
        "colab": {
          "base_uri": "https://localhost:8080/"
        },
        "id": "dyD8eWuxYuuv",
        "outputId": "a5612536-9525-43ac-d73a-e347f4f47f42"
      },
      "source": [
        "print(ebola_subset.head(n=10))"
      ],
      "execution_count": null,
      "outputs": [
        {
          "output_type": "stream",
          "text": [
            "   Cases_Guinea  Cases_Liberia  Cases_SierraLeone  Cases_multiple\n",
            "0        2776.0            NaN            10030.0             NaN\n",
            "1        2775.0            NaN             9780.0             NaN\n",
            "2        2769.0         8166.0             9722.0         20657.0\n",
            "3           NaN         8157.0                NaN             NaN\n",
            "4        2730.0         8115.0             9633.0         20478.0\n",
            "5        2706.0         8018.0             9446.0         20170.0\n",
            "6        2695.0            NaN             9409.0             NaN\n",
            "7        2630.0         7977.0             9203.0         19810.0\n",
            "8        2597.0            NaN             9004.0             NaN\n",
            "9        2571.0         7862.0             8939.0         19372.0\n"
          ],
          "name": "stdout"
        }
      ]
    },
    {
      "cell_type": "code",
      "metadata": {
        "colab": {
          "base_uri": "https://localhost:8080/"
        },
        "id": "3DHtA-VSYyaJ",
        "outputId": "ca4a287c-6595-44a1-c8ce-6a6eab190a6c"
      },
      "source": [
        "print(ebola.Cases_Guinea.sum(skipna=True))"
      ],
      "execution_count": null,
      "outputs": [
        {
          "output_type": "stream",
          "text": [
            "84729.0\n"
          ],
          "name": "stdout"
        }
      ]
    },
    {
      "cell_type": "code",
      "metadata": {
        "colab": {
          "base_uri": "https://localhost:8080/"
        },
        "id": "mrqQtsQsY3FA",
        "outputId": "766847f9-b2d7-4ba4-e45b-8a15771959a0"
      },
      "source": [
        "print(ebola.Cases_Guinea.sum(skipna=False))"
      ],
      "execution_count": null,
      "outputs": [
        {
          "output_type": "stream",
          "text": [
            "nan\n"
          ],
          "name": "stdout"
        }
      ]
    },
    {
      "cell_type": "code",
      "metadata": {
        "colab": {
          "base_uri": "https://localhost:8080/"
        },
        "id": "gTlT-msmY5Fr",
        "outputId": "d72c3358-4dfa-4bf9-dcca-8b0bb7b4d11b"
      },
      "source": [
        "print(ebola.Cases_Guinea.mean(skipna=True))\n",
        "print(ebola.Cases_Guinea.max(skipna=True))\n",
        "print(ebola.Cases_Guinea.min(skipna=True))"
      ],
      "execution_count": null,
      "outputs": [
        {
          "output_type": "stream",
          "text": [
            "911.0645161290323\n",
            "2776.0\n",
            "49.0\n"
          ],
          "name": "stdout"
        }
      ]
    },
    {
      "cell_type": "code",
      "metadata": {
        "id": "NcwdNMorY-ap"
      },
      "source": [
        ""
      ],
      "execution_count": null,
      "outputs": []
    }
  ]
}