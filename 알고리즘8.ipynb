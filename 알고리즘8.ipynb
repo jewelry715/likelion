{
 "cells": [
  {
   "cell_type": "code",
   "execution_count": 1,
   "metadata": {
    "colab": {
     "base_uri": "https://localhost:8080/"
    },
    "id": "_d-noyTHRKUu",
    "outputId": "fcc770c7-b6e5-46b6-b970-ca4f9125d0b7"
   },
   "outputs": [
    {
     "name": "stdout",
     "output_type": "stream",
     "text": [
      "[5, 5, 2, 3, 1]\n",
      "[5, 5, 2, 3, 1, 2, 3, 1]\n",
      "[1, 3, 2, 1, 3, 2, 5, 5]\n"
     ]
    }
   ],
   "source": [
    "stack=[]\n",
    "stack.append(5)#가장 뒤쪽에 데이터 삽입tack=[]\n",
    "stack.append(5)#가장 뒤쪽에 데이터 삽입\n",
    "stack.append(2)\n",
    "stack.append(3)\n",
    "stack.append(7)\n",
    "stack.pop()#가장 뒤쪽에서 데이트를 꺼냄\n",
    "stack.append(1)\n",
    "stack.append(4)\n",
    "stack.pop()\n",
    "print(stack)\n",
    "\n",
    "stack.append(2)\n",
    "stack.append(3)\n",
    "stack.append(7)\n",
    "stack.pop()#가장 뒤쪽에서 데이트를 꺼냄\n",
    "stack.append(1)\n",
    "stack.append(4)\n",
    "stack.pop()\n",
    "print(stack)\n",
    "print(stack[::-1])"
   ]
  },
  {
   "cell_type": "code",
   "execution_count": 2,
   "metadata": {
    "colab": {
     "base_uri": "https://localhost:8080/"
    },
    "id": "-oMMtECiST_g",
    "outputId": "a933ee9c-3df9-429d-c104-0d1b7252b855"
   },
   "outputs": [
    {
     "name": "stdout",
     "output_type": "stream",
     "text": [
      "deque([2, 3, 7])\n"
     ]
    }
   ],
   "source": [
    "from collections import deque\n",
    "queue=deque()\n",
    "queue.append(5)\n",
    "queue.append(2)\n",
    "queue.append(3)\n",
    "queue.append(7)\n",
    "queue.popleft()\n",
    "print(queue)"
   ]
  },
  {
   "cell_type": "code",
   "execution_count": 3,
   "metadata": {
    "colab": {
     "base_uri": "https://localhost:8080/"
    },
    "id": "8tAfheg8SySw",
    "outputId": "82e7b248-4c2d-464e-c64d-da5ba1f0eecf"
   },
   "outputs": [
    {
     "name": "stdout",
     "output_type": "stream",
     "text": [
      "deque([3, 7, 1, 4])\n",
      "deque([4, 1, 7, 3])\n"
     ]
    }
   ],
   "source": [
    "queue.append(1)\n",
    "queue.append(4)\n",
    "queue.popleft()\n",
    "print(queue)\n",
    "queue.reverse()\n",
    "print(queue)"
   ]
  },
  {
   "cell_type": "code",
   "execution_count": 4,
   "metadata": {
    "colab": {
     "base_uri": "https://localhost:8080/"
    },
    "id": "xeZXQQf0S6uK",
    "outputId": "2348d08b-9489-465a-c50e-9e1a2dee6d93"
   },
   "outputs": [
    {
     "name": "stdout",
     "output_type": "stream",
     "text": [
      "1 번째 재귀함수에서 2 번째 재귀 함수를 호출합니다\n",
      "2 번째 재귀함수에서 3 번째 재귀 함수를 호출합니다\n",
      "3 번째 재귀함수에서 4 번째 재귀 함수를 호출합니다\n",
      "4 번째 재귀함수에서 5 번째 재귀 함수를 호출합니다\n",
      "5 번째 재귀함수에서 6 번째 재귀 함수를 호출합니다\n",
      "6 번째 재귀함수에서 7 번째 재귀 함수를 호출합니다\n",
      "7 번째 재귀함수에서 8 번째 재귀 함수를 호출합니다\n",
      "8 번째 재귀함수에서 9 번째 재귀 함수를 호출합니다\n",
      "9 번째 재귀함수에서 10 번째 재귀 함수를 호출합니다\n",
      "10 번째 재귀함수에서 11 번째 재귀 함수를 호출합니다\n",
      "11 번째 재귀함수에서 12 번째 재귀 함수를 호출합니다\n",
      "12 번째 재귀함수에서 13 번째 재귀 함수를 호출합니다\n",
      "13 번째 재귀함수에서 14 번째 재귀 함수를 호출합니다\n",
      "14 번째 재귀함수에서 15 번째 재귀 함수를 호출합니다\n",
      "15 번째 재귀함수에서 16 번째 재귀 함수를 호출합니다\n",
      "16 번째 재귀함수에서 17 번째 재귀 함수를 호출합니다\n",
      "17 번째 재귀함수에서 18 번째 재귀 함수를 호출합니다\n",
      "18 번째 재귀함수에서 19 번째 재귀 함수를 호출합니다\n",
      "19 번째 재귀함수에서 20 번째 재귀 함수를 호출합니다\n",
      "20 번째 재귀함수에서 21 번째 재귀 함수를 호출합니다\n",
      "21 번째 재귀함수에서 22 번째 재귀 함수를 호출합니다\n",
      "22 번째 재귀함수에서 23 번째 재귀 함수를 호출합니다\n",
      "23 번째 재귀함수에서 24 번째 재귀 함수를 호출합니다\n",
      "24 번째 재귀함수에서 25 번째 재귀 함수를 호출합니다\n",
      "25 번째 재귀함수에서 26 번째 재귀 함수를 호출합니다\n",
      "26 번째 재귀함수에서 27 번째 재귀 함수를 호출합니다\n",
      "27 번째 재귀함수에서 28 번째 재귀 함수를 호출합니다\n",
      "28 번째 재귀함수에서 29 번째 재귀 함수를 호출합니다\n",
      "29 번째 재귀함수에서 30 번째 재귀 함수를 호출합니다\n",
      "30 번째 재귀함수에서 31 번째 재귀 함수를 호출합니다\n",
      "31 번째 재귀함수에서 32 번째 재귀 함수를 호출합니다\n",
      "32 번째 재귀함수에서 33 번째 재귀 함수를 호출합니다\n",
      "33 번째 재귀함수에서 34 번째 재귀 함수를 호출합니다\n",
      "34 번째 재귀함수에서 35 번째 재귀 함수를 호출합니다\n",
      "35 번째 재귀함수에서 36 번째 재귀 함수를 호출합니다\n",
      "36 번째 재귀함수에서 37 번째 재귀 함수를 호출합니다\n",
      "37 번째 재귀함수에서 38 번째 재귀 함수를 호출합니다\n",
      "38 번째 재귀함수에서 39 번째 재귀 함수를 호출합니다\n",
      "39 번째 재귀함수에서 40 번째 재귀 함수를 호출합니다\n",
      "40 번째 재귀함수에서 41 번째 재귀 함수를 호출합니다\n",
      "41 번째 재귀함수에서 42 번째 재귀 함수를 호출합니다\n",
      "42 번째 재귀함수에서 43 번째 재귀 함수를 호출합니다\n",
      "43 번째 재귀함수에서 44 번째 재귀 함수를 호출합니다\n",
      "44 번째 재귀함수에서 45 번째 재귀 함수를 호출합니다\n",
      "45 번째 재귀함수에서 46 번째 재귀 함수를 호출합니다\n",
      "46 번째 재귀함수에서 47 번째 재귀 함수를 호출합니다\n",
      "47 번째 재귀함수에서 48 번째 재귀 함수를 호출합니다\n",
      "48 번째 재귀함수에서 49 번째 재귀 함수를 호출합니다\n",
      "49 번째 재귀함수에서 50 번째 재귀 함수를 호출합니다\n",
      "50 번째 재귀함수에서 51 번째 재귀 함수를 호출합니다\n",
      "51 번째 재귀함수에서 52 번째 재귀 함수를 호출합니다\n",
      "52 번째 재귀함수에서 53 번째 재귀 함수를 호출합니다\n",
      "53 번째 재귀함수에서 54 번째 재귀 함수를 호출합니다\n",
      "54 번째 재귀함수에서 55 번째 재귀 함수를 호출합니다\n",
      "55 번째 재귀함수에서 56 번째 재귀 함수를 호출합니다\n",
      "56 번째 재귀함수에서 57 번째 재귀 함수를 호출합니다\n",
      "57 번째 재귀함수에서 58 번째 재귀 함수를 호출합니다\n",
      "58 번째 재귀함수에서 59 번째 재귀 함수를 호출합니다\n",
      "59 번째 재귀함수에서 60 번째 재귀 함수를 호출합니다\n",
      "60 번째 재귀함수에서 61 번째 재귀 함수를 호출합니다\n",
      "61 번째 재귀함수에서 62 번째 재귀 함수를 호출합니다\n",
      "62 번째 재귀함수에서 63 번째 재귀 함수를 호출합니다\n",
      "63 번째 재귀함수에서 64 번째 재귀 함수를 호출합니다\n",
      "64 번째 재귀함수에서 65 번째 재귀 함수를 호출합니다\n",
      "65 번째 재귀함수에서 66 번째 재귀 함수를 호출합니다\n",
      "66 번째 재귀함수에서 67 번째 재귀 함수를 호출합니다\n",
      "67 번째 재귀함수에서 68 번째 재귀 함수를 호출합니다\n",
      "68 번째 재귀함수에서 69 번째 재귀 함수를 호출합니다\n",
      "69 번째 재귀함수에서 70 번째 재귀 함수를 호출합니다\n",
      "70 번째 재귀함수에서 71 번째 재귀 함수를 호출합니다\n",
      "71 번째 재귀함수에서 72 번째 재귀 함수를 호출합니다\n",
      "72 번째 재귀함수에서 73 번째 재귀 함수를 호출합니다\n",
      "73 번째 재귀함수에서 74 번째 재귀 함수를 호출합니다\n",
      "74 번째 재귀함수에서 75 번째 재귀 함수를 호출합니다\n",
      "75 번째 재귀함수에서 76 번째 재귀 함수를 호출합니다\n",
      "76 번째 재귀함수에서 77 번째 재귀 함수를 호출합니다\n",
      "77 번째 재귀함수에서 78 번째 재귀 함수를 호출합니다\n",
      "78 번째 재귀함수에서 79 번째 재귀 함수를 호출합니다\n",
      "79 번째 재귀함수에서 80 번째 재귀 함수를 호출합니다\n",
      "80 번째 재귀함수에서 81 번째 재귀 함수를 호출합니다\n",
      "81 번째 재귀함수에서 82 번째 재귀 함수를 호출합니다\n",
      "82 번째 재귀함수에서 83 번째 재귀 함수를 호출합니다\n",
      "83 번째 재귀함수에서 84 번째 재귀 함수를 호출합니다\n",
      "84 번째 재귀함수에서 85 번째 재귀 함수를 호출합니다\n",
      "85 번째 재귀함수에서 86 번째 재귀 함수를 호출합니다\n",
      "86 번째 재귀함수에서 87 번째 재귀 함수를 호출합니다\n",
      "87 번째 재귀함수에서 88 번째 재귀 함수를 호출합니다\n",
      "88 번째 재귀함수에서 89 번째 재귀 함수를 호출합니다\n",
      "89 번째 재귀함수에서 90 번째 재귀 함수를 호출합니다\n",
      "90 번째 재귀함수에서 91 번째 재귀 함수를 호출합니다\n",
      "91 번째 재귀함수에서 92 번째 재귀 함수를 호출합니다\n",
      "92 번째 재귀함수에서 93 번째 재귀 함수를 호출합니다\n",
      "93 번째 재귀함수에서 94 번째 재귀 함수를 호출합니다\n",
      "94 번째 재귀함수에서 95 번째 재귀 함수를 호출합니다\n",
      "95 번째 재귀함수에서 96 번째 재귀 함수를 호출합니다\n",
      "96 번째 재귀함수에서 97 번째 재귀 함수를 호출합니다\n",
      "97 번째 재귀함수에서 98 번째 재귀 함수를 호출합니다\n",
      "98 번째 재귀함수에서 99 번째 재귀 함수를 호출합니다\n",
      "99 번째 재귀함수에서 100 번째 재귀 함수를 호출합니다\n",
      "99 번째 재귀 함수를 종료합니다\n",
      "98 번째 재귀 함수를 종료합니다\n",
      "97 번째 재귀 함수를 종료합니다\n",
      "96 번째 재귀 함수를 종료합니다\n",
      "95 번째 재귀 함수를 종료합니다\n",
      "94 번째 재귀 함수를 종료합니다\n",
      "93 번째 재귀 함수를 종료합니다\n",
      "92 번째 재귀 함수를 종료합니다\n",
      "91 번째 재귀 함수를 종료합니다\n",
      "90 번째 재귀 함수를 종료합니다\n",
      "89 번째 재귀 함수를 종료합니다\n",
      "88 번째 재귀 함수를 종료합니다\n",
      "87 번째 재귀 함수를 종료합니다\n",
      "86 번째 재귀 함수를 종료합니다\n",
      "85 번째 재귀 함수를 종료합니다\n",
      "84 번째 재귀 함수를 종료합니다\n",
      "83 번째 재귀 함수를 종료합니다\n",
      "82 번째 재귀 함수를 종료합니다\n",
      "81 번째 재귀 함수를 종료합니다\n",
      "80 번째 재귀 함수를 종료합니다\n",
      "79 번째 재귀 함수를 종료합니다\n",
      "78 번째 재귀 함수를 종료합니다\n",
      "77 번째 재귀 함수를 종료합니다\n",
      "76 번째 재귀 함수를 종료합니다\n",
      "75 번째 재귀 함수를 종료합니다\n",
      "74 번째 재귀 함수를 종료합니다\n",
      "73 번째 재귀 함수를 종료합니다\n",
      "72 번째 재귀 함수를 종료합니다\n",
      "71 번째 재귀 함수를 종료합니다\n",
      "70 번째 재귀 함수를 종료합니다\n",
      "69 번째 재귀 함수를 종료합니다\n",
      "68 번째 재귀 함수를 종료합니다\n",
      "67 번째 재귀 함수를 종료합니다\n",
      "66 번째 재귀 함수를 종료합니다\n",
      "65 번째 재귀 함수를 종료합니다\n",
      "64 번째 재귀 함수를 종료합니다\n",
      "63 번째 재귀 함수를 종료합니다\n",
      "62 번째 재귀 함수를 종료합니다\n",
      "61 번째 재귀 함수를 종료합니다\n",
      "60 번째 재귀 함수를 종료합니다\n",
      "59 번째 재귀 함수를 종료합니다\n",
      "58 번째 재귀 함수를 종료합니다\n",
      "57 번째 재귀 함수를 종료합니다\n",
      "56 번째 재귀 함수를 종료합니다\n",
      "55 번째 재귀 함수를 종료합니다\n",
      "54 번째 재귀 함수를 종료합니다\n",
      "53 번째 재귀 함수를 종료합니다\n",
      "52 번째 재귀 함수를 종료합니다\n",
      "51 번째 재귀 함수를 종료합니다\n",
      "50 번째 재귀 함수를 종료합니다\n",
      "49 번째 재귀 함수를 종료합니다\n",
      "48 번째 재귀 함수를 종료합니다\n",
      "47 번째 재귀 함수를 종료합니다\n",
      "46 번째 재귀 함수를 종료합니다\n",
      "45 번째 재귀 함수를 종료합니다\n",
      "44 번째 재귀 함수를 종료합니다\n",
      "43 번째 재귀 함수를 종료합니다\n",
      "42 번째 재귀 함수를 종료합니다\n",
      "41 번째 재귀 함수를 종료합니다\n",
      "40 번째 재귀 함수를 종료합니다\n",
      "39 번째 재귀 함수를 종료합니다\n",
      "38 번째 재귀 함수를 종료합니다\n",
      "37 번째 재귀 함수를 종료합니다\n",
      "36 번째 재귀 함수를 종료합니다\n",
      "35 번째 재귀 함수를 종료합니다\n",
      "34 번째 재귀 함수를 종료합니다\n",
      "33 번째 재귀 함수를 종료합니다\n",
      "32 번째 재귀 함수를 종료합니다\n",
      "31 번째 재귀 함수를 종료합니다\n",
      "30 번째 재귀 함수를 종료합니다\n",
      "29 번째 재귀 함수를 종료합니다\n",
      "28 번째 재귀 함수를 종료합니다\n",
      "27 번째 재귀 함수를 종료합니다\n",
      "26 번째 재귀 함수를 종료합니다\n",
      "25 번째 재귀 함수를 종료합니다\n",
      "24 번째 재귀 함수를 종료합니다\n",
      "23 번째 재귀 함수를 종료합니다\n",
      "22 번째 재귀 함수를 종료합니다\n",
      "21 번째 재귀 함수를 종료합니다\n",
      "20 번째 재귀 함수를 종료합니다\n",
      "19 번째 재귀 함수를 종료합니다\n",
      "18 번째 재귀 함수를 종료합니다\n",
      "17 번째 재귀 함수를 종료합니다\n",
      "16 번째 재귀 함수를 종료합니다\n",
      "15 번째 재귀 함수를 종료합니다\n",
      "14 번째 재귀 함수를 종료합니다\n",
      "13 번째 재귀 함수를 종료합니다\n",
      "12 번째 재귀 함수를 종료합니다\n",
      "11 번째 재귀 함수를 종료합니다\n",
      "10 번째 재귀 함수를 종료합니다\n",
      "9 번째 재귀 함수를 종료합니다\n",
      "8 번째 재귀 함수를 종료합니다\n",
      "7 번째 재귀 함수를 종료합니다\n",
      "6 번째 재귀 함수를 종료합니다\n",
      "5 번째 재귀 함수를 종료합니다\n",
      "4 번째 재귀 함수를 종료합니다\n",
      "3 번째 재귀 함수를 종료합니다\n",
      "2 번째 재귀 함수를 종료합니다\n",
      "1 번째 재귀 함수를 종료합니다\n"
     ]
    }
   ],
   "source": [
    "def recusive_function(i):\n",
    "    if i==100:\n",
    "        return\n",
    "    print(i,'번째 재귀함수에서',i+1,'번째 재귀 함수를 호출합니다')\n",
    "    recusive_function(i+1)\n",
    "    print(i,'번째 재귀 함수를 종료합니다')\n",
    "recusive_function(1)"
   ]
  },
  {
   "cell_type": "code",
   "execution_count": 5,
   "metadata": {
    "id": "0Wsto4LrTO4t"
   },
   "outputs": [],
   "source": [
    "def factorial_iterative(n):\n",
    "  result=1\n",
    "  for i in range(1,n+1):\n",
    "    result*=1\n",
    "  return result"
   ]
  },
  {
   "cell_type": "code",
   "execution_count": 6,
   "metadata": {
    "colab": {
     "base_uri": "https://localhost:8080/"
    },
    "id": "wrfIlgRjUFXu",
    "outputId": "396963f8-4d08-45d5-e24f-39bb03b1dd37"
   },
   "outputs": [
    {
     "name": "stdout",
     "output_type": "stream",
     "text": [
      "반복적으로 구현 : 1\n",
      "재귀적으로 구현 : 120\n"
     ]
    }
   ],
   "source": [
    "def factorial_recursive(n):\n",
    "  if n<=1:\n",
    "    return 1\n",
    "  return n*factorial_recursive(n-1)\n",
    "print(\"반복적으로 구현 :\", factorial_iterative(5))\n",
    "print(\"재귀적으로 구현 :\", factorial_recursive(5))"
   ]
  },
  {
   "cell_type": "code",
   "execution_count": 7,
   "metadata": {
    "colab": {
     "base_uri": "https://localhost:8080/"
    },
    "id": "OVKV6A4gUWGY",
    "outputId": "c6edfc9c-f35d-406a-8ed0-94e29a1dde6c"
   },
   "outputs": [
    {
     "name": "stdout",
     "output_type": "stream",
     "text": [
      "[[0, 7, 5], [7, 0, 999], [5, 999, 0]]\n"
     ]
    }
   ],
   "source": [
    "inf=999\n",
    "graph=[[0,7,5],[7,0,inf],[5,inf,0]]\n",
    "print(graph)"
   ]
  },
  {
   "cell_type": "code",
   "execution_count": 8,
   "metadata": {
    "id": "3opp1_-wU9jz"
   },
   "outputs": [],
   "source": [
    "graph=[[] for _ in range(3)]\n",
    "graph[0].append((1,7))\n",
    "graph[0].append((2,5))\n",
    "graph[1].append((0,7))\n",
    "graph[2].append((0,5))"
   ]
  },
  {
   "cell_type": "code",
   "execution_count": 9,
   "metadata": {
    "colab": {
     "base_uri": "https://localhost:8080/"
    },
    "id": "OlSEwPYiVU-K",
    "outputId": "9ab79e9e-d0f8-409c-8e5f-681d2ca236b0"
   },
   "outputs": [
    {
     "name": "stdout",
     "output_type": "stream",
     "text": [
      "[[(1, 7), (2, 5)], [(0, 7)], [(0, 5)]]\n"
     ]
    }
   ],
   "source": [
    "print(graph)"
   ]
  },
  {
   "cell_type": "code",
   "execution_count": 10,
   "metadata": {
    "id": "XNIqilCDVXfw"
   },
   "outputs": [],
   "source": [
    "def dfs(graph,v,visited):\n",
    "  visited[v]=True\n",
    "  for i in graph[v]:\n",
    "    if not visited[i]:\n",
    "      dfs(graph,i,visited)\n",
    "graph=[\n",
    "       [],[2,3,8],[1,7],[1,4,5],[3,5],[3,4],[7],[2,6,8],[1,7]\n",
    "]\n",
    "visited=[False]*9\n",
    "dfs(graph,1,visited)"
   ]
  },
  {
   "cell_type": "code",
   "execution_count": 11,
   "metadata": {
    "colab": {
     "base_uri": "https://localhost:8080/"
    },
    "id": "Dzw6AVk1WUye",
    "outputId": "1859a7a1-eeea-4b55-92e8-64f5ce753171"
   },
   "outputs": [
    {
     "name": "stdout",
     "output_type": "stream",
     "text": [
      "3 3\n",
      "110\n",
      "101\n",
      "001\n",
      "2\n"
     ]
    }
   ],
   "source": [
    "n,m=map(int,input().split())\n",
    "graph = []\n",
    "for i in range(n):\n",
    "  graph.append(list(map(int, input())))\n",
    "def dfs(x,y):\n",
    "  if x <= -1 or x >= n or y <= -1 or y >= m:\n",
    "    return False\n",
    "  if graph[x][y] == 0:\n",
    "    graph[x][y] = 1\n",
    "    dfs(x-1, y)\n",
    "    dfs(x, y-1)\n",
    "    dfs(x+1, y)\n",
    "    dfs(x, y+1)\n",
    "    return True\n",
    "  return False\n",
    "\n",
    "result = 0\n",
    "for i in range(n):\n",
    "  for j in range(m):\n",
    "    if dfs(i,j) == True:\n",
    "      result += 1\n",
    "print(result)"
   ]
  },
  {
   "cell_type": "code",
   "execution_count": 12,
   "metadata": {
    "colab": {
     "base_uri": "https://localhost:8080/"
    },
    "id": "oKNG1ehGaf-a",
    "outputId": "df6a2572-35d7-4f19-e72f-b05e7084c3d4"
   },
   "outputs": [
    {
     "name": "stdout",
     "output_type": "stream",
     "text": [
      "deque([(2, 3)])\n",
      "2\n",
      "3\n",
      "<class 'collections.deque'>\n"
     ]
    }
   ],
   "source": [
    "from collections import deque\n",
    "queue=deque()\n",
    "queue.append((2,3))\n",
    "print(queue)\n",
    "x,y=queue.popleft()\n",
    "print(x)\n",
    "print(y)\n",
    "print(deque)"
   ]
  },
  {
   "cell_type": "code",
   "execution_count": null,
   "metadata": {
    "colab": {
     "base_uri": "https://localhost:8080/",
     "height": 257
    },
    "id": "hgVf9bhFXOki",
    "outputId": "43486e5e-323b-4d3a-b8df-c8c688be01eb"
   },
   "outputs": [
    {
     "name": "stdout",
     "output_type": "stream",
     "text": [
      "3 3\n"
     ]
    }
   ],
   "source": [
    "from collections import deque\n",
    "n,m=map(int,input().split())\n",
    "graph=[]\n",
    "for i in range(n):\n",
    "    graph.append(list(map(int,input())))\n",
    "\n",
    "dx=[-1,1,0,0]\n",
    "dy=[0,0,-1,-1]\n",
    "def bfs(x,y):\n",
    "    queue=deque()\n",
    "    queue.append((x,y))\n",
    "    while queue:\n",
    "        x,y=queue.popleft()\n",
    "        for i in range(4):\n",
    "            nx=x+dx[i]\n",
    "            ny=y+dy[i] \n",
    "            if nx<0 or ny<0 or nx>=n or ny>=m:\n",
    "                continue\n",
    "            if graph[nx][ny]==0:\n",
    "                continue\n",
    "            if graph[nx][ny]==1:\n",
    "                graph[nx][ny]=graph[x][y]+1\n",
    "                queue.append((nx,ny))\n",
    "    return graph[n-1][m-1]  \n",
    "print(bfs(0,0))"
   ]
  },
  {
   "cell_type": "code",
   "execution_count": null,
   "metadata": {
    "id": "NJx29JvHYwe9"
   },
   "outputs": [],
   "source": [
    "array=[7,5,9]\n",
    "for i in range(len(array)):\n",
    "    min_index=i\n",
    "    for j in range(i+1,len(array)):\n",
    "        if array[min_index]>array[j]:\n",
    "            min_index=j\n",
    "    array[i],array[min_index]=array[min_index],array[i]\n",
    "print(array)"
   ]
  },
  {
   "cell_type": "code",
   "execution_count": null,
   "metadata": {},
   "outputs": [],
   "source": [
    "array=[7,5,9,8]\n",
    "for i in range(0, len(array)): # 첫 번째를 제외한 나머지를 순차적으로 수행\n",
    "    for j in range(i, 0, -1): \n",
    "        if array[j]<array[j - 1]:\n",
    "            array[j], array[j - 1] = array[j - 1], array[j] \n",
    "        else: \n",
    "            break\n",
    "print(array)"
   ]
  },
  {
   "cell_type": "code",
   "execution_count": null,
   "metadata": {},
   "outputs": [],
   "source": []
  }
 ],
 "metadata": {
  "accelerator": "GPU",
  "colab": {
   "collapsed_sections": [],
   "name": "알고리즘8.ipynb",
   "provenance": []
  },
  "kernelspec": {
   "display_name": "Python 3",
   "language": "python",
   "name": "python3"
  },
  "language_info": {
   "codemirror_mode": {
    "name": "ipython",
    "version": 3
   },
   "file_extension": ".py",
   "mimetype": "text/x-python",
   "name": "python",
   "nbconvert_exporter": "python",
   "pygments_lexer": "ipython3",
   "version": "3.7.3"
  }
 },
 "nbformat": 4,
 "nbformat_minor": 1
}
