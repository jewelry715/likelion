{
 "cells": [
  {
   "cell_type": "code",
   "execution_count": 4,
   "metadata": {},
   "outputs": [
    {
     "name": "stdout",
     "output_type": "stream",
     "text": [
      "나눗셈 전용 계산기입니다.\n",
      "첫번째 숫자를 입력해주세요4\n",
      "두번째 숫자를 입력해주세요0\n",
      "안녕하세요 나눗셈은 0으로 수행할 수 없습니다.\n"
     ]
    }
   ],
   "source": [
    "try:\n",
    "    print('나눗셈 전용 계산기입니다.')\n",
    "    num_1=int(input('첫번째 숫자를 입력해주세요'))\n",
    "    num_2=int(input('두번째 숫자를 입력해주세요'))\n",
    "    print(\"{0} / {1} ={2} \".format(num_1,num_2,int(num_1/num_2)))\n",
    "except ValueError:\n",
    "    print(\"안녕하세요 고객님 에러가 발생했습니다.\")\n",
    "except ZeroDivisionError as err:\n",
    "    print(\"안녕하세요 나눗셈은 0으로 수행할 수 없습니다.\")"
   ]
  },
  {
   "cell_type": "code",
   "execution_count": 6,
   "metadata": {},
   "outputs": [
    {
     "name": "stdout",
     "output_type": "stream",
     "text": [
      "나눗셈 전용 계산기입니다\n",
      "첫번째 숫자를 입력해주세요10\n",
      "두번째 숫자를 입력해주세요5\n",
      "10 / 2 =2 \n",
      "본 계산기를 이용해주셔서 감사합니다\n"
     ]
    }
   ],
   "source": [
    "try:\n",
    "    print('나눗셈 전용 계산기입니다')\n",
    "    nums=[]\n",
    "    nums.append(int(input('첫번째 숫자를 입력해주세요')))\n",
    "    nums.append(int(input('두번째 숫자를 입력해주세요')))\n",
    "    nums.append(int(nums[0]/nums[1]))\n",
    "    print(\"{0} / {1} ={2} \".format(nums[0],nums[2],nums[2]))\n",
    "except Exception as err:\n",
    "    print(\"안녕하세요 고객님 에러가 발생했습니다.\")\n",
    "finally:\n",
    "    print(\"본 계산기를 이용해주셔서 감사합니다\")"
   ]
  },
  {
   "cell_type": "code",
   "execution_count": 11,
   "metadata": {},
   "outputs": [
    {
     "name": "stdout",
     "output_type": "stream",
     "text": [
      "160 175 171 170\n",
      "[160, 170, 171, 175]\n"
     ]
    }
   ],
   "source": [
    "a=list(map(int,input().split()))\n",
    "a.sort()\n",
    "print(a)"
   ]
  },
  {
   "cell_type": "code",
   "execution_count": 12,
   "metadata": {},
   "outputs": [
    {
     "name": "stdout",
     "output_type": "stream",
     "text": [
      "1 2 3\n",
      "6\n"
     ]
    }
   ],
   "source": [
    "a,b,c=map(int,input().split())\n",
    "print(a+b+c)"
   ]
  },
  {
   "cell_type": "code",
   "execution_count": null,
   "metadata": {},
   "outputs": [],
   "source": []
  }
 ],
 "metadata": {
  "kernelspec": {
   "display_name": "Python 3",
   "language": "python",
   "name": "python3"
  },
  "language_info": {
   "codemirror_mode": {
    "name": "ipython",
    "version": 3
   },
   "file_extension": ".py",
   "mimetype": "text/x-python",
   "name": "python",
   "nbconvert_exporter": "python",
   "pygments_lexer": "ipython3",
   "version": "3.7.3"
  }
 },
 "nbformat": 4,
 "nbformat_minor": 2
}
