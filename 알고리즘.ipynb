{
 "cells": [
  {
   "cell_type": "code",
   "execution_count": 6,
   "metadata": {},
   "outputs": [
    {
     "name": "stdout",
     "output_type": "stream",
     "text": [
      "평균값 :4.0\n"
     ]
    }
   ],
   "source": [
    "def average(lists):\n",
    "    if len(list)==0:\n",
    "        return 0\n",
    "    return sum(lists)/len(lists)\n",
    "list=[5,3,4]\n",
    "print('평균값 :{}'.format(average(list)))"
   ]
  },
  {
   "cell_type": "code",
   "execution_count": 10,
   "metadata": {},
   "outputs": [
    {
     "name": "stdout",
     "output_type": "stream",
     "text": [
      "결과 : Odd\n",
      "결과 : Even\n"
     ]
    }
   ],
   "source": [
    "def evenorodd(num):\n",
    "    if num%2==0:\n",
    "        return 'Even'\n",
    "    else:\n",
    "        return 'Odd'\n",
    "    \n",
    "print(\"결과 : \" + evenorodd(3))\n",
    "print(\"결과 : \" + evenorodd(2))"
   ]
  },
  {
   "cell_type": "code",
   "execution_count": 11,
   "metadata": {},
   "outputs": [
    {
     "name": "stdout",
     "output_type": "stream",
     "text": [
      "결과 : Odd\n",
      "결과 : Even\n"
     ]
    }
   ],
   "source": [
    "def evenorodd(num):\n",
    "    if num%2:\n",
    "        return 'Odd'\n",
    "    else:\n",
    "        return 'Even'\n",
    "    \n",
    "print(\"결과 : \" + evenorodd(3))\n",
    "print(\"결과 : \" + evenorodd(2))"
   ]
  },
  {
   "cell_type": "code",
   "execution_count": 1,
   "metadata": {},
   "outputs": [
    {
     "name": "stdout",
     "output_type": "stream",
     "text": [
      "김태형 챔피언이 소환사의 협곡에 참여하였습니다\n",
      "체력400 ,공격력0 \n",
      "\n"
     ]
    }
   ],
   "source": [
    "name='김태형'\n",
    "hp=400\n",
    "damage=0\n",
    "print(\"{0} 챔피언이 소환사의 협곡에 참여하였습니다\".format(name))\n",
    "print('체력{0} ,공격력{1} \\n'.format(hp,damage))#위치 알려줌"
   ]
  },
  {
   "cell_type": "code",
   "execution_count": 2,
   "metadata": {},
   "outputs": [
    {
     "name": "stdout",
     "output_type": "stream",
     "text": [
      "김석진 챔피언이 소환사의 협곡에 참여하였습니다\n",
      "체력550 ,공격력70 \n",
      "\n"
     ]
    }
   ],
   "source": [
    "j_name='김석진'\n",
    "j_hp=550\n",
    "j_damage=70\n",
    "print(\"{0} 챔피언이 소환사의 협곡에 참여하였습니다\".format(j_name))\n",
    "print('체력{0} ,공격력{1} \\n'.format(j_hp,j_damage))#위치 알려줌"
   ]
  },
  {
   "cell_type": "code",
   "execution_count": 3,
   "metadata": {},
   "outputs": [],
   "source": [
    "def attack(name,location,damage):\n",
    "    print(\"{0} : {1} 방향으로 상대 챔피언을 공격합니다. [공격력 {2}]\".format(name,location,damage))"
   ]
  },
  {
   "cell_type": "code",
   "execution_count": 4,
   "metadata": {},
   "outputs": [
    {
     "name": "stdout",
     "output_type": "stream",
     "text": [
      "김태형 : 아랫방향 방향으로 상대 챔피언을 공격합니다. [공격력 0]\n"
     ]
    }
   ],
   "source": [
    "attack(name,'아랫방향',damage)"
   ]
  },
  {
   "cell_type": "code",
   "execution_count": 5,
   "metadata": {},
   "outputs": [
    {
     "name": "stdout",
     "output_type": "stream",
     "text": [
      "김석진 : 윗방향 방향으로 상대 챔피언을 공격합니다. [공격력 70]\n"
     ]
    }
   ],
   "source": [
    "attack(j_name,'윗방향',j_damage)"
   ]
  },
  {
   "cell_type": "code",
   "execution_count": 6,
   "metadata": {},
   "outputs": [
    {
     "name": "stdout",
     "output_type": "stream",
     "text": [
      "정호석 : 직선 방향으로 상대 챔피언을 공격합니다. [공격력 70]\n"
     ]
    }
   ],
   "source": [
    "j_name_2=\"정호석\"\n",
    "j_hp_2=550\n",
    "j_damage_2=70\n",
    "attack(j_name_2,'직선',j_damage_2)"
   ]
  },
  {
   "cell_type": "code",
   "execution_count": 8,
   "metadata": {},
   "outputs": [],
   "source": [
    "class Unit:\n",
    "    def __init__(self,name,hp,damage):#초기화 함수\n",
    "        self.name=name #다른함수에서도 쓰일 수 있게 초기화\n",
    "        self.hp=hp\n",
    "        self.damage=damage\n",
    "        print(\"{0} 챔피언이 소환사의 협곡에 참여하였습니다\".format(self.name))\n",
    "        print('체력{0} ,공격력{1} \\n'.format(self.hp,self.damage))"
   ]
  },
  {
   "cell_type": "code",
   "execution_count": 10,
   "metadata": {},
   "outputs": [
    {
     "name": "stdout",
     "output_type": "stream",
     "text": [
      "진 챔피언이 소환사의 협곡에 참여하였습니다\n",
      "체력550 ,공격력70 \n",
      "\n",
      "진 챔피언이 소환사의 협곡에 참여하였습니다\n",
      "체력550 ,공격력70 \n",
      "\n",
      "뷔 챔피언이 소환사의 협곡에 참여하였습니다\n",
      "체력400 ,공격력55 \n",
      "\n"
     ]
    }
   ],
   "source": [
    "jin_1=Unit(\"진\", 550, 70)\n",
    "jin_2=Unit(\"진\", 550, 70)\n",
    "tae=Unit('뷔',400,55)"
   ]
  },
  {
   "cell_type": "code",
   "execution_count": 34,
   "metadata": {
    "collapsed": true
   },
   "outputs": [
    {
     "name": "stdout",
     "output_type": "stream",
     "text": [
      "진 챔피언이 소환사의 협곡에 참여하였습니다\n",
      "체력550 ,공격력70 \n",
      "\n",
      "진 챔피언이 소환사의 협곡에 참여하였습니다\n",
      "체력550 ,공격력70 \n",
      "\n"
     ]
    }
   ],
   "source": [
    "Unit(\"진\", 550, 70) #스크립트만 쓸 때\n",
    "#다양하게 활용할 경우에는 클래스에 대해서 변수를 저장시켜준 다음 함수를 다른 스크립트에서 활용\n",
    "jin_1=Unit(\"진\", 550, 70)"
   ]
  },
  {
   "cell_type": "code",
   "execution_count": 36,
   "metadata": {
    "collapsed": true
   },
   "outputs": [
    {
     "name": "stdout",
     "output_type": "stream",
     "text": [
      "진 챔피언이 소환사의 협곡에 참여하였습니다\n",
      "체력550 ,공격력70 \n",
      "\n"
     ]
    },
    {
     "data": {
      "text/plain": [
       "<__main__.Unit at 0x20f3245c6a0>"
      ]
     },
     "execution_count": 36,
     "metadata": {},
     "output_type": "execute_result"
    }
   ],
   "source": [
    "Unit(\"진\", 550, 70)"
   ]
  },
  {
   "cell_type": "code",
   "execution_count": 35,
   "metadata": {
    "collapsed": true
   },
   "outputs": [
    {
     "data": {
      "text/plain": [
       "<__main__.Unit at 0x20f3248e588>"
      ]
     },
     "execution_count": 35,
     "metadata": {},
     "output_type": "execute_result"
    }
   ],
   "source": [
    "jin_1"
   ]
  },
  {
   "cell_type": "code",
   "execution_count": 16,
   "metadata": {},
   "outputs": [
    {
     "name": "stdout",
     "output_type": "stream",
     "text": [
      "유미 챔피언이 소환사의 협곡에 참여하였습니다\n",
      "체력300 ,공격력10 \n",
      "\n",
      "챔피언 이름 : 유미, 공격력 : 10\n"
     ]
    }
   ],
   "source": [
    "yumi=Unit('유미',300,10)\n",
    "print(\"챔피언 이름 : {0}, 공격력 : {1}\".format(yumi.name, yumi.damage))"
   ]
  },
  {
   "cell_type": "code",
   "execution_count": 20,
   "metadata": {},
   "outputs": [
    {
     "name": "stdout",
     "output_type": "stream",
     "text": [
      "유미 챔피언이 소환사의 협곡에 참여하였습니다\n",
      "체력300 ,공격력10 \n",
      "\n"
     ]
    }
   ],
   "source": [
    "yumi_2=Unit('유미',300,10)\n",
    "yumi_2.impossible_to_attack=False"
   ]
  },
  {
   "cell_type": "code",
   "execution_count": 21,
   "metadata": {},
   "outputs": [
    {
     "name": "stdout",
     "output_type": "stream",
     "text": [
      "유미은(는) 현재 공격 가능 상태입니다.\n"
     ]
    }
   ],
   "source": [
    "if yumi_2.impossible_to_attack==True:\n",
    "    print(\"{0}은(는) 현재 공격 불가 상태입니다.\".format(yumi_2.name))\n",
    "else:\n",
    "    print(\"{0}은(는) 현재 공격 가능 상태입니다.\".format(yumi_2.name))"
   ]
  },
  {
   "cell_type": "code",
   "execution_count": 29,
   "metadata": {},
   "outputs": [],
   "source": [
    "class AttackUnit:\n",
    "    def __init__(self,name,hp,damage):\n",
    "        self.name=name\n",
    "        self.hp=hp\n",
    "        self.damage=damage\n",
    "    #쓸 것만 쓰자.여기선 location이 정의가 되어있지 x\n",
    "    #공격 기능을 하는 함수(매서트) 정의\n",
    "    def attack(self,location):#location은 초기화 안함!\n",
    "        print(\"{} : {} 방향으로 상대방 챔피언을 공격합니다. [공격력 {}]\".format(self.name,location,self.damage))\n",
    "        \n",
    "    def damaged(self,damage):\n",
    "        print(\"{0} : {1} 데미지를 입었습니다\".format(self.name,damage))\n",
    "        self.hp-=damage\n",
    "        print(\"{0} : 현재 체력은 {1} 입니다\".format(self.name,self.hp))\n",
    "        if self.hp<=0:\n",
    "            print(\"{0} : 처치당하였습니다\".format(self.name))"
   ]
  },
  {
   "cell_type": "code",
   "execution_count": 30,
   "metadata": {},
   "outputs": [
    {
     "name": "stdout",
     "output_type": "stream",
     "text": [
      "카이사 : 아래 방향으로 상대방 챔피언을 공격합니다. [공격력 55]\n"
     ]
    }
   ],
   "source": [
    "kaisa=AttackUnit('카이사',450,55)\n",
    "kaisa.attack(\"아래\")"
   ]
  },
  {
   "cell_type": "code",
   "execution_count": 32,
   "metadata": {
    "collapsed": true
   },
   "outputs": [
    {
     "name": "stdout",
     "output_type": "stream",
     "text": [
      "카이사 : 100 데미지를 입었습니다\n",
      "카이사 : 현재 체력은 250 입니다\n",
      "카이사 : 100 데미지를 입었습니다\n",
      "카이사 : 현재 체력은 150 입니다\n",
      "카이사 : 100 데미지를 입었습니다\n",
      "카이사 : 현재 체력은 50 입니다\n",
      "카이사 : 100 데미지를 입었습니다\n",
      "카이사 : 현재 체력은 -50 입니다\n",
      "카이사 : 처치당하였습니다\n",
      "카이사 : 100 데미지를 입었습니다\n",
      "카이사 : 현재 체력은 -150 입니다\n",
      "카이사 : 처치당하였습니다\n"
     ]
    }
   ],
   "source": [
    "kaisa.damaged(100)\n",
    "kaisa.damaged(100)\n",
    "kaisa.damaged(100)\n",
    "kaisa.damaged(100)\n",
    "kaisa.damaged(100)"
   ]
  },
  {
   "cell_type": "markdown",
   "metadata": {},
   "source": [
    "파이썬은 확장성이 뛰어나고 유연성과 코드제작자의 스타일에 따라서 다르기 때문에 구축성이 다양하다"
   ]
  },
  {
   "cell_type": "markdown",
   "metadata": {},
   "source": [
    "## 복습"
   ]
  },
  {
   "cell_type": "code",
   "execution_count": 22,
   "metadata": {},
   "outputs": [
    {
     "name": "stdout",
     "output_type": "stream",
     "text": [
      "사쿠라 챔피언이 소환사의 협곡에 참여하였습니다\n",
      " 체력400, 공격력55 \n",
      "\n"
     ]
    }
   ],
   "source": [
    "name=\"사쿠라\"\n",
    "hp=400\n",
    "damage=55\n",
    "print('{0} 챔피언이 소환사의 협곡에 참여하였습니다'.format(name))\n",
    "print(\" 체력{0}, 공격력{1} \\n\".format(hp,damage))"
   ]
  },
  {
   "cell_type": "code",
   "execution_count": 23,
   "metadata": {},
   "outputs": [
    {
     "name": "stdout",
     "output_type": "stream",
     "text": [
      "조유리 챔피언이 소환사의 협곡에 참여했습니다\n",
      "체력550, 공격력70 \n",
      "\n"
     ]
    }
   ],
   "source": [
    "j_name=\"조유리\"\n",
    "j_hp=550\n",
    "j_damage=70\n",
    "print('{0} 챔피언이 소환사의 협곡에 참여했습니다'.format(j_name))\n",
    "print('체력{0}, 공격력{1} \\n'.format(j_hp,j_damage))"
   ]
  },
  {
   "cell_type": "code",
   "execution_count": 37,
   "metadata": {},
   "outputs": [
    {
     "name": "stdout",
     "output_type": "stream",
     "text": [
      "사쿠라: 아래 방향으로 상대 챔피언을 공격합니다. [공격력 55]\n",
      "조유리: 아래 방향으로 상대 챔피언을 공격합니다. [공격력 70]\n"
     ]
    }
   ],
   "source": [
    "def attack(name,location,damage):\n",
    "    print('{0}: {1} 방향으로 상대 챔피언을 공격합니다. [공격력 {2}]'.format(\\\n",
    "                                            name,location,damage))\n",
    "attack(name,'아래',damage)\n",
    "attack(j_name,'아래',j_damage)"
   ]
  },
  {
   "cell_type": "code",
   "execution_count": 38,
   "metadata": {},
   "outputs": [
    {
     "name": "stdout",
     "output_type": "stream",
     "text": [
      "사쿠라: 아래 방향으로 상대 챔피언을 공격합니다. [공격력 55]\n",
      "조유리: 아래 방향으로 상대 챔피언을 공격합니다. [공격력 70]\n",
      "정연: 아래 방향으로 상대 챔피언을 공격합니다. [공격력 70]\n"
     ]
    }
   ],
   "source": [
    "j_name_2=\"정연\"\n",
    "j_hp_2=550\n",
    "j_damage_2=70\n",
    "\n",
    "attack(name,'아래',damage)\n",
    "attack(j_name,'아래',j_damage)\n",
    "attack(j_name_2,'아래',j_damage_2)"
   ]
  },
  {
   "cell_type": "code",
   "execution_count": 39,
   "metadata": {
    "collapsed": true
   },
   "outputs": [
    {
     "name": "stdout",
     "output_type": "stream",
     "text": [
      "진 챔피언이 소환사의 협곡에 참여하였습니다.\n",
      "체력 550,공격력 70\n",
      "진 챔피언이 소환사의 협곡에 참여하였습니다.\n",
      "체력 550,공격력 70\n",
      "케이틀린 챔피언이 소환사의 협곡에 참여하였습니다.\n",
      "체력 400,공격력 55\n"
     ]
    }
   ],
   "source": [
    "class Unit:\n",
    "    def __init__(self,name,hp,damage):\n",
    "        self.name=name\n",
    "        self.hp=hp\n",
    "        self.damage=damage\n",
    "        print(\"{0} 챔피언이 소환사의 협곡에 참여하였습니다.\".format(self.name))\n",
    "        print(\"체력 {0},공격력 {1}\".format(self.hp,self.damage))\n",
    "Jhin1 = Unit(\"진\", 550, 70)\n",
    "Jhin2 = Unit(\"진\", 550, 70)\n",
    "Caitlyn = Unit(\"케이틀린\", 400, 55)"
   ]
  },
  {
   "cell_type": "code",
   "execution_count": 41,
   "metadata": {},
   "outputs": [
    {
     "name": "stdout",
     "output_type": "stream",
     "text": [
      "유미 챔피언이 소환사의 협곡에 참여하였습니다.\n",
      "체력 300,공격력 10\n",
      "챔피언 이름 : 유미, 공격력 : 10\n"
     ]
    }
   ],
   "source": [
    "yumi_1=Unit('유미',300,10)\n",
    "print(\"챔피언 이름 : {0}, 공격력 : {1}\".format(yumi_1.name,yumi_1.damage))"
   ]
  },
  {
   "cell_type": "code",
   "execution_count": 42,
   "metadata": {},
   "outputs": [
    {
     "name": "stdout",
     "output_type": "stream",
     "text": [
      "유미 챔피언이 소환사의 협곡에 참여하였습니다.\n",
      "체력 300,공격력 10\n",
      "유미은(는) 현재 서포팅 상태입니다.\n"
     ]
    }
   ],
   "source": [
    "yumi_2=Unit('유미',300,10)\n",
    "yumi_2.impossible_to_attack=True\n",
    "if yumi_2.impossible_to_attack==True:\n",
    "    print(\"{0}은(는) 현재 서포팅 상태입니다.\".format(yumi_2.name))"
   ]
  },
  {
   "cell_type": "code",
   "execution_count": 43,
   "metadata": {},
   "outputs": [],
   "source": [
    "class AttackUnit:\n",
    "    def __init__(self,name,hp,damage):\n",
    "        self.name=name\n",
    "        self.hp=hp\n",
    "        self.damage=damage\n",
    "    def attack(self,location):\n",
    "        print(\"{0} : {1} 방향으로 상대방 챔피언을 공격합니다.[공격력 {2}]\"\\\n",
    "             .format(self.name,location,self.damage))\n",
    "    def damaged(self,damage):\n",
    "        print(\"{0} : {1} 데미지를 입었습니다\".format(self.name,damage))\n",
    "        self.hp-=damage\n",
    "        print(\"{0} : 현재 체력은 {1}입니다 \".format(self.name,self.hp))\n",
    "        if self.hp<=0:\n",
    "            print(\"{0} : 처치당하였습니다\".format(self.name))"
   ]
  },
  {
   "cell_type": "code",
   "execution_count": 44,
   "metadata": {},
   "outputs": [
    {
     "name": "stdout",
     "output_type": "stream",
     "text": [
      "카이사 : 위 방향으로 상대방 챔피언을 공격합니다.[공격력 55]\n"
     ]
    }
   ],
   "source": [
    "kaisa=AttackUnit(\"카이사\",450,55)\n",
    "kaisa.attack(\"위\")"
   ]
  },
  {
   "cell_type": "code",
   "execution_count": 45,
   "metadata": {
    "collapsed": true
   },
   "outputs": [
    {
     "name": "stdout",
     "output_type": "stream",
     "text": [
      "카이사 : 100 데미지를 입었습니다\n",
      "카이사 : 현재 체력은 350입니다 \n",
      "카이사 : 100 데미지를 입었습니다\n",
      "카이사 : 현재 체력은 250입니다 \n",
      "카이사 : 100 데미지를 입었습니다\n",
      "카이사 : 현재 체력은 150입니다 \n",
      "카이사 : 100 데미지를 입었습니다\n",
      "카이사 : 현재 체력은 50입니다 \n",
      "카이사 : 100 데미지를 입었습니다\n",
      "카이사 : 현재 체력은 -50입니다 \n",
      "카이사 : 처치당하였습니다\n"
     ]
    }
   ],
   "source": [
    "kaisa.damaged(100)\n",
    "kaisa.damaged(100)\n",
    "kaisa.damaged(100)\n",
    "kaisa.damaged(100)\n",
    "kaisa.damaged(100)"
   ]
  },
  {
   "cell_type": "code",
   "execution_count": 46,
   "metadata": {},
   "outputs": [
    {
     "name": "stdout",
     "output_type": "stream",
     "text": [
      "카이사 : 100 데미지를 입었습니다\n",
      "카이사 : 현재 체력은 350입니다 \n"
     ]
    }
   ],
   "source": [
    "AttackUnit(\"카이사\",450,55).damaged(100)"
   ]
  },
  {
   "cell_type": "code",
   "execution_count": 47,
   "metadata": {},
   "outputs": [
    {
     "data": {
      "text/plain": [
       "<__main__.AttackUnit at 0x20f325312e8>"
      ]
     },
     "execution_count": 47,
     "metadata": {},
     "output_type": "execute_result"
    }
   ],
   "source": [
    "kaisa"
   ]
  },
  {
   "cell_type": "code",
   "execution_count": null,
   "metadata": {},
   "outputs": [],
   "source": []
  }
 ],
 "metadata": {
  "kernelspec": {
   "display_name": "Python 3",
   "language": "python",
   "name": "python3"
  },
  "language_info": {
   "codemirror_mode": {
    "name": "ipython",
    "version": 3
   },
   "file_extension": ".py",
   "mimetype": "text/x-python",
   "name": "python",
   "nbconvert_exporter": "python",
   "pygments_lexer": "ipython3",
   "version": "3.7.3"
  }
 },
 "nbformat": 4,
 "nbformat_minor": 2
}
